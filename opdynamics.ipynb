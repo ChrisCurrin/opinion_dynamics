{
 "cells": [
  {
   "cell_type": "markdown",
   "metadata": {},
   "source": [
    "# Depolarization of opinions"
   ]
  },
  {
   "cell_type": "markdown",
   "metadata": {
    "cell_style": "center",
    "collapsed": true,
    "pycharm": {
     "name": "#%% md\n"
    }
   },
   "source": [
    "Let us consider a system of $N$ agents, each agent $i$\n",
    "characterized by a dynamic opinion variable $x_i(t)$. For\n",
    "the sake of simplicity, we consider opinions to be one dimensional,\n",
    "with $x_i \\in [-\\infty;+\\infty]$. The sign of the opinion\n",
    "$x_i$, $\\sigma(x_i)$, describes the agent's qualitative stance towards\n",
    " a binary issue of choice, such as the preference\n",
    "between two candidates or a pro/con attitude in a controversial\n",
    "topic. The absolute value of $x_i$, $|x_i|$, describes\n",
    "the opinion's strength, or conviction, with respect to one\n",
    "of the sides: the larger $|x_i|$, the more extreme the opinion\n",
    "of agent $i$."
   ]
  },
  {
   "cell_type": "markdown",
   "metadata": {},
   "source": [
    "## Colab Setup"
   ]
  },
  {
   "cell_type": "code",
   "execution_count": null,
   "metadata": {
    "ExecuteTime": {
     "end_time": "2020-05-25T16:13:36.680941Z",
     "start_time": "2020-05-25T16:13:36.662944Z"
    },
    "init_cell": true
   },
   "outputs": [],
   "source": [
    "try:\n",
    "    # connect GDrive for retrieving/saving results\n",
    "    from google.colab import drive\n",
    "    drive.mount('/content/drive')\n",
    "\n",
    "    # Clone github repository\n",
    "    from os.path import join  \n",
    "    GIT_USERNAME = \"chriscurrin\"\n",
    "    GIT_TOKEN = \"bbf24b4521d81a3893d6c93eb806d41b47322a33\"  \n",
    "    GIT_REPOSITORY = \"opinion_dynamics\" \n",
    "    GIT_PATH = \"https://\" + GIT_TOKEN + \"@github.com/\" + GIT_USERNAME + \"/\" + GIT_REPOSITORY + \".git\"\n",
    "    !git clone \"{GIT_PATH}\" ./temp\n",
    "\n",
    "    # add to path\n",
    "    import sys\n",
    "    sys.path.append('./temp')\n",
    "    # need latest tqdm version for tenumerate\n",
    "    !pip install --upgrade tqdm \n",
    "    # create symlink between a Drive folder and the cache for persistence between sessions\n",
    "    !ln -s \"/content/drive/My Drive/Colab Notebooks/opdynamics\" \".cache\"\n",
    "except ModuleNotFoundError:\n",
    "    print(\"local notebook\")\n",
    "    pass"
   ]
  },
  {
   "cell_type": "markdown",
   "metadata": {},
   "source": [
    "## Imports and settings"
   ]
  },
  {
   "cell_type": "code",
   "execution_count": null,
   "metadata": {
    "ExecuteTime": {
     "end_time": "2020-05-25T16:13:40.451940Z",
     "start_time": "2020-05-25T16:13:36.805942Z"
    },
    "init_cell": true,
    "pycharm": {
     "name": "#%%\n"
    }
   },
   "outputs": [],
   "source": [
    "%reload_ext autoreload\n",
    "%autoreload 2\n",
    "\n",
    "import logging\n",
    "import itertools\n",
    "\n",
    "import numpy as np\n",
    "import pandas as pd\n",
    "import matplotlib.pyplot as plt\n",
    "import matplotlib.gridspec as gridspec\n",
    "import seaborn as sns\n",
    "\n",
    "from tqdm.notebook import tqdm\n",
    "from matplotlib.ticker import MaxNLocator\n",
    "\n",
    "from opdynamics.utils.distributions import negpowerlaw\n",
    "from opdynamics.utils.plot_utils import move_cbar_label_to_title\n",
    "\n",
    "import opdynamics.simulation as Simulation\n",
    "from opdynamics.dynamics.echochamber import EchoChamber, NoisyEchoChamber, logger as eclogger\n",
    "from opdynamics.visualise.visechochamber import VisEchoChamber\n",
    "from opdynamics.visualise.dense import show_K_alpha_phase, show_activity_vs_opinion\n",
    "\n",
    "from opdynamics.utils.constants import *\n",
    "\n",
    "\n",
    "np.random.seed(1337)\n",
    "sns.set_context(\"notebook\")\n",
    "logging.basicConfig(level=logging.DEBUG)\n",
    "logging.getLogger().setLevel(logging.DEBUG)\n",
    "logging.getLogger('matplotlib').setLevel(logging.INFO)"
   ]
  },
  {
   "cell_type": "markdown",
   "metadata": {},
   "source": [
    "# Example usage"
   ]
  },
  {
   "cell_type": "markdown",
   "metadata": {},
   "source": [
    "## Parameters"
   ]
  },
  {
   "cell_type": "code",
   "execution_count": null,
   "metadata": {
    "ExecuteTime": {
     "end_time": "2020-05-25T16:13:40.554949Z",
     "start_time": "2020-05-25T16:13:40.454955Z"
    },
    "pycharm": {
     "name": "#%%\n"
    }
   },
   "outputs": [],
   "source": [
    "num_agents = 1000\n",
    "m = 10  # number of other agents to interact with\n",
    "alpha = 3  # controversialness of issue (sigmoidal shape)\n",
    "K = 3  # social interaction strength\n",
    "epsilon = 1e-2  # minimum activity level with another agent\n",
    "gamma = 2.1  # power law distribution param\n",
    "beta = 3  # power law decay of connection probability\n",
    "r = 0.5 # probability of a mutual interaction\n",
    "activity_distribution = negpowerlaw"
   ]
  },
  {
   "cell_type": "markdown",
   "metadata": {},
   "source": [
    "## Create EchoChamber"
   ]
  },
  {
   "cell_type": "code",
   "execution_count": null,
   "metadata": {
    "ExecuteTime": {
     "end_time": "2020-05-25T16:13:40.679940Z",
     "start_time": "2020-05-25T16:13:40.557941Z"
    },
    "pycharm": {
     "name": "#%%\n"
    }
   },
   "outputs": [],
   "source": [
    "ec = EchoChamber(num_agents, m, K, alpha)\n",
    "vis = VisEchoChamber(ec)"
   ]
  },
  {
   "cell_type": "markdown",
   "metadata": {
    "pycharm": {
     "name": "#%% md\n"
    }
   },
   "source": [
    "## Set activity based on powerlaw distribution\n",
    "\n",
    "$$ F(a) = \\frac{1 - γ}{1 - ε^{1 - γ}} a^{-\\gamma} \\tag{1}$$"
   ]
  },
  {
   "cell_type": "code",
   "execution_count": null,
   "metadata": {
    "ExecuteTime": {
     "end_time": "2020-05-25T16:13:42.227944Z",
     "start_time": "2020-05-25T16:13:40.683943Z"
    },
    "pycharm": {
     "name": "#%%\n"
    },
    "scrolled": false
   },
   "outputs": [],
   "source": [
    "ec.set_activities(activity_distribution, gamma, epsilon)\n",
    "fig, ax = plt.subplots(1,2, figsize=(8,5))\n",
    "fig.subplots_adjust(wspace=0.3)\n",
    "fig.suptitle(\"t=0\")\n",
    "vis.show_activities(ax=ax[0])\n",
    "vis.show_activity_vs_opinion(ax=ax[1])\n",
    "sns.despine()"
   ]
  },
  {
   "cell_type": "markdown",
   "metadata": {
    "pycharm": {
     "name": "#%% md\n"
    }
   },
   "source": [
    "## Connection probabilities\n",
    "\n",
    "$$ p_{ij} = \\frac{|x_i - x_j|^{-\\beta}}{\\sum_j |x_i - x_j|^{-\\beta}} \\tag{2}$$"
   ]
  },
  {
   "cell_type": "code",
   "execution_count": null,
   "metadata": {
    "ExecuteTime": {
     "end_time": "2020-05-25T16:13:46.259940Z",
     "start_time": "2020-05-25T16:13:42.230941Z"
    },
    "pycharm": {
     "name": "#%%\n"
    }
   },
   "outputs": [],
   "source": [
    "ec.set_connection_probabilities(beta=beta)\n",
    "fig, ax = vis.show_connection_probabilities(\"mesh\", sort=True, \n",
    "                                  cmap=sns.cubehelix_palette(light=1, as_cmap=True), \n",
    "                                  cbar_kws=dict(pad=0.05))\n",
    "# move label to title\n",
    "move_cbar_label_to_title(fig)"
   ]
  },
  {
   "cell_type": "markdown",
   "metadata": {},
   "source": [
    "## Social Interactions\n",
    "- adjacency matrix $A_{ij}(t)$ can be calculated before numerical integration (`lazy=False`) or at time $t$ (`lazy=True`).\n",
    "- Cumulative adjacency matrix $\\sum_{t=0}^T A_{ij}(t)$ can be plotted a number of ways using `vis.show_adjacency_matrix(...)`\n",
    "    - `clustermap`\n",
    "    - `heatmap`\n",
    "    - `mesh`\n",
    "    \n",
    "    Interactions can be sorted using `sort=True` for plotting to identify clusters"
   ]
  },
  {
   "cell_type": "code",
   "execution_count": null,
   "metadata": {
    "ExecuteTime": {
     "end_time": "2020-05-25T16:13:51.464945Z",
     "start_time": "2020-05-25T16:13:46.261952Z"
    }
   },
   "outputs": [],
   "source": [
    "ec.set_social_interactions(0.5, lazy=False, t_end=1, dt=0.01)\n",
    "vis.show_adjacency_matrix(\"mesh\", True)"
   ]
  },
  {
   "cell_type": "markdown",
   "metadata": {
    "pycharm": {
     "name": "#%% md\n"
    }
   },
   "source": [
    "## Dynamics\n",
    "\n",
    "\n",
    "Assuming that the opinion dynamics is solely\n",
    "driven by the interactions among agents, we formulate\n",
    "the model as $N$ coupled ordinary differential equations,\n",
    "\n",
    "$$ \\dot{x_i} = -x_i + K \\sum_{j=1}^{N} A_{ij}(t) \\tanh(\\alpha x_j) \\tag{3}$$\n",
    "\n",
    "where K > 0 denotes the social interaction strength\n",
    "among agents and $\\alpha$ determines the sigmoidal shape of\n",
    "the hyperbolic tangent. The opinion of an agent $i$ follows\n",
    "the aggregated social input from the set of his/her neighbors\n",
    "at time $t$, determined by the symmetric adjacency\n",
    "matrix of the temporal network $A_{ij}(t)$, where $A_{ij}(t) = 1$\n",
    "if agents $i$ and $j$ are interacting at time $t$, $A_{ij}(t) = 0$\n",
    "otherwise. A similar model with static connectivity has\n",
    "previously been used to describe the dynamics of neural\n",
    "networks showing a transition from stationary to chaotic\n",
    "phase [30].\n",
    "The parameter $\\alpha > 0$ tunes the degree of non-linearity\n",
    "between an agent's opinion and the social influence s/he exerts on others."
   ]
  },
  {
   "cell_type": "code",
   "execution_count": null,
   "metadata": {
    "ExecuteTime": {
     "end_time": "2020-05-25T16:13:51.617942Z",
     "start_time": "2020-05-25T16:13:51.467945Z"
    },
    "pycharm": {
     "name": "#%%\n"
    }
   },
   "outputs": [],
   "source": [
    "ec.set_dynamics()"
   ]
  },
  {
   "cell_type": "markdown",
   "metadata": {
    "pycharm": {
     "name": "#%% md\n"
    }
   },
   "source": [
    "## Run and plot results"
   ]
  },
  {
   "cell_type": "code",
   "execution_count": null,
   "metadata": {
    "ExecuteTime": {
     "end_time": "2020-05-25T16:13:52.258944Z",
     "start_time": "2020-05-25T16:13:51.625950Z"
    },
    "pycharm": {
     "name": "#%%\n"
    }
   },
   "outputs": [],
   "source": [
    "ec.run_network(dt=0.01, t_end=0.5, method='Euler')"
   ]
  },
  {
   "cell_type": "code",
   "execution_count": null,
   "metadata": {
    "ExecuteTime": {
     "end_time": "2020-05-25T16:14:33.888942Z",
     "start_time": "2020-05-25T16:13:52.262945Z"
    },
    "pycharm": {
     "name": "#%%\n"
    }
   },
   "outputs": [],
   "source": [
    "# some options on how to plot\n",
    "fig, ax = plt.subplots(nrows=3, sharex='col', sharey='col', figsize=(6,6))\n",
    "fig.subplots_adjust(hspace=0.05)\n",
    "vis.show_opinions(color_code=True, ax=ax[0], title=True)    # markers\n",
    "vis.show_opinions(color_code='line', ax=ax[1], title=False)  # lines (slowest)\n",
    "vis.show_opinions(color_code=False, ax=ax[2], title=False)   # agents uniquely coloured\n",
    "sns.despine(fig)"
   ]
  },
  {
   "cell_type": "markdown",
   "metadata": {},
   "source": [
    "## Save/Load\n",
    "\n",
    "Given the same parameters, a network can be restored without explicitly calling `run_network`. \n",
    "\n",
    "If a simulation exists for the network parameters, `ec.load()` restores the saved states and returns `True` (returns `False` otherwise)."
   ]
  },
  {
   "cell_type": "code",
   "execution_count": null,
   "metadata": {
    "ExecuteTime": {
     "end_time": "2020-05-25T16:14:34.402941Z",
     "start_time": "2020-05-25T16:14:33.892944Z"
    }
   },
   "outputs": [],
   "source": [
    "filename = ec.save()\n",
    "new_ec = EchoChamber(num_agents, m, K, alpha)\n",
    "new_ec.set_activities(activity_distribution, gamma, epsilon)\n",
    "new_ec.set_connection_probabilities(beta=beta)\n",
    "new_ec.set_social_interactions(0.5, lazy=True) # note only the `r` is the important parameter\n",
    "new_ec.set_dynamics()\n",
    "new_ec.load()"
   ]
  },
  {
   "cell_type": "markdown",
   "metadata": {
    "cell_style": "center",
    "pycharm": {
     "name": "#%% md\n"
    }
   },
   "source": [
    "# Example results\n",
    "\n",
    "> The convenient `Simulation.run_params` static method is used."
   ]
  },
  {
   "cell_type": "code",
   "execution_count": null,
   "metadata": {
    "ExecuteTime": {
     "end_time": "2020-05-25T16:14:34.530946Z",
     "start_time": "2020-05-25T16:14:34.404944Z"
    },
    "cell_style": "center",
    "pycharm": {
     "name": "#%%\n"
    }
   },
   "outputs": [],
   "source": [
    "# General params\n",
    "\n",
    "N=1000\n",
    "m=10\n",
    "T=10\n",
    "epsilon=1e-2\n",
    "gamma=2.1\n",
    "r=0.5 # probability of mutual interaction\n",
    "dt=0.01\n",
    "\n",
    "# Specific params for different dynamics\n",
    "param_set={\n",
    "    \"neutral\": dict(K=3,alpha=0.05,beta=2),\n",
    "    \"radical\": dict(K=3,alpha=3,beta=0),\n",
    "    \"polar\": dict(K=3,alpha=3,beta=3)\n",
    "    }"
   ]
  },
  {
   "cell_type": "markdown",
   "metadata": {
    "cell_style": "center",
    "pycharm": {
     "name": "#%% md\n"
    }
   },
   "source": [
    "## Neutral opinion\n",
    "\n",
    "- $K = 3$\n",
    "- $\\alpha = 0.05$\n",
    "- $beta = 2$"
   ]
  },
  {
   "cell_type": "code",
   "execution_count": null,
   "metadata": {
    "ExecuteTime": {
     "end_time": "2020-05-25T16:15:08.304184Z",
     "start_time": "2020-05-25T16:14:34.535943Z"
    },
    "cell_style": "center",
    "pycharm": {
     "name": "#%%\n"
    },
    "scrolled": false
   },
   "outputs": [],
   "source": [
    "ec_neutral = Simulation.run_params(EchoChamber, N=N, m=m, **param_set['neutral'],\n",
    "                                   activity=activity_distribution, epsilon=epsilon, gamma=gamma,\n",
    "                                   dt=0.01, T=T, r=r,\n",
    "                                   plot_opinion=True)\n",
    "sns.despine()"
   ]
  },
  {
   "cell_type": "markdown",
   "metadata": {},
   "source": [
    "## Radicalisation of opinions\n",
    "\n",
    "- $K = 3$\n",
    "- $\\alpha = 3$\n",
    "- $beta = 0$"
   ]
  },
  {
   "cell_type": "code",
   "execution_count": null,
   "metadata": {
    "ExecuteTime": {
     "end_time": "2020-05-25T16:16:26.397942Z",
     "start_time": "2020-05-25T16:15:08.306943Z"
    },
    "pycharm": {
     "name": "#%%\n"
    }
   },
   "outputs": [],
   "source": [
    "ec_radical = Simulation.run_params(EchoChamber, N=N, m=m, **param_set['radical'],\n",
    "                                   activity=activity_distribution, epsilon=epsilon, gamma=gamma,\n",
    "                                   dt=0.01, T=T, r=r,\n",
    "                                   plot_opinion=True)\n",
    "sns.despine()"
   ]
  },
  {
   "cell_type": "markdown",
   "metadata": {},
   "source": [
    "## Polarisation of opinions\n",
    "\n",
    "- $K = 3$\n",
    "- $\\alpha = 3$\n",
    "- $beta = 3$"
   ]
  },
  {
   "cell_type": "code",
   "execution_count": null,
   "metadata": {
    "ExecuteTime": {
     "end_time": "2020-05-25T16:17:52.719944Z",
     "start_time": "2020-05-25T16:16:26.400942Z"
    },
    "pycharm": {
     "name": "#%%\n"
    }
   },
   "outputs": [],
   "source": [
    "ec_polar = Simulation.run_params(EchoChamber, N=N, m=m, **param_set['polar'],\n",
    "                                 activity=activity_distribution, epsilon=epsilon, gamma=gamma,\n",
    "                                 dt=0.01, T=T, r=r,\n",
    "                                 plot_opinion=True)\n",
    "sns.despine()"
   ]
  },
  {
   "cell_type": "markdown",
   "metadata": {},
   "source": [
    "## Compare opinons"
   ]
  },
  {
   "cell_type": "code",
   "execution_count": null,
   "metadata": {
    "ExecuteTime": {
     "end_time": "2020-05-25T16:18:56.094942Z",
     "start_time": "2020-05-25T16:17:52.722945Z"
    }
   },
   "outputs": [],
   "source": [
    "fig = plt.figure(constrained_layout=True)\n",
    "spec = gridspec.GridSpec(nrows=2, ncols=2, figure=fig)\n",
    "f_ax1 = fig.add_subplot(spec[0, 0]) # top left\n",
    "f_ax2 = fig.add_subplot(spec[1, 0]) # bottom left\n",
    "f_ax3 = fig.add_subplot(spec[:, 1]) # right column\n",
    "\n",
    "VisEchoChamber(ec_neutral).show_opinions(ax=f_ax1, title=\"Neutral\")\n",
    "VisEchoChamber(ec_radical).show_opinions(ax=f_ax2, title=\"Radicalised\")\n",
    "VisEchoChamber(ec_polar).show_opinions(ax=f_ax3, title=\"Polarised\")\n",
    "sns.despine()"
   ]
  },
  {
   "cell_type": "markdown",
   "metadata": {},
   "source": [
    "# Plot types"
   ]
  },
  {
   "cell_type": "markdown",
   "metadata": {},
   "source": [
    "## $K-\\alpha$ phase space\n",
    "\n",
    "- $K \\in [0,4]$\n",
    "- $\\alpha \\in [0,4]$\n",
    "\n",
    "with\n",
    "- $beta = 0.5$\n",
    "- $r = 0.5$\n"
   ]
  },
  {
   "cell_type": "code",
   "execution_count": null,
   "metadata": {
    "ExecuteTime": {
     "end_time": "2020-05-25T16:18:56.268943Z",
     "start_time": "2020-05-25T16:18:56.096946Z"
    },
    "pycharm": {
     "name": "#%%\n"
    }
   },
   "outputs": [],
   "source": [
    "import os\n",
    "import gc\n",
    "from tqdm.notebook import tqdm\n",
    "eclogger.setLevel(logging.DEBUG)\n",
    "\n",
    "beta = 0.5\n",
    "r = 0.5\n",
    "\n",
    "\n",
    "# how many simulations to run\n",
    "num_states = 8\n",
    "start = 0\n",
    "stop = 4\n",
    "K_range = np.round(np.linspace(start,stop,num_states), 2)\n",
    "alpha_range = np.round(np.linspace(start,stop,num_states), 2)\n",
    "\n",
    "\n",
    "# where to save the file\n",
    "file_name = \"K-alpha-phase.h5\"\n",
    "\n",
    "# the efficient HDF format is used for saving and loading DataFrames.\n",
    "if os.path.exists(file_name):\n",
    "    df = pd.read_hdf(file_name)\n",
    "else:\n",
    "    df = pd.DataFrame(index=K_range, columns=alpha_range, dtype=float)\n",
    "    for K,alpha in tqdm(itertools.product(K_range,alpha_range)):\n",
    "        ec = Simulation.run_params(EchoChamber,N=N, m=m, K=K, alpha=alpha, beta=beta, \n",
    "                                   activity=activity_distribution, epsilon=epsilon, gamma=gamma,\n",
    "                                   dt=dt, T=T, r=r,\n",
    "                                   lazy=True, plot_opinion=True)\n",
    "        t, mu = ec.get_mean_opinion(-1)\n",
    "        df.loc[K, alpha] = mu\n",
    "        # clear some memory\n",
    "        del ec\n",
    "        gc.collect()\n",
    "    df.to_hdf(file_name, key='df')\n"
   ]
  },
  {
   "cell_type": "code",
   "execution_count": null,
   "metadata": {
    "ExecuteTime": {
     "end_time": "2020-05-25T16:18:56.721941Z",
     "start_time": "2020-05-25T16:18:56.270941Z"
    },
    "pycharm": {
     "name": "#%%\n"
    }
   },
   "outputs": [],
   "source": [
    "show_K_alpha_phase(df)"
   ]
  },
  {
   "cell_type": "markdown",
   "metadata": {
    "pycharm": {
     "name": "#%% md\n"
    }
   },
   "source": [
    "## Activity vs Opinion\n",
    "\n",
    "- $K = 2$\n",
    "- $\\alpha = 3$\n",
    "- $\\beta = 1$\n",
    "- $r = 0.65$"
   ]
  },
  {
   "cell_type": "markdown",
   "metadata": {},
   "source": [
    "> to reproduce the density in the papers, $10^3$ \"opinion states\" need to be plotted, with each opinion state consisting of 1000 agents' opinions."
   ]
  },
  {
   "cell_type": "code",
   "execution_count": null,
   "metadata": {
    "ExecuteTime": {
     "end_time": "2020-05-25T16:18:57.056942Z",
     "start_time": "2020-05-25T16:18:56.723962Z"
    },
    "pycharm": {
     "name": "#%%\n"
    },
    "scrolled": true
   },
   "outputs": [],
   "source": [
    "from tqdm.notebook import tqdm\n",
    "\n",
    "# suppress logging for clean progressbar\n",
    "logging_level = logging.getLogger().getEffectiveLevel()\n",
    "logging.getLogger().setLevel(logging.WARNING)\n",
    "\n",
    "# parameters\n",
    "N=1000\n",
    "m=10\n",
    "T=5\n",
    "activity_distribution=negpowerlaw\n",
    "epsilon=1e-2\n",
    "gamma=2.1\n",
    "dt=0.01\n",
    "K=2\n",
    "beta=1\n",
    "alpha=3\n",
    "r=0.65\n",
    "\n",
    "# how many simulations to run\n",
    "num_states = 10\n",
    "\n",
    "# where to save the file\n",
    "file_name = \"activity_vs_opinion.h5\"\n",
    "\n",
    "# helper array\n",
    "agent_indices = np.arange(N, dtype=int)\n",
    "\n",
    "# the efficient HDF format is used for saving and loading DataFrames.\n",
    "with pd.HDFStore(file_name) as hdf:\n",
    "    # get keys from the store to know how many simulations have already been saved\n",
    "    states = hdf.keys()\n",
    "    states_completed = len(states)\n",
    "    # we start iterating from states_completed as the `seed` parameter uses `i`\n",
    "    for i in tqdm(range(states_completed, num_states)):\n",
    "        ec = Simulation.run_params(EchoChamber,N,m,K,alpha,beta,\n",
    "                                   activity_distribution,epsilon,gamma,dt,T,r,lazy=True,\n",
    "                                   seed=i)\n",
    "        # create dataframe for this iteration\n",
    "        df = pd.DataFrame({\"activity\": ec.activities,\n",
    "                           \"opinion\": ec.opinions\n",
    "                          })\n",
    "        # save to disk for use later\n",
    "        hdf.append(f\"d{i}\", df)\n",
    "\n",
    "# return to previous logging (more or less - we change root level)\n",
    "logging.getLogger().setLevel(logging_level)\n"
   ]
  },
  {
   "cell_type": "code",
   "execution_count": null,
   "metadata": {
    "ExecuteTime": {
     "end_time": "2020-05-25T16:18:58.245978Z",
     "start_time": "2020-05-25T16:18:57.059945Z"
    }
   },
   "outputs": [],
   "source": [
    "# collect all data into a dataframe\n",
    "with pd.HDFStore(file_name) as hdf:\n",
    "    df_ao = pd.concat([hdf.get(key) for key in hdf.keys()])\n",
    "df_ao.shape"
   ]
  },
  {
   "cell_type": "code",
   "execution_count": null,
   "metadata": {
    "ExecuteTime": {
     "end_time": "2020-05-25T16:19:00.332944Z",
     "start_time": "2020-05-25T16:18:58.247944Z"
    },
    "scrolled": true
   },
   "outputs": [],
   "source": [
    "# plot everything\n",
    "fig, ax = show_activity_vs_opinion(df_ao.opinion.values, df_ao.activity.values)\n",
    "ax.set_ylim(0, 0.5)\n",
    "sns.despine()"
   ]
  },
  {
   "cell_type": "code",
   "execution_count": null,
   "metadata": {
    "ExecuteTime": {
     "end_time": "2020-05-25T16:19:00.460944Z",
     "start_time": "2020-05-25T16:19:00.335944Z"
    }
   },
   "outputs": [],
   "source": [
    "# clear up some ram\n",
    "del df_ao"
   ]
  },
  {
   "cell_type": "markdown",
   "metadata": {
    "pycharm": {
     "name": "#%% md\n"
    }
   },
   "source": [
    "## Show adjacency matrix"
   ]
  },
  {
   "cell_type": "code",
   "execution_count": null,
   "metadata": {
    "ExecuteTime": {
     "end_time": "2020-05-25T16:19:14.324974Z",
     "start_time": "2020-05-25T16:19:00.462947Z"
    },
    "pycharm": {
     "name": "#%%\n"
    },
    "scrolled": false
   },
   "outputs": [],
   "source": [
    "vis = VisEchoChamber(ec_polar)\n",
    "vis.show_adjacency_matrix(\"clustermap\", ax=False, fig=False, sort=False)\n",
    "fig, ax = plt.subplots(2, 1, figsize=(10,20))\n",
    "vis.show_adjacency_matrix(\"heatmap\", sort=True, square=True, ax=ax[0])\n",
    "vis.show_adjacency_matrix(\"mesh\", sort=True, ax=ax[1])\n"
   ]
  },
  {
   "cell_type": "markdown",
   "metadata": {},
   "source": [
    "## Agent opinons at $t$"
   ]
  },
  {
   "cell_type": "code",
   "execution_count": null,
   "metadata": {
    "ExecuteTime": {
     "end_time": "2020-05-25T16:19:17.687940Z",
     "start_time": "2020-05-25T16:19:14.333942Z"
    },
    "pycharm": {
     "name": "#%%\n"
    }
   },
   "outputs": [],
   "source": [
    "fig, ax = plt.subplots(2, 1, figsize=(10,10), sharex=True)\n",
    "fig.subplots_adjust(hspace=0.3)\n",
    "vis.show_agent_opinions(direction=True, sort=True, ax=ax[0])\n",
    "vis.show_opinions_snapshot(ax=ax[1], kde_kws=dict(shade=True))\n",
    "ax[1].set_xticklabels(ax[1].get_xticks())\n",
    "sns.despine()"
   ]
  },
  {
   "cell_type": "code",
   "execution_count": null,
   "metadata": {
    "ExecuteTime": {
     "end_time": "2020-05-25T16:19:39.612943Z",
     "start_time": "2020-05-25T16:19:17.691943Z"
    }
   },
   "outputs": [],
   "source": [
    "fig, ax = plt.subplots(1, 2, gridspec_kw=dict(width_ratios=[2,1]))\n",
    "fig.subplots_adjust(wspace=0.1)\n",
    "vis.show_opinions(ax=ax[0], title=\"Polarised\")\n",
    "vis.show_opinions_snapshot(ax=ax[1], kde_kws=dict(shade=False, bw=0.15), vertical=True)\n",
    "sns.despine()\n",
    "sns.despine(ax=ax[1], left=True)\n",
    "ax[1].set_ylabel(\"\")\n",
    "ax[1].tick_params(axis='y', left=False, labelleft=False)"
   ]
  },
  {
   "cell_type": "markdown",
   "metadata": {},
   "source": [
    "## Nearest Neighbour"
   ]
  },
  {
   "cell_type": "code",
   "execution_count": null,
   "metadata": {
    "ExecuteTime": {
     "end_time": "2020-05-25T16:19:41.914943Z",
     "start_time": "2020-05-25T16:19:39.616946Z"
    },
    "pycharm": {
     "name": "#%%\n"
    }
   },
   "outputs": [],
   "source": [
    "g = vis.show_nearest_neighbour(bw=1.)\n",
    "# adjust limits based on xaxis\n",
    "from scipy import stats\n",
    "x_data, y_data = g.ax_marg_x.get_lines()[0].get_data()\n",
    "s = stats.describe(y_data)\n",
    "low_bound = np.max(s.mean-s.variance, 0)\n",
    "mask = (low_bound < y_data)\n",
    "lim = x_data[mask][0]*1.5, x_data[mask][-1]*1.5\n",
    "g.ax_joint.set_xlim(*lim)\n",
    "# keep it 'square' (xlim == ylim)\n",
    "g.ax_joint.set_ylim(*lim)"
   ]
  },
  {
   "cell_type": "code",
   "execution_count": null,
   "metadata": {
    "ExecuteTime": {
     "end_time": "2020-05-25T16:21:03.836941Z",
     "start_time": "2020-05-25T16:20:35.976946Z"
    }
   },
   "outputs": [],
   "source": [
    "# try \"paper\" \"poster\" \"talk\" or \"notebook\"\n",
    "with sns.plotting_context(\"notebook\"):\n",
    "    fig, ax = vis.show_summary(fig_kwargs=dict(figsize=(12,12), constrained_layout=False))\n",
    "fig.subplots_adjust(wspace=0.5, hspace=0.5)\n",
    "sns.despine()"
   ]
  },
  {
   "cell_type": "markdown",
   "metadata": {},
   "source": [
    "# Noisy Echo Chamber"
   ]
  },
  {
   "cell_type": "code",
   "execution_count": null,
   "metadata": {
    "ExecuteTime": {
     "end_time": "2020-05-25T16:48:49.039194Z",
     "start_time": "2020-05-25T16:48:40.031437Z"
    }
   },
   "outputs": [],
   "source": [
    "# suppress logging for clean progressbar\n",
    "logging_level = logging.getLogger().getEffectiveLevel()\n",
    "logging.getLogger().setLevel(logging.WARNING)\n",
    "kwargs = dict(N=1000,\n",
    "              m=10,\n",
    "              T=5,\n",
    "              epsilon=1e-2,\n",
    "              gamma=2.1,\n",
    "              dt=0.005,\n",
    "              K=2,\n",
    "              beta=1,\n",
    "              alpha=3,\n",
    "              r=0.65,\n",
    "             )\n",
    "D_range = [0, 0.01, 0.1, 1, 10]\n",
    "nec_arr = Simulation.run_noise_range(D_range, plot_opinion=True, **kwargs)\n",
    "fig = plt.gcf()\n",
    "fig.subplots_adjust(hspace=-0.5)\n",
    "for ax in fig.axes:\n",
    "    ax.set_facecolor(\"None\")\n",
    "    sns.despine(ax=ax, bottom=True, left=True)\n",
    "    ax.tick_params(bottom=False, left=False, labelleft=False)\n",
    "logging.getLogger().setLevel(logging_level)"
   ]
  },
  {
   "cell_type": "markdown",
   "metadata": {},
   "source": [
    "## Check `dt` with noise"
   ]
  },
  {
   "cell_type": "code",
   "execution_count": null,
   "metadata": {
    "ExecuteTime": {
     "end_time": "2020-05-25T16:20:12.850943Z",
     "start_time": "2020-05-25T16:13:40.556Z"
    }
   },
   "outputs": [],
   "source": [
    "from tqdm.notebook import tqdm\n",
    "\n",
    "# suppress logging for clean progressbar\n",
    "logging_level = logging.getLogger().getEffectiveLevel()\n",
    "logging.getLogger().setLevel(logging.WARNING)\n",
    "kwargs = dict(N=1000,\n",
    "              m=10,\n",
    "              T=1,\n",
    "              epsilon=1e-2,\n",
    "              gamma=2.1,\n",
    "              dt=0.001,\n",
    "              K=2,\n",
    "              beta=1,\n",
    "              alpha=3,\n",
    "              r=0.65,\n",
    "             )\n",
    "D_range = [0, 0.01, 0.1, 1, 10]\n",
    "for dt in tqdm(np.arange(0.001, 0.01+0.001, 0.001)):\n",
    "    kwargs[\"dt\"] = dt\n",
    "    nec_arr = Simulation.run_noise_range(D_range, plot_opinion=True, **kwargs)\n",
    "    fig = plt.gcf()\n",
    "    fig.suptitle(f\"dt = {dt:.3f}\")\n",
    "logging.getLogger().setLevel(logging_level)"
   ]
  },
  {
   "cell_type": "markdown",
   "metadata": {},
   "source": [
    "## $\\beta$ vs noise"
   ]
  },
  {
   "cell_type": "code",
   "execution_count": null,
   "metadata": {
    "ExecuteTime": {
     "end_time": "2020-05-25T16:59:29.610683Z",
     "start_time": "2020-05-25T16:52:00.201461Z"
    }
   },
   "outputs": [],
   "source": [
    "from tqdm.notebook import tqdm\n",
    "\n",
    "# suppress logging for clean progressbar\n",
    "logging_level = logging.getLogger().getEffectiveLevel()\n",
    "logging.getLogger().setLevel(logging.WARNING)\n",
    "kwargs = dict(N=1000,\n",
    "              m=10,\n",
    "              T=5,\n",
    "              epsilon=1e-2,\n",
    "              gamma=2.1,\n",
    "              dt=0.001,\n",
    "              K=2,\n",
    "              beta=1,\n",
    "              alpha=3,\n",
    "              r=0.65,\n",
    "             )\n",
    "D_range = [0, 0.01, 0.1, 0.5, 1]\n",
    "for beta in tqdm([0, 1, 2, 3]):\n",
    "    kwargs[\"beta\"] = beta\n",
    "    nec_arr = Simulation.run_noise_range(D_range, plot_opinion=True, **kwargs)\n",
    "    fig = plt.gcf()\n",
    "    fig.suptitle(f\"beta = {beta:.3f}\")\n",
    "    fig.subplots_adjust(hspace=-0.5)\n",
    "    for ax in fig.axes:\n",
    "        ax.set_facecolor(\"None\")\n",
    "        sns.despine(ax=ax, bottom=True, left=True)\n",
    "        ax.tick_params(bottom=False, left=False, labelleft=False)\n",
    "logging.getLogger().setLevel(logging_level)"
   ]
  },
  {
   "cell_type": "markdown",
   "metadata": {},
   "source": [
    "## $\\alpha$ vs noise"
   ]
  },
  {
   "cell_type": "code",
   "execution_count": null,
   "metadata": {
    "ExecuteTime": {
     "end_time": "2020-05-25T22:14:39.992944Z",
     "start_time": "2020-05-25T21:35:00.362708Z"
    },
    "scrolled": false
   },
   "outputs": [],
   "source": [
    "from tqdm.notebook import tqdm\n",
    "\n",
    "# suppress logging for clean progressbar\n",
    "logging_level = logging.getLogger().getEffectiveLevel()\n",
    "logging.getLogger().setLevel(logging.WARNING)\n",
    "kwargs = dict(N=1000,\n",
    "              m=10,\n",
    "              T=5,\n",
    "              epsilon=1e-2,\n",
    "              gamma=2.1,\n",
    "              dt=0.001,\n",
    "              K=2,\n",
    "              beta=1,\n",
    "              alpha=3,\n",
    "              r=0.65,\n",
    "             )\n",
    "D_range = [0, 0.01, 0.1, 0.5, 1]\n",
    "for alpha in tqdm([0.001, 1, 2, 3]):\n",
    "    kwargs[\"alpha\"] = alpha\n",
    "    nec_arr = Simulation.run_noise_range(D_range, plot_opinion=True, **kwargs)\n",
    "    fig = plt.gcf()\n",
    "    fig.suptitle(f\"beta = {beta:.3f}\")\n",
    "logging.getLogger().setLevel(logging_level)\n"
   ]
  },
  {
   "cell_type": "code",
   "execution_count": null,
   "metadata": {
    "ExecuteTime": {
     "end_time": "2020-05-25T16:20:12.856941Z",
     "start_time": "2020-05-25T16:13:40.922Z"
    }
   },
   "outputs": [],
   "source": [
    "fig, ax = plt.subplots()\n",
    "df[0].plot(ax=ax, cmap='Greens', lw=0.1, legend=False)\n",
    "df[10].plot(ax=ax, cmap='Purples', lw=0.1, legend=False)"
   ]
  },
  {
   "cell_type": "markdown",
   "metadata": {},
   "source": [
    "## Delayed noise"
   ]
  },
  {
   "cell_type": "code",
   "execution_count": null,
   "metadata": {
    "ExecuteTime": {
     "end_time": "2020-05-25T22:20:58.081940Z",
     "start_time": "2020-05-25T22:14:41.154943Z"
    }
   },
   "outputs": [],
   "source": [
    "# suppress logging for clean progressbar\n",
    "logging_level = logging.getLogger().getEffectiveLevel()\n",
    "logging.getLogger().setLevel(logging.WARNING)\n",
    "kwargs = dict(N=1000,\n",
    "              m=10,\n",
    "              activity_distribution = negpowerlaw,\n",
    "              epsilon=1e-2,\n",
    "              gamma=2.1,\n",
    "              dt=0.001,\n",
    "              K=3,\n",
    "              beta=3,\n",
    "              alpha=3,\n",
    "              r=0.65           \n",
    "             )\n",
    "D=0.1\n",
    "\n",
    "noise_start = 10.\n",
    "noise_length = 10.\n",
    "recovery = 10.\n",
    "num = 1\n",
    "interval = 0\n",
    "nec = Simulation.run_periodic_noise(noise_start, noise_length, recovery, interval=interval, num=num, \n",
    "                                    **kwargs,\n",
    "                                    D=D, plot_opinion=True)\n",
    "logging.getLogger().setLevel(logging_level)"
   ]
  },
  {
   "cell_type": "code",
   "execution_count": null,
   "metadata": {
    "ExecuteTime": {
     "end_time": "2020-05-26T08:58:24.718856Z",
     "start_time": "2020-05-25T22:20:59.208942Z"
    },
    "code_folding": [],
    "scrolled": true
   },
   "outputs": [],
   "source": [
    "from tqdm.notebook import tqdm\n",
    "# suppress logging for clean progressbar\n",
    "logging_level = logging.getLogger().getEffectiveLevel()\n",
    "logging.getLogger().setLevel(logging.WARNING)\n",
    "eclogger.setLevel(logging.WARNING)\n",
    "\n",
    "noise_start = 5.\n",
    "noise_length = 10.\n",
    "recovery = 10.\n",
    "for D in tqdm([0.1, 0.5, 1, 10], desc='noise'):\n",
    "    for num in tqdm([1, 2, 5], desc='num'):\n",
    "        for interval in tqdm([0.1, 0.5, 1, 2], desc='interval'):\n",
    "            nec = Simulation.run_periodic_noise(noise_start, noise_length, recovery, interval=interval, num=num, \n",
    "                                                **kwargs,\n",
    "                                                D=D, plot_opinion=True)\n",
    "            fig = plt.gcf()\n",
    "            fig.suptitle(f\"D={D}, num={num}, interval={interval}\")\n",
    "            fig.savefig(f\"noise_{D}_{num}_{interval}.png\", dpi=500)\n",
    "logging.getLogger().setLevel(logging_level)"
   ]
  },
  {
   "cell_type": "markdown",
   "metadata": {},
   "source": [
    "## TODO: Using Julia"
   ]
  },
  {
   "cell_type": "markdown",
   "metadata": {},
   "source": [
    "`DiffentialEquations.jl`\n",
    "\n",
    "Setup:\n",
    "\n",
    "1. Download Julia and add `julia` to system path.\n",
    "2. `pip install diffeqpy numba`\n",
    "\n",
    "3. Install Python compatibility\n",
    "    ```python\n",
    "   import julia\n",
    "   julia.install()\n",
    "   import diffeqpy\n",
    "   diffeqpy.install()\n",
    "   ```\n",
    "4. Test it works\n",
    "   ```python\n",
    "   from diffeqpy import de\n",
    "   ```"
   ]
  },
  {
   "cell_type": "markdown",
   "metadata": {},
   "source": [
    "### Julia Issues\n",
    "\n",
    "Need to re-specify equation because of element-wise multiplication.\n"
   ]
  }
 ],
 "metadata": {
  "celltoolbar": "Initialization Cell",
  "kernelspec": {
   "display_name": "opinion_dynamics",
   "language": "python",
   "name": "opinion_dynamics"
  },
  "notify_time": "5",
  "toc": {
   "base_numbering": 1,
   "nav_menu": {},
   "number_sections": true,
   "sideBar": true,
   "skip_h1_title": false,
   "title_cell": "Table of Contents",
   "title_sidebar": "Contents",
   "toc_cell": false,
   "toc_position": {},
   "toc_section_display": true,
   "toc_window_display": true
  },
  "varInspector": {
   "cols": {
    "lenName": 16,
    "lenType": 16,
    "lenVar": 40
   },
   "kernels_config": {
    "python": {
     "delete_cmd_postfix": "",
     "delete_cmd_prefix": "del ",
     "library": "var_list.py",
     "varRefreshCmd": "print(var_dic_list())"
    },
    "r": {
     "delete_cmd_postfix": ") ",
     "delete_cmd_prefix": "rm(",
     "library": "var_list.r",
     "varRefreshCmd": "cat(var_dic_list()) "
    }
   },
   "position": {
    "height": "782.5px",
    "left": "1550px",
    "right": "20px",
    "top": "120px",
    "width": "350px"
   },
   "types_to_exclude": [
    "module",
    "function",
    "builtin_function_or_method",
    "instance",
    "_Feature"
   ],
   "window_display": false
  }
 },
 "nbformat": 4,
 "nbformat_minor": 1
}
