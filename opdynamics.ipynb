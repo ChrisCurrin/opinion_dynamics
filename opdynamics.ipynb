{
 "cells": [
  {
   "cell_type": "markdown",
   "metadata": {
    "toc": true
   },
   "source": [
    "<h1>Table of Contents<span class=\"tocSkip\"></span></h1>\n",
    "<div class=\"toc\"><ul class=\"toc-item\"><li><span><a href=\"#Depolarization-of-opinions\" data-toc-modified-id=\"Depolarization-of-opinions-1\"><span class=\"toc-item-num\">1&nbsp;&nbsp;</span>Depolarization of opinions</a></span><ul class=\"toc-item\"><li><span><a href=\"#Colab-Setup\" data-toc-modified-id=\"Colab-Setup-1.1\"><span class=\"toc-item-num\">1.1&nbsp;&nbsp;</span>Colab Setup</a></span></li><li><span><a href=\"#Imports-and-settings\" data-toc-modified-id=\"Imports-and-settings-1.2\"><span class=\"toc-item-num\">1.2&nbsp;&nbsp;</span>Imports and settings</a></span></li></ul></li><li><span><a href=\"#Example-usage\" data-toc-modified-id=\"Example-usage-2\"><span class=\"toc-item-num\">2&nbsp;&nbsp;</span>Example usage</a></span><ul class=\"toc-item\"><li><span><a href=\"#Parameters\" data-toc-modified-id=\"Parameters-2.1\"><span class=\"toc-item-num\">2.1&nbsp;&nbsp;</span>Parameters</a></span></li><li><span><a href=\"#Create-EchoChamber\" data-toc-modified-id=\"Create-EchoChamber-2.2\"><span class=\"toc-item-num\">2.2&nbsp;&nbsp;</span>Create EchoChamber</a></span></li><li><span><a href=\"#Set-activity-based-on-powerlaw-distribution\" data-toc-modified-id=\"Set-activity-based-on-powerlaw-distribution-2.3\"><span class=\"toc-item-num\">2.3&nbsp;&nbsp;</span>Set activity based on powerlaw distribution</a></span></li><li><span><a href=\"#Connection-probabilities\" data-toc-modified-id=\"Connection-probabilities-2.4\"><span class=\"toc-item-num\">2.4&nbsp;&nbsp;</span>Connection probabilities</a></span></li><li><span><a href=\"#Social-Interactions\" data-toc-modified-id=\"Social-Interactions-2.5\"><span class=\"toc-item-num\">2.5&nbsp;&nbsp;</span>Social Interactions</a></span></li><li><span><a href=\"#Dynamics\" data-toc-modified-id=\"Dynamics-2.6\"><span class=\"toc-item-num\">2.6&nbsp;&nbsp;</span>Dynamics</a></span></li><li><span><a href=\"#Run-and-plot-results\" data-toc-modified-id=\"Run-and-plot-results-2.7\"><span class=\"toc-item-num\">2.7&nbsp;&nbsp;</span>Run and plot results</a></span></li><li><span><a href=\"#Save/Load\" data-toc-modified-id=\"Save/Load-2.8\"><span class=\"toc-item-num\">2.8&nbsp;&nbsp;</span>Save/Load</a></span></li></ul></li><li><span><a href=\"#Example-results\" data-toc-modified-id=\"Example-results-3\"><span class=\"toc-item-num\">3&nbsp;&nbsp;</span>Example results</a></span><ul class=\"toc-item\"><li><span><a href=\"#Neutral-opinion\" data-toc-modified-id=\"Neutral-opinion-3.1\"><span class=\"toc-item-num\">3.1&nbsp;&nbsp;</span>Neutral opinion</a></span></li><li><span><a href=\"#Radicalisation-of-opinions\" data-toc-modified-id=\"Radicalisation-of-opinions-3.2\"><span class=\"toc-item-num\">3.2&nbsp;&nbsp;</span>Radicalisation of opinions</a></span></li><li><span><a href=\"#Polarisation-of-opinions\" data-toc-modified-id=\"Polarisation-of-opinions-3.3\"><span class=\"toc-item-num\">3.3&nbsp;&nbsp;</span>Polarisation of opinions</a></span></li><li><span><a href=\"#Compare-opinons\" data-toc-modified-id=\"Compare-opinons-3.4\"><span class=\"toc-item-num\">3.4&nbsp;&nbsp;</span>Compare opinons</a></span></li></ul></li><li><span><a href=\"#Plot-types\" data-toc-modified-id=\"Plot-types-4\"><span class=\"toc-item-num\">4&nbsp;&nbsp;</span>Plot types</a></span><ul class=\"toc-item\"><li><span><a href=\"#$K-\\alpha$-phase-space\" data-toc-modified-id=\"$K-\\alpha$-phase-space-4.1\"><span class=\"toc-item-num\">4.1&nbsp;&nbsp;</span>$K-\\alpha$ phase space</a></span></li><li><span><a href=\"#Activity-vs-Opinion\" data-toc-modified-id=\"Activity-vs-Opinion-4.2\"><span class=\"toc-item-num\">4.2&nbsp;&nbsp;</span>Activity vs Opinion</a></span></li><li><span><a href=\"#Show-adjacency-matrix\" data-toc-modified-id=\"Show-adjacency-matrix-4.3\"><span class=\"toc-item-num\">4.3&nbsp;&nbsp;</span>Show adjacency matrix</a></span></li><li><span><a href=\"#Agent-opinons-at-$t$\" data-toc-modified-id=\"Agent-opinons-at-$t$-4.4\"><span class=\"toc-item-num\">4.4&nbsp;&nbsp;</span>Agent opinons at $t$</a></span></li><li><span><a href=\"#Nearest-Neighbour\" data-toc-modified-id=\"Nearest-Neighbour-4.5\"><span class=\"toc-item-num\">4.5&nbsp;&nbsp;</span>Nearest Neighbour</a></span></li></ul></li><li><span><a href=\"#Noisy-Echo-Chamber\" data-toc-modified-id=\"Noisy-Echo-Chamber-5\"><span class=\"toc-item-num\">5&nbsp;&nbsp;</span>Noisy Echo Chamber</a></span><ul class=\"toc-item\"><li><span><a href=\"#Check-dt-with-noise\" data-toc-modified-id=\"Check-dt-with-noise-5.1\"><span class=\"toc-item-num\">5.1&nbsp;&nbsp;</span>Check <code>dt</code> with noise</a></span></li><li><span><a href=\"#Params-vs-noise\" data-toc-modified-id=\"Params-vs-noise-5.2\"><span class=\"toc-item-num\">5.2&nbsp;&nbsp;</span>Params vs noise</a></span><ul class=\"toc-item\"><li><span><a href=\"#$T_D-=-0$\" data-toc-modified-id=\"$T_D-=-0$-5.2.1\"><span class=\"toc-item-num\">5.2.1&nbsp;&nbsp;</span>$T_D = 0$</a></span></li><li><span><a href=\"#$T_D-=-10$\" data-toc-modified-id=\"$T_D-=-10$-5.2.2\"><span class=\"toc-item-num\">5.2.2&nbsp;&nbsp;</span>$T_D = 10$</a></span></li></ul></li><li><span><a href=\"#Delayed-noise\" data-toc-modified-id=\"Delayed-noise-5.3\"><span class=\"toc-item-num\">5.3&nbsp;&nbsp;</span>Delayed noise</a></span></li><li><span><a href=\"#TODO:-Using-Julia\" data-toc-modified-id=\"TODO:-Using-Julia-5.4\"><span class=\"toc-item-num\">5.4&nbsp;&nbsp;</span>TODO: Using Julia</a></span><ul class=\"toc-item\"><li><span><a href=\"#Julia-Issues\" data-toc-modified-id=\"Julia-Issues-5.4.1\"><span class=\"toc-item-num\">5.4.1&nbsp;&nbsp;</span>Julia Issues</a></span></li></ul></li></ul></li></ul></div>"
   ]
  },
  {
   "cell_type": "markdown",
   "metadata": {},
   "source": [
    "# Depolarization of opinions"
   ]
  },
  {
   "cell_type": "markdown",
   "metadata": {
    "cell_style": "center",
    "collapsed": true,
    "pycharm": {
     "name": "#%% md\n"
    }
   },
   "source": [
    "Let us consider a system of $N$ agents, each agent $i$\n",
    "characterized by a dynamic opinion variable $x_i(t)$. For\n",
    "the sake of simplicity, we consider opinions to be one dimensional,\n",
    "with $x_i \\in [-\\infty;+\\infty]$. The sign of the opinion\n",
    "$x_i$, $\\sigma(x_i)$, describes the agent's qualitative stance towards\n",
    " a binary issue of choice, such as the preference\n",
    "between two candidates or a pro/con attitude in a controversial\n",
    "topic. The absolute value of $x_i$, $|x_i|$, describes\n",
    "the opinion's strength, or conviction, with respect to one\n",
    "of the sides: the larger $|x_i|$, the more extreme the opinion\n",
    "of agent $i$."
   ]
  },
  {
   "cell_type": "markdown",
   "metadata": {},
   "source": [
    "## Colab Setup"
   ]
  },
  {
   "cell_type": "code",
   "execution_count": null,
   "metadata": {
    "ExecuteTime": {
     "end_time": "2020-05-28T21:48:55.230304Z",
     "start_time": "2020-05-28T21:48:54.888309Z"
    },
    "init_cell": true
   },
   "outputs": [],
   "source": [
    "try:\n",
    "    # connect GDrive for retrieving/saving results\n",
    "    from google.colab import drive\n",
    "    drive.mount('/content/drive')\n",
    "\n",
    "    # Clone github repository\n",
    "    from os.path import join  \n",
    "    GIT_USERNAME = \"chriscurrin\"\n",
    "    # TODO: remove this from github before publishing\n",
    "    GIT_TOKEN = \"bbf24b4521d81a3893d6c93eb806d41b47322a33\"  \n",
    "    GIT_REPOSITORY = \"opinion_dynamics\" \n",
    "    GIT_PATH = \"https://\" + GIT_TOKEN + \"@github.com/\" + GIT_USERNAME + \"/\" + GIT_REPOSITORY + \".git\"\n",
    "    !rm -rf ./temp\n",
    "    !git clone \"{GIT_PATH}\" ./temp\n",
    "\n",
    "    # add to path\n",
    "    import sys\n",
    "    sys.path.append('./temp')\n",
    "    # need latest tqdm version for tenumerate\n",
    "    !pip install --upgrade tqdm\n",
    "    # create symlink between a Drive folder and the cache for persistence between sessions\n",
    "    !ln -s \"/content/drive/My Drive/Colab Notebooks/opdynamics/.cache\" \".cache\"\n",
    "    !ln -s \"/content/drive/My Drive/Colab Notebooks/opdynamics/output\" \"output\"\n",
    "except ModuleNotFoundError:\n",
    "    print(\"local notebook\")\n",
    "    pass"
   ]
  },
  {
   "cell_type": "markdown",
   "metadata": {},
   "source": [
    "## Imports and settings"
   ]
  },
  {
   "cell_type": "code",
   "execution_count": null,
   "metadata": {
    "ExecuteTime": {
     "end_time": "2020-05-28T21:48:56.009303Z",
     "start_time": "2020-05-28T21:48:55.563307Z"
    },
    "init_cell": true,
    "pycharm": {
     "name": "#%%\n"
    }
   },
   "outputs": [],
   "source": [
    "%reload_ext autoreload\n",
    "%autoreload 2\n",
    "\n",
    "import logging\n",
    "import itertools\n",
    "import os\n",
    "import numpy as np\n",
    "import pandas as pd\n",
    "import matplotlib.pyplot as plt\n",
    "import matplotlib.gridspec as gridspec\n",
    "import seaborn as sns\n",
    "\n",
    "from tqdm.notebook import tqdm\n",
    "from matplotlib.ticker import MaxNLocator\n",
    "from matplotlib.colors import LogNorm\n",
    "\n",
    "from opdynamics.utils.distributions import negpowerlaw\n",
    "from opdynamics.utils.plot_utils import move_cbar_label_to_title\n",
    "try:\n",
    "    import opdynamics.simulation as Simulation\n",
    "except AttributeError:\n",
    "    print(\"restart runtime\")\n",
    "from opdynamics.dynamics.echochamber import EchoChamber, NoisyEchoChamber, logger as eclogger\n",
    "from opdynamics.visualise.visechochamber import VisEchoChamber\n",
    "from opdynamics.visualise.dense import show_K_alpha_phase, show_activity_vs_opinion\n",
    "\n",
    "from opdynamics.utils.constants import *\n",
    "\n",
    "try:\n",
    "    os.makedirs(\"output\")\n",
    "except FileExistsError:\n",
    "    pass\n",
    "\n",
    "np.random.seed(1337)\n",
    "sns.set_context(\"notebook\")\n",
    "logging.basicConfig(level=logging.DEBUG)\n",
    "logging.getLogger().setLevel(logging.DEBUG)\n",
    "logging.getLogger('matplotlib').setLevel(logging.INFO)"
   ]
  },
  {
   "cell_type": "markdown",
   "metadata": {},
   "source": [
    "# Example usage"
   ]
  },
  {
   "cell_type": "markdown",
   "metadata": {},
   "source": [
    "## Parameters"
   ]
  },
  {
   "cell_type": "code",
   "execution_count": null,
   "metadata": {
    "ExecuteTime": {
     "end_time": "2020-05-28T21:48:57.355305Z",
     "start_time": "2020-05-28T21:48:56.943343Z"
    },
    "pycharm": {
     "name": "#%%\n"
    }
   },
   "outputs": [],
   "source": [
    "num_agents = 1000\n",
    "m = 10  # number of other agents to interact with\n",
    "alpha = 3  # controversialness of issue (sigmoidal shape)\n",
    "K = 3  # social interaction strength\n",
    "epsilon = 1e-2  # minimum activity level with another agent\n",
    "gamma = 2.1  # power law distribution param\n",
    "beta = 3  # power law decay of connection probability\n",
    "r = 0.5 # probability of a mutual interaction\n",
    "activity_distribution = negpowerlaw"
   ]
  },
  {
   "cell_type": "markdown",
   "metadata": {},
   "source": [
    "## Create EchoChamber"
   ]
  },
  {
   "cell_type": "code",
   "execution_count": null,
   "metadata": {
    "ExecuteTime": {
     "end_time": "2020-05-28T21:48:58.075305Z",
     "start_time": "2020-05-28T21:48:57.645307Z"
    },
    "pycharm": {
     "name": "#%%\n"
    }
   },
   "outputs": [],
   "source": [
    "ec = EchoChamber(num_agents, m, K, alpha)\n",
    "vis = VisEchoChamber(ec)"
   ]
  },
  {
   "cell_type": "markdown",
   "metadata": {
    "pycharm": {
     "name": "#%% md\n"
    }
   },
   "source": [
    "## Set activity based on powerlaw distribution\n",
    "\n",
    "$$ F(a) = \\frac{1 - γ}{1 - ε^{1 - γ}} a^{-\\gamma} \\tag{1}$$"
   ]
  },
  {
   "cell_type": "code",
   "execution_count": null,
   "metadata": {
    "ExecuteTime": {
     "end_time": "2020-05-28T21:49:00.157307Z",
     "start_time": "2020-05-28T21:48:58.357306Z"
    },
    "pycharm": {
     "name": "#%%\n"
    },
    "scrolled": false
   },
   "outputs": [],
   "source": [
    "ec.set_activities(activity_distribution, gamma, epsilon)\n",
    "fig, ax = plt.subplots(1,2, figsize=(8,5))\n",
    "fig.subplots_adjust(wspace=0.3)\n",
    "fig.suptitle(\"t=0\")\n",
    "vis.show_activities(ax=ax[0])\n",
    "vis.show_activity_vs_opinion(ax=ax[1])\n",
    "sns.despine()"
   ]
  },
  {
   "cell_type": "markdown",
   "metadata": {
    "pycharm": {
     "name": "#%% md\n"
    }
   },
   "source": [
    "## Connection probabilities\n",
    "\n",
    "$$ p_{ij} = \\frac{|x_i - x_j|^{-\\beta}}{\\sum_j |x_i - x_j|^{-\\beta}} \\tag{2}$$"
   ]
  },
  {
   "cell_type": "code",
   "execution_count": null,
   "metadata": {
    "ExecuteTime": {
     "end_time": "2020-05-28T21:49:04.265320Z",
     "start_time": "2020-05-28T21:49:00.161307Z"
    },
    "pycharm": {
     "name": "#%%\n"
    }
   },
   "outputs": [],
   "source": [
    "ec.set_connection_probabilities(beta=beta)\n",
    "fig, ax = vis.show_connection_probabilities(\"mesh\", sort=True, \n",
    "                                  cmap=sns.cubehelix_palette(light=1, as_cmap=True), \n",
    "                                  cbar_kws=dict(pad=0.05))\n",
    "# move label to title\n",
    "move_cbar_label_to_title(fig)"
   ]
  },
  {
   "cell_type": "markdown",
   "metadata": {},
   "source": [
    "## Social Interactions\n",
    "- adjacency matrix $A_{ij}(t)$ can be calculated before numerical integration (`lazy=False`) or at time $t$ (`lazy=True`).\n",
    "- Cumulative adjacency matrix $\\sum_{t=0}^T A_{ij}(t)$ can be plotted a number of ways using `vis.show_adjacency_matrix(...)`\n",
    "    - `clustermap`\n",
    "    - `heatmap`\n",
    "    - `mesh`\n",
    "    \n",
    "    Interactions can be sorted using `sort=True` for plotting to identify clusters"
   ]
  },
  {
   "cell_type": "code",
   "execution_count": null,
   "metadata": {
    "ExecuteTime": {
     "end_time": "2020-05-28T21:49:17.022308Z",
     "start_time": "2020-05-28T21:49:04.269307Z"
    }
   },
   "outputs": [],
   "source": [
    "ec.set_social_interactions(0.5, lazy=False, t_end=5, dt=0.01)\n",
    "vis.show_adjacency_matrix(\"mesh\", True)"
   ]
  },
  {
   "cell_type": "markdown",
   "metadata": {
    "pycharm": {
     "name": "#%% md\n"
    }
   },
   "source": [
    "## Dynamics\n",
    "\n",
    "\n",
    "Assuming that the opinion dynamics is solely\n",
    "driven by the interactions among agents, we formulate\n",
    "the model as $N$ coupled ordinary differential equations,\n",
    "\n",
    "$$ \\dot{x_i} = -x_i + K \\sum_{j=1}^{N} A_{ij}(t) \\tanh(\\alpha x_j) \\tag{3}$$\n",
    "\n",
    "where K > 0 denotes the social interaction strength\n",
    "among agents and $\\alpha$ determines the sigmoidal shape of\n",
    "the hyperbolic tangent. The opinion of an agent $i$ follows\n",
    "the aggregated social input from the set of his/her neighbors\n",
    "at time $t$, determined by the symmetric adjacency\n",
    "matrix of the temporal network $A_{ij}(t)$, where $A_{ij}(t) = 1$\n",
    "if agents $i$ and $j$ are interacting at time $t$, $A_{ij}(t) = 0$\n",
    "otherwise. A similar model with static connectivity has\n",
    "previously been used to describe the dynamics of neural\n",
    "networks showing a transition from stationary to chaotic\n",
    "phase [30].\n",
    "The parameter $\\alpha > 0$ tunes the degree of non-linearity\n",
    "between an agent's opinion and the social influence s/he exerts on others."
   ]
  },
  {
   "cell_type": "code",
   "execution_count": null,
   "metadata": {
    "ExecuteTime": {
     "end_time": "2020-05-28T21:49:17.487322Z",
     "start_time": "2020-05-28T21:49:17.025310Z"
    },
    "pycharm": {
     "name": "#%%\n"
    }
   },
   "outputs": [],
   "source": [
    "ec.set_dynamics()"
   ]
  },
  {
   "cell_type": "markdown",
   "metadata": {
    "pycharm": {
     "name": "#%% md\n"
    }
   },
   "source": [
    "## Run and plot results"
   ]
  },
  {
   "cell_type": "code",
   "execution_count": null,
   "metadata": {
    "ExecuteTime": {
     "end_time": "2020-05-28T21:49:18.446308Z",
     "start_time": "2020-05-28T21:49:17.491319Z"
    },
    "pycharm": {
     "name": "#%%\n"
    }
   },
   "outputs": [],
   "source": [
    "dt = 0.01\n",
    "T = 0.5\n",
    "ec.run_network(dt=dt, t_end=T, method='Euler')"
   ]
  },
  {
   "cell_type": "code",
   "execution_count": null,
   "metadata": {
    "ExecuteTime": {
     "end_time": "2020-05-28T21:49:59.722314Z",
     "start_time": "2020-05-28T21:49:18.449308Z"
    },
    "pycharm": {
     "name": "#%%\n"
    }
   },
   "outputs": [],
   "source": [
    "# some options on how to plot\n",
    "fig, ax = plt.subplots(nrows=3, sharex='col', sharey='col', figsize=(6,6))\n",
    "fig.subplots_adjust(hspace=0.05)\n",
    "vis.show_opinions(color_code=True, ax=ax[0], title=True)    # markers\n",
    "vis.show_opinions(color_code='line', ax=ax[1], title=False)  # lines (slowest)\n",
    "vis.show_opinions(color_code=False, ax=ax[2], title=False)   # agents uniquely coloured\n",
    "sns.despine(fig)"
   ]
  },
  {
   "cell_type": "markdown",
   "metadata": {},
   "source": [
    "## Save/Load\n",
    "\n",
    "Given the same parameters, a network can be restored without explicitly calling `run_network`. \n",
    "\n",
    "A simulation is saved using `ec.save(only_last=True)`. If `only_last` is `False`, the entire duration of the simulation is saved.\n",
    "\n",
    "If a simulation exists for the network parameters, `ec.load()` restores the saved states and returns `True` (returns `False` otherwise)."
   ]
  },
  {
   "cell_type": "code",
   "execution_count": null,
   "metadata": {
    "ExecuteTime": {
     "end_time": "2020-05-28T21:50:01.396307Z",
     "start_time": "2020-05-28T21:49:59.724304Z"
    }
   },
   "outputs": [],
   "source": [
    "filename = ec.save()\n",
    "new_ec = EchoChamber(num_agents, m, K, alpha)\n",
    "new_ec.set_activities(activity_distribution, gamma, epsilon)\n",
    "new_ec.set_connection_probabilities(beta=beta)\n",
    "new_ec.set_social_interactions(0.5, lazy=True) # note only the `r` is the important parameter\n",
    "new_ec.set_dynamics()\n",
    "new_ec.load(dt, T)"
   ]
  },
  {
   "cell_type": "markdown",
   "metadata": {
    "cell_style": "center",
    "pycharm": {
     "name": "#%% md\n"
    }
   },
   "source": [
    "# Example results\n",
    "\n",
    "> The convenient `Simulation.run_params` static method is used."
   ]
  },
  {
   "cell_type": "code",
   "execution_count": null,
   "metadata": {
    "ExecuteTime": {
     "end_time": "2020-05-28T21:50:01.855307Z",
     "start_time": "2020-05-28T21:50:01.400309Z"
    },
    "cell_style": "center",
    "pycharm": {
     "name": "#%%\n"
    }
   },
   "outputs": [],
   "source": [
    "# General params\n",
    "\n",
    "N=1000\n",
    "m=10\n",
    "T=10\n",
    "epsilon=1e-2\n",
    "gamma=2.1\n",
    "r=0.5 # probability of mutual interaction\n",
    "dt=0.01\n",
    "\n",
    "# Specific params for different dynamics\n",
    "param_set={\n",
    "    \"neutral\": dict(K=3,alpha=0.05,beta=2),\n",
    "    \"radical\": dict(K=3,alpha=3,beta=0),\n",
    "    \"polar\": dict(K=3,alpha=3,beta=3)\n",
    "    }"
   ]
  },
  {
   "cell_type": "markdown",
   "metadata": {
    "cell_style": "center",
    "pycharm": {
     "name": "#%% md\n"
    }
   },
   "source": [
    "## Neutral opinion\n",
    "\n",
    "- $K = 3$\n",
    "- $\\alpha = 0.05$\n",
    "- $beta = 2$"
   ]
  },
  {
   "cell_type": "code",
   "execution_count": null,
   "metadata": {
    "ExecuteTime": {
     "end_time": "2020-05-28T21:51:16.447306Z",
     "start_time": "2020-05-28T21:50:01.860312Z"
    },
    "cell_style": "center",
    "pycharm": {
     "name": "#%%\n"
    },
    "scrolled": false
   },
   "outputs": [],
   "source": [
    "ec_neutral = Simulation.run_params(EchoChamber, N=N, m=m, **param_set['neutral'],\n",
    "                                   activity=activity_distribution, epsilon=epsilon, gamma=gamma, r=r,\n",
    "                                   dt=dt, T=T, plot_opinion=True,\n",
    "                                   cache=\"all\")\n",
    "sns.despine()"
   ]
  },
  {
   "cell_type": "markdown",
   "metadata": {},
   "source": [
    "## Radicalisation of opinions\n",
    "\n",
    "- $K = 3$\n",
    "- $\\alpha = 3$\n",
    "- $beta = 0$"
   ]
  },
  {
   "cell_type": "code",
   "execution_count": null,
   "metadata": {
    "ExecuteTime": {
     "end_time": "2020-05-28T21:52:33.729310Z",
     "start_time": "2020-05-28T21:51:16.450306Z"
    },
    "pycharm": {
     "name": "#%%\n"
    }
   },
   "outputs": [],
   "source": [
    "ec_radical = Simulation.run_params(EchoChamber, N=N, m=m, **param_set['radical'],\n",
    "                                   activity=activity_distribution, epsilon=epsilon, gamma=gamma, r=r,\n",
    "                                   dt=dt, T=T, plot_opinion=True,\n",
    "                                   cache=\"all\")\n",
    "sns.despine()"
   ]
  },
  {
   "cell_type": "markdown",
   "metadata": {},
   "source": [
    "## Polarisation of opinions\n",
    "\n",
    "- $K = 3$\n",
    "- $\\alpha = 3$\n",
    "- $beta = 3$"
   ]
  },
  {
   "cell_type": "code",
   "execution_count": null,
   "metadata": {
    "ExecuteTime": {
     "end_time": "2020-05-28T21:53:55.062310Z",
     "start_time": "2020-05-28T21:52:33.732309Z"
    },
    "pycharm": {
     "name": "#%%\n"
    }
   },
   "outputs": [],
   "source": [
    "ec_polar = Simulation.run_params(EchoChamber, N=N, m=m, **param_set['polar'],\n",
    "                                 activity=activity_distribution, epsilon=epsilon, gamma=gamma, r=r,\n",
    "                                 dt=dt, T=T, plot_opinion=True,\n",
    "                                 cache=\"all\")\n",
    "sns.despine()"
   ]
  },
  {
   "cell_type": "markdown",
   "metadata": {},
   "source": [
    "## Compare opinons"
   ]
  },
  {
   "cell_type": "code",
   "execution_count": null,
   "metadata": {
    "ExecuteTime": {
     "end_time": "2020-05-28T21:54:57.334317Z",
     "start_time": "2020-05-28T21:53:55.065307Z"
    }
   },
   "outputs": [],
   "source": [
    "fig = plt.figure(constrained_layout=True)\n",
    "spec = gridspec.GridSpec(nrows=2, ncols=2, figure=fig)\n",
    "f_ax1 = fig.add_subplot(spec[0, 0]) # top left\n",
    "f_ax2 = fig.add_subplot(spec[1, 0]) # bottom left\n",
    "f_ax3 = fig.add_subplot(spec[:, 1]) # right column\n",
    "\n",
    "VisEchoChamber(ec_neutral).show_opinions(ax=f_ax1, title=\"Neutral\")\n",
    "VisEchoChamber(ec_radical).show_opinions(ax=f_ax2, title=\"Radicalised\")\n",
    "VisEchoChamber(ec_polar).show_opinions(ax=f_ax3, title=\"Polarised\")\n",
    "sns.despine()"
   ]
  },
  {
   "cell_type": "markdown",
   "metadata": {},
   "source": [
    "# Plot types"
   ]
  },
  {
   "cell_type": "markdown",
   "metadata": {},
   "source": [
    "## $K-\\alpha$ phase space\n",
    "\n",
    "- $K \\in [0,4]$\n",
    "- $\\alpha \\in [0,4]$\n",
    "\n",
    "with\n",
    "- $beta = 0.5$\n",
    "- $r = 0.5$\n"
   ]
  },
  {
   "cell_type": "code",
   "execution_count": null,
   "metadata": {
    "ExecuteTime": {
     "end_time": "2020-05-28T23:03:04.040188Z",
     "start_time": "2020-05-28T21:54:57.337307Z"
    },
    "pycharm": {
     "name": "#%%\n"
    }
   },
   "outputs": [],
   "source": [
    "import os\n",
    "import gc\n",
    "eclogger.setLevel(logging.DEBUG)\n",
    "\n",
    "beta = 0.5\n",
    "r = 0.5\n",
    "\n",
    "\n",
    "# how many simulations to run\n",
    "num_states = 8\n",
    "start = 0\n",
    "stop = 4\n",
    "K_range = np.round(np.linspace(start,stop,num_states), 2)\n",
    "alpha_range = np.round(np.linspace(start,stop,num_states), 2)\n",
    "\n",
    "\n",
    "# where to save the file\n",
    "file_name = \".cache/K-alpha-phase.h5\"\n",
    "\n",
    "# the efficient HDF format is used for saving and loading DataFrames.\n",
    "if os.path.exists(file_name):\n",
    "    df = pd.read_hdf(file_name)\n",
    "else:\n",
    "    df = pd.DataFrame(index=K_range, columns=alpha_range, dtype=float)\n",
    "    for K,alpha in tqdm(list(itertools.product(K_range,alpha_range))):\n",
    "        ec = Simulation.run_params(EchoChamber,N=N, m=m, K=K, alpha=alpha, beta=beta, \n",
    "                                   activity=activity_distribution, epsilon=epsilon, gamma=gamma, r=r,\n",
    "                                   dt=dt, T=T, \n",
    "                                   lazy=True, \n",
    "                                   cache=False, # don't cache full time of sim\n",
    "                                   plot_opinion=False)\n",
    "        t, mu = ec.get_mean_opinion(-1)\n",
    "        df.loc[K, alpha] = mu\n",
    "        # clear some memory\n",
    "        del ec\n",
    "        gc.collect()\n",
    "    df.to_hdf(file_name, key='df')"
   ]
  },
  {
   "cell_type": "code",
   "execution_count": null,
   "metadata": {
    "ExecuteTime": {
     "end_time": "2020-05-28T23:03:05.071186Z",
     "start_time": "2020-05-28T23:03:04.043192Z"
    },
    "pycharm": {
     "name": "#%%\n"
    }
   },
   "outputs": [],
   "source": [
    "show_K_alpha_phase(df)\n",
    "fig = plt.gcf()\n",
    "fig.savefig(\"output/k-alpha-phase.pdf\")"
   ]
  },
  {
   "cell_type": "markdown",
   "metadata": {
    "pycharm": {
     "name": "#%% md\n"
    }
   },
   "source": [
    "## Activity vs Opinion\n",
    "Polarised param set\n",
    "- $r = 0.65$"
   ]
  },
  {
   "cell_type": "markdown",
   "metadata": {},
   "source": [
    "> to reproduce the density in the papers, $10^3$ \"opinion states\" need to be plotted, with each opinion state consisting of 1000 agents' opinions."
   ]
  },
  {
   "cell_type": "code",
   "execution_count": null,
   "metadata": {
    "ExecuteTime": {
     "end_time": "2020-05-28T23:03:06.955186Z",
     "start_time": "2020-05-28T23:03:05.074187Z"
    },
    "pycharm": {
     "name": "#%%\n"
    },
    "scrolled": true
   },
   "outputs": [],
   "source": [
    "# suppress logging for clean progressbar\n",
    "logging_level = logging.getLogger().getEffectiveLevel()\n",
    "logging.getLogger().setLevel(logging.WARNING)\n",
    "\n",
    "# parameters\n",
    "N=1000\n",
    "m=10\n",
    "T=5\n",
    "activity_distribution=negpowerlaw\n",
    "epsilon=1e-2\n",
    "gamma=2.1\n",
    "dt=0.01\n",
    "r=0.65\n",
    "\n",
    "# how many simulations to run\n",
    "try:\n",
    "    from google.colab import drive\n",
    "    num_states = 1000\n",
    "except ModuleNotFoundError:\n",
    "    num_states = 10\n",
    "# where to save the file\n",
    "file_name = \".cache/activity_vs_opinion.h5\"\n",
    "\n",
    "# helper array\n",
    "agent_indices = np.arange(N, dtype=int)\n",
    "\n",
    "# the efficient HDF format is used for saving and loading DataFrames.\n",
    "with pd.HDFStore(file_name) as hdf:\n",
    "    # get keys from the store to know how many simulations have already been saved\n",
    "    states = hdf.keys()\n",
    "    states_completed = len(states)\n",
    "    # we start iterating from states_completed as the `seed` parameter uses `i`\n",
    "    for i in tqdm(range(states_completed, num_states)):\n",
    "        ec = Simulation.run_params(EchoChamber,N=N, m=m, **param_set['polar'],\n",
    "                                   activity=activity_distribution, epsilon=epsilon, gamma=gamma, r=r,\n",
    "                                   dt=dt, T=T, lazy=True, \n",
    "                                   cache=False, # don't cache time portion\n",
    "                                   seed=i)\n",
    "        # create dataframe for this iteration\n",
    "        df = pd.DataFrame({\"activity\": ec.activities,\n",
    "                           \"opinion\": ec.opinions\n",
    "                          })\n",
    "        # save to disk for use later\n",
    "        hdf.append(f\"d{i}\", df)\n",
    "\n",
    "# return to previous logging (more or less - we change root level)\n",
    "logging.getLogger().setLevel(logging_level)\n"
   ]
  },
  {
   "cell_type": "code",
   "execution_count": null,
   "metadata": {
    "ExecuteTime": {
     "end_time": "2020-05-28T23:03:18.932188Z",
     "start_time": "2020-05-28T23:03:06.958188Z"
    }
   },
   "outputs": [],
   "source": [
    "# collect all data into a dataframe\n",
    "with pd.HDFStore(file_name) as hdf:\n",
    "    df_ao = pd.concat([hdf.get(key) for key in hdf.keys()])\n",
    "df_ao.shape"
   ]
  },
  {
   "cell_type": "code",
   "execution_count": null,
   "metadata": {
    "ExecuteTime": {
     "end_time": "2020-05-28T23:03:55.384198Z",
     "start_time": "2020-05-28T23:03:18.935186Z"
    },
    "scrolled": true
   },
   "outputs": [],
   "source": [
    "# plot everything\n",
    "# (very good idea to rasterize for saving)\n",
    "fig, ax = show_activity_vs_opinion(df_ao.opinion.values, df_ao.activity.values,\n",
    "                                   bins=N, norm=LogNorm(vmin=1/N),\n",
    "                                   cbar_kws=dict(cax=True),\n",
    "                                   s=0.1, rasterized=True)\n",
    "ax.set_ylim(0, 0.5)\n",
    "sns.despine()\n",
    "fig.savefig(\"output/activity_vs_opinion.pdf\", dpi=500)"
   ]
  },
  {
   "cell_type": "code",
   "execution_count": null,
   "metadata": {
    "ExecuteTime": {
     "end_time": "2020-05-28T23:03:55.899199Z",
     "start_time": "2020-05-28T23:03:55.388187Z"
    }
   },
   "outputs": [],
   "source": [
    "# clear up some ram\n",
    "del df_ao"
   ]
  },
  {
   "cell_type": "markdown",
   "metadata": {
    "pycharm": {
     "name": "#%% md\n"
    }
   },
   "source": [
    "## Show adjacency matrix"
   ]
  },
  {
   "cell_type": "code",
   "execution_count": null,
   "metadata": {
    "ExecuteTime": {
     "end_time": "2020-05-28T23:04:08.986190Z",
     "start_time": "2020-05-28T23:03:55.903188Z"
    },
    "pycharm": {
     "name": "#%%\n"
    },
    "scrolled": false
   },
   "outputs": [],
   "source": [
    "vis = VisEchoChamber(ec_polar)\n",
    "vis.show_adjacency_matrix(\"clustermap\", ax=False, fig=False, sort=False)\n",
    "fig, ax = plt.subplots(2, 1, figsize=(10,20))\n",
    "vis.show_adjacency_matrix(\"heatmap\", sort=True, square=True, ax=ax[0])\n",
    "vis.show_adjacency_matrix(\"mesh\", sort=True, ax=ax[1])\n"
   ]
  },
  {
   "cell_type": "markdown",
   "metadata": {},
   "source": [
    "## Agent opinons at $t$"
   ]
  },
  {
   "cell_type": "code",
   "execution_count": null,
   "metadata": {
    "ExecuteTime": {
     "end_time": "2020-05-28T23:04:12.911185Z",
     "start_time": "2020-05-28T23:04:08.990187Z"
    },
    "pycharm": {
     "name": "#%%\n"
    }
   },
   "outputs": [],
   "source": [
    "fig, ax = plt.subplots(2, 1, figsize=(10,10), sharex=True)\n",
    "fig.subplots_adjust(hspace=0.3)\n",
    "vis.show_agent_opinions(direction=True, sort=True, ax=ax[0])\n",
    "vis.show_opinions_snapshot(ax=ax[1], kde_kws=dict(shade=True))\n",
    "ax[1].set_xticklabels(ax[1].get_xticks())\n",
    "sns.despine()"
   ]
  },
  {
   "cell_type": "code",
   "execution_count": null,
   "metadata": {
    "ExecuteTime": {
     "end_time": "2020-05-28T23:04:36.781184Z",
     "start_time": "2020-05-28T23:04:12.915187Z"
    }
   },
   "outputs": [],
   "source": [
    "fig, ax = plt.subplots(1, 2, gridspec_kw=dict(width_ratios=[10,1]))\n",
    "fig.subplots_adjust(wspace=0.1)\n",
    "vis.show_opinions(ax=ax[0], title=\"Polarised\")\n",
    "vis.show_opinions_snapshot(ax=ax[1], kde_kws=dict(shade=False, bw=0.15), vertical=True)\n",
    "sns.despine()\n",
    "sns.despine(ax=ax[1], left=True)\n",
    "ax[1].set_ylabel(\"\")\n",
    "ax[1].tick_params(axis='y', left=False, labelleft=False)"
   ]
  },
  {
   "cell_type": "markdown",
   "metadata": {},
   "source": [
    "## Nearest Neighbour"
   ]
  },
  {
   "cell_type": "code",
   "execution_count": null,
   "metadata": {
    "ExecuteTime": {
     "end_time": "2020-05-29T09:19:39.945134Z",
     "start_time": "2020-05-29T09:19:36.448139Z"
    },
    "pycharm": {
     "name": "#%%\n"
    }
   },
   "outputs": [],
   "source": [
    "g = vis.show_nearest_neighbour(bw=0.5)\n",
    "# adjust limits based on xaxis\n",
    "from scipy import stats\n",
    "x_data, y_data = g.ax_marg_x.get_lines()[0].get_data()\n",
    "s = stats.describe(y_data)\n",
    "low_bound = np.max(s.mean-s.variance, 0)\n",
    "mask = (low_bound < y_data)\n",
    "lim = x_data[mask][0]*1.5, x_data[mask][-1]*1.5\n",
    "g.ax_joint.set_xlim(*lim)\n",
    "# keep it 'square' (xlim == ylim)\n",
    "g.ax_joint.set_ylim(*lim)\n",
    "g.savefig(\"output/nearest_neighbour.pdf\")"
   ]
  },
  {
   "cell_type": "code",
   "execution_count": null,
   "metadata": {
    "ExecuteTime": {
     "end_time": "2020-05-29T09:20:10.967137Z",
     "start_time": "2020-05-29T09:19:40.718137Z"
    }
   },
   "outputs": [],
   "source": [
    "# try \"paper\" \"poster\" \"talk\" or \"notebook\"\n",
    "with sns.plotting_context(\"notebook\"):\n",
    "    fig, ax = vis.show_summary(fig_kwargs=dict(figsize=(12,12), constrained_layout=False))\n",
    "fig.subplots_adjust(wspace=0.5, hspace=0.5)\n",
    "sns.despine()"
   ]
  },
  {
   "cell_type": "markdown",
   "metadata": {},
   "source": [
    "# Noisy Echo Chamber"
   ]
  },
  {
   "cell_type": "code",
   "execution_count": null,
   "metadata": {
    "ExecuteTime": {
     "end_time": "2020-05-29T09:22:41.740791Z",
     "start_time": "2020-05-29T09:20:13.871136Z"
    }
   },
   "outputs": [],
   "source": [
    "# suppress logging for clean progressbar\n",
    "logging_level = logging.getLogger().getEffectiveLevel()\n",
    "logging.getLogger().setLevel(logging.WARNING)\n",
    "kwargs = dict(N=1000,\n",
    "              m=10,\n",
    "              T=5,\n",
    "              epsilon=1e-2,\n",
    "              gamma=2.1,\n",
    "              dt=0.005,\n",
    "              K=2,\n",
    "              beta=1,\n",
    "              alpha=3,\n",
    "              r=0.65,\n",
    "             )\n",
    "D_range = [0, 0.01, 0.1, 0.5, 1, 10]\n",
    "nec_arr = Simulation.run_noise_range(D_range, plot_opinion=True, **kwargs)\n",
    "fig = plt.gcf()\n",
    "fig.subplots_adjust(hspace=-0.5)\n",
    "for ax in fig.axes:\n",
    "    ax.set_facecolor(\"None\")\n",
    "    sns.despine(ax=ax, bottom=True, left=True)\n",
    "    ax.tick_params(bottom=False, left=False, labelleft=False)\n",
    "fig.savefig(\"output/noise.pdf\")\n",
    "logging.getLogger().setLevel(logging_level)"
   ]
  },
  {
   "cell_type": "markdown",
   "metadata": {},
   "source": [
    "## Check `dt` with noise"
   ]
  },
  {
   "cell_type": "code",
   "execution_count": null,
   "metadata": {
    "ExecuteTime": {
     "end_time": "2020-05-28T23:04:40.081187Z",
     "start_time": "2020-05-28T21:49:12.408Z"
    }
   },
   "outputs": [],
   "source": [
    "# suppress logging for clean progressbar\n",
    "logging_level = logging.getLogger().getEffectiveLevel()\n",
    "logging.getLogger().setLevel(logging.WARNING)\n",
    "kwargs = dict(N=1000,\n",
    "              m=10,\n",
    "              T=1,\n",
    "              epsilon=1e-2,\n",
    "              gamma=2.1,\n",
    "              dt=0.001,\n",
    "              K=2,\n",
    "              beta=1,\n",
    "              alpha=3,\n",
    "              r=0.65,\n",
    "             )\n",
    "D_range = [0, 0.01, 0.1, 1, 10]\n",
    "dt_range = np.arange(0.001, 0.01+0.001, 0.001)\n",
    "Simulation.run_noise_other_range(D_range, \"dt\", dt_range,\n",
    "                                 plot_opinion=True, title=\"dt\",\n",
    "                                 label_precision=3, **kwargs)\n",
    "fig = plt.gcf()\n",
    "fig.savefig(\"output/dt.pdf\")\n",
    "logging.getLogger().setLevel(logging_level)"
   ]
  },
  {
   "cell_type": "markdown",
   "metadata": {},
   "source": [
    "## Params vs noise"
   ]
  },
  {
   "cell_type": "code",
   "execution_count": null,
   "metadata": {
    "ExecuteTime": {
     "end_time": "2020-05-29T10:23:38.486519Z",
     "start_time": "2020-05-29T10:23:37.914520Z"
    }
   },
   "outputs": [],
   "source": [
    "kwargs = dict(N=1000,\n",
    "              m=10,\n",
    "              T=10,\n",
    "              epsilon=1e-2,\n",
    "              gamma=2.1,\n",
    "              dt=0.01,\n",
    "              K=2,\n",
    "              beta=1,\n",
    "              alpha=3,\n",
    "              r=0.65,\n",
    "             )\n",
    "D_range = [0, 0.01, 0.1, 0.5, 1.0]\n",
    "\n",
    "other_vars = {\n",
    "    'beta':  {\n",
    "        'range': [0, 1, 2, 3],\n",
    "        'title': \"$\\\\beta$\"\n",
    "    },\n",
    "    'alpha': {\n",
    "        'range': [0.001, 1, 2, 3], \n",
    "        'title': \"$\\\\alpha$\"\n",
    "    },\n",
    "}"
   ]
  },
  {
   "cell_type": "markdown",
   "metadata": {},
   "source": [
    "### $T_D = 0$"
   ]
  },
  {
   "cell_type": "code",
   "execution_count": null,
   "metadata": {
    "ExecuteTime": {
     "end_time": "2020-05-29T10:31:20.744260Z",
     "start_time": "2020-05-29T10:23:41.382522Z"
    }
   },
   "outputs": [],
   "source": [
    "# suppress logging for clean progressbar\n",
    "logging_level = logging.getLogger().getEffectiveLevel()\n",
    "logging.getLogger().setLevel(logging.WARNING)\n",
    "\n",
    "for key, other in other_vars.items():\n",
    "    print(f\"running noise vs {key}\")\n",
    "    Simulation.run_noise_other_range(D_range, key, other['range'],\n",
    "                                     plot_opinion=True, title=other['title'],\n",
    "                                     subplot_kws=dict(sharex='all', sharey='col'),\n",
    "                                     **kwargs)\n",
    "    fig = plt.gcf()\n",
    "    fig.savefig(f\"output/{key}.pdf\")\n",
    "\n",
    "logging.getLogger().setLevel(logging_level)"
   ]
  },
  {
   "cell_type": "markdown",
   "metadata": {},
   "source": [
    "### $T_D = 10$"
   ]
  },
  {
   "cell_type": "code",
   "execution_count": null,
   "metadata": {
    "ExecuteTime": {
     "end_time": "2020-05-29T10:31:20.762241Z",
     "start_time": "2020-05-29T10:23:51.243Z"
    }
   },
   "outputs": [],
   "source": [
    "# suppress logging for clean progressbar\n",
    "logging_level = logging.getLogger().getEffectiveLevel()\n",
    "logging.getLogger().setLevel(logging.WARNING)\n",
    "# equal time no-noise and noise\n",
    "noise_start = kwargs['T']\n",
    "for key, other in other_vars.items():\n",
    "    print(f\"running noise at T{noise_start} vs {key}\")\n",
    "    Simulation.run_noise_other_range(D_range, key, other['range'],\n",
    "                                     noise_start=noise_start, \n",
    "                                     plot_opinion=True, title=f\"{other['title']} $T_D={noise_start}$\",\n",
    "                                     subplot_kws=dict(sharex='all', sharey='col'),\n",
    "                                     **kwargs)\n",
    "    fig = plt.gcf()\n",
    "    fig.savefig(f\"output/{key}_T{noise_start}.pdf\")\n",
    "\n",
    "logging.getLogger().setLevel(logging_level)"
   ]
  },
  {
   "cell_type": "markdown",
   "metadata": {},
   "source": [
    "## Delayed noise"
   ]
  },
  {
   "cell_type": "code",
   "execution_count": null,
   "metadata": {
    "ExecuteTime": {
     "end_time": "2020-05-28T23:04:40.086188Z",
     "start_time": "2020-05-28T21:49:14.770Z"
    }
   },
   "outputs": [],
   "source": [
    "# suppress logging for clean progressbar\n",
    "logging_level = logging.getLogger().getEffectiveLevel()\n",
    "logging.getLogger().setLevel(logging.WARNING)\n",
    "kwargs = dict(N=1000,\n",
    "              m=10,\n",
    "              activity_distribution = negpowerlaw,\n",
    "              epsilon=1e-2,\n",
    "              gamma=2.1,\n",
    "              dt=0.01,\n",
    "              K=3,\n",
    "              beta=3,\n",
    "              alpha=3,\n",
    "              r=0.65           \n",
    "             )\n",
    "D=0.1\n",
    "\n",
    "noise_start = 10.\n",
    "noise_length = 10.\n",
    "recovery = 10.\n",
    "num = 1\n",
    "interval = 0\n",
    "nec = Simulation.run_periodic_noise(noise_start, noise_length, recovery, interval=interval, num=num, \n",
    "                                    **kwargs,\n",
    "                                    D=D, plot_opinion=True)\n",
    "fig = plt.gcf()\n",
    "fig.savefig(\"output/delayed_noise.pdf\")\n",
    "logging.getLogger().setLevel(logging_level)"
   ]
  },
  {
   "cell_type": "code",
   "execution_count": null,
   "metadata": {
    "ExecuteTime": {
     "end_time": "2020-05-28T23:04:40.088189Z",
     "start_time": "2020-05-28T21:49:14.774Z"
    },
    "code_folding": [],
    "scrolled": true
   },
   "outputs": [],
   "source": [
    "from tqdm.notebook import tqdm\n",
    "# suppress logging for clean progressbar\n",
    "logging_level = logging.getLogger().getEffectiveLevel()\n",
    "logging.getLogger().setLevel(logging.WARNING)\n",
    "eclogger.setLevel(logging.WARNING)\n",
    "\n",
    "noise_start = 5.\n",
    "noise_length = 10.\n",
    "recovery = 10.\n",
    "for D in tqdm([0.1, 0.5, 1], desc='noise'):\n",
    "    for num in tqdm([1, 2, 5], desc='num'):\n",
    "        intervals = [0.1, 0.5, 1, 2] if num>1 else [0]\n",
    "        for interval in tqdm(intervals, desc='interval'):\n",
    "            nec = Simulation.run_periodic_noise(noise_start, noise_length, recovery, interval=interval, num=num, \n",
    "                                                **kwargs,\n",
    "                                                D=D, plot_opinion=True)\n",
    "            fig = plt.gcf()\n",
    "            fig.suptitle(f\"D={D}, num={num}, interval={interval}\")\n",
    "            fig.savefig(f\"output/noise_D{D}_{num}-{interval}.pdf\", dpi=500)\n",
    "logging.getLogger().setLevel(logging_level)"
   ]
  },
  {
   "cell_type": "markdown",
   "metadata": {},
   "source": [
    "## TODO: Using Julia"
   ]
  },
  {
   "cell_type": "markdown",
   "metadata": {},
   "source": [
    "`DiffentialEquations.jl`\n",
    "\n",
    "Setup:\n",
    "\n",
    "1. Download Julia and add `julia` to system path.\n",
    "2. `pip install diffeqpy numba`\n",
    "\n",
    "3. Install Python compatibility\n",
    "    ```python\n",
    "   import julia\n",
    "   julia.install()\n",
    "   import diffeqpy\n",
    "   diffeqpy.install()\n",
    "   ```\n",
    "4. Test it works\n",
    "   ```python\n",
    "   from diffeqpy import de\n",
    "   ```"
   ]
  },
  {
   "cell_type": "markdown",
   "metadata": {},
   "source": [
    "### Julia Issues\n",
    "\n",
    "Need to re-specify equation because of element-wise multiplication.\n"
   ]
  },
  {
   "cell_type": "code",
   "execution_count": null,
   "metadata": {},
   "outputs": [],
   "source": []
  }
 ],
 "metadata": {
  "celltoolbar": "Initialization Cell",
  "kernelspec": {
   "display_name": "opinion_dynamics",
   "language": "python",
   "name": "opinion_dynamics"
  },
  "language_info": {
   "codemirror_mode": {
    "name": "ipython",
    "version": 3
   },
   "file_extension": ".py",
   "mimetype": "text/x-python",
   "name": "python",
   "nbconvert_exporter": "python",
   "pygments_lexer": "ipython3",
   "version": "3.7.6"
  },
  "notify_time": "5",
  "toc": {
   "base_numbering": 1,
   "nav_menu": {},
   "number_sections": true,
   "sideBar": true,
   "skip_h1_title": false,
   "title_cell": "Table of Contents",
   "title_sidebar": "Contents",
   "toc_cell": true,
   "toc_position": {
    "height": "calc(100% - 180px)",
    "left": "10px",
    "top": "150px",
    "width": "384px"
   },
   "toc_section_display": true,
   "toc_window_display": true
  },
  "varInspector": {
   "cols": {
    "lenName": 16,
    "lenType": 16,
    "lenVar": 40
   },
   "kernels_config": {
    "python": {
     "delete_cmd_postfix": "",
     "delete_cmd_prefix": "del ",
     "library": "var_list.py",
     "varRefreshCmd": "print(var_dic_list())"
    },
    "r": {
     "delete_cmd_postfix": ") ",
     "delete_cmd_prefix": "rm(",
     "library": "var_list.r",
     "varRefreshCmd": "cat(var_dic_list()) "
    }
   },
   "position": {
    "height": "782.5px",
    "left": "1550px",
    "right": "20px",
    "top": "120px",
    "width": "350px"
   },
   "types_to_exclude": [
    "module",
    "function",
    "builtin_function_or_method",
    "instance",
    "_Feature"
   ],
   "window_display": false
  }
 },
 "nbformat": 4,
 "nbformat_minor": 1
}
