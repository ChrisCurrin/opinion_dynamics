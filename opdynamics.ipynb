{
 "cells": [
  {
   "cell_type": "markdown",
   "metadata": {
    "toc": true
   },
   "source": [
    "# Depolarization of echo chambers by a random dynamical nudge"
   ]
  },
  {
   "cell_type": "markdown",
   "metadata": {},
   "source": [
    "To study the effect of RDN, we use an opinion dynamics model.\n",
    "For a system of $N$ agents, each agent $i$ has an evolving opinion $x_i(t) \\in [-\\infty, \\infty]$.\n",
    "For a given issue, agent $i$ has a stance with sign $\\sigma(x_i)$ and a conviction with strength $|x_i|$.\n",
    "Strong convictions correspond to one of two extremes.\n",
    "Agent opinions change based on their interactions with other agents $A_{ij}(t)$,\n",
    "the strength of social interactions $K > 0$, and the controversialness of the issue $\\alpha > 0$\n",
    "as in Ref \\cite{baumann2020modeling}. The opinion dynamics is given by\n",
    "\n",
    "$$\\dot{x}_i= -x_i + K \\left(\\sum^{N}_{j=1} A_{ij} (t)  \\tanh{(\\alpha x_j)}\\right) + D \\sqrt {n}\\left({\\bar{X}}_{n}-\\langle x \\rangle \\right) \\tag{1}$$\n",
    "\n",
    "Where $D$ is the RDN strength, $\\bar{X}_{n}$ is the mean from a sample (of size $n << N$) of opinions,\n",
    "and $\\langle x \\rangle$ is the true mean of all opinions."
   ]
  },
  {
   "cell_type": "markdown",
   "metadata": {
    "cell_style": "center",
    "pycharm": {
     "name": "#%% md\n"
    }
   },
   "source": [
    "## Imports and settings"
   ]
  },
  {
   "cell_type": "markdown",
   "metadata": {},
   "source": [
    "If in a Colab notebook, this will\n",
    "1. pull the latest version of ``opinion_dynamics`` from GitHub\n",
    "1. add ``opinion_dynamics`` to path\n",
    "1. install/upgrade packages\n",
    "    - upgrade ``tqdm`` for ``tenumerate`` function\n",
    "    - upgrade ``tables`` for appending to `hdf5` files without throwing an error.\n",
    "    - ``vaex`` for large file reading without crashing the session\n",
    "        - upgrade ``IPython`` for ``vaex`` [see #514](https://github.com/vaexio/vaex/issues/514) (upgrading seems to make colab unhappy and won't display Jupyter widgets).\n",
    "1. mount your Google Drive (by asking for an authorization code)\n",
    "1. make `.cache` and `.output` in your Google Drive under `My Drive > Colab Notebooks > opdynamics`\n",
    "1. create symlinks between Colab's temporary local `.cache` and `.output` and the Google Drive folders for persistence\n",
    "\n",
    "> Note:\n",
    "> 1. After installing packages you **must** restart runtime.\n",
    "> 1. Creating symlinks will fail when running the cell again. This is expected."
   ]
  },
  {
   "cell_type": "code",
   "execution_count": null,
   "metadata": {
    "pycharm": {
     "name": "#%%\n"
    }
   },
   "outputs": [],
   "source": [
    "#@title Colab Setup { display-mode: \"form\" }\n",
    "\n",
    "# for persisting data across sessions\n",
    "connect_gdrive = False #@param {type:\"boolean\"}\n",
    "\n",
    "try:\n",
    "    from google.colab import drive\n",
    "\n",
    "    # Clone github repository\n",
    "    GIT_REPO = \"https://github.com/ChrisCurrin/opinion_dynamics.git\"\n",
    "    !rm -rf ./temp\n",
    "    !git clone --quiet \"{GIT_REPO}\" ./temp\n",
    "\n",
    "    # add to path\n",
    "    import sys\n",
    "    sys.path.append('./temp')\n",
    "    # need latest tqdm version for tenumerate and tables to prevent HDF read error\n",
    "    !pip install -q --upgrade tqdm tables\n",
    "    !pip install -q --upgrade vaex IPython\n",
    "\n",
    "    if connect_gdrive:\n",
    "        # connect GDrive for retrieving/saving results\n",
    "        drive.mount('/content/drive')\n",
    "\n",
    "        # create symlink between a Drive folder and the cache for persistence between sessions\n",
    "        import os\n",
    "        try:\n",
    "            os.makedirs(\"/content/drive/My Drive/Colab Notebooks/opdynamics/.cache\")\n",
    "            os.makedirs(\"/content/drive/My Drive/Colab Notebooks/opdynamics/output\")\n",
    "        except IOError:\n",
    "            pass\n",
    "        !ln -s \"/content/drive/My Drive/Colab Notebooks/opdynamics/.cache\" \".cache\"\n",
    "        !ln -s \"/content/drive/My Drive/Colab Notebooks/opdynamics/output\" \"output\"\n",
    "\n",
    "except ModuleNotFoundError:\n",
    "    print(\"local notebook\")\n",
    "    pass"
   ]
  },
  {
   "cell_type": "code",
   "execution_count": 1,
   "metadata": {
    "pycharm": {
     "name": "#%%\n"
    }
   },
   "outputs": [],
   "source": [
    "#@title Imports and settings { display-mode: \"form\" }\n",
    "%reload_ext autoreload\n",
    "%autoreload 2\n",
    "\n",
    "import logging\n",
    "import itertools\n",
    "import os\n",
    "import string\n",
    "import numpy as np\n",
    "import pandas as pd\n",
    "import matplotlib.pyplot as plt\n",
    "import matplotlib.gridspec as gridspec\n",
    "import seaborn as sns\n",
    "\n",
    "from tqdm.notebook import tqdm\n",
    "from matplotlib.colors import LogNorm\n",
    "from matplotlib.cbook import flatten\n",
    "from matplotlib.collections import PolyCollection\n",
    "\n",
    "try:\n",
    "    import opdynamics.simulation as Simulation\n",
    "except AttributeError:\n",
    "    raise RuntimeError(\"restart runtime\")\n",
    "from opdynamics.networks.echochamber import (EchoChamber, ConnChamber, ContrastChamber, OpenChamber, SampleChamber,\n",
    "                                             logger as eclogger,\n",
    "                                             )\n",
    "from opdynamics.visualise import (VisEchoChamber,\n",
    "                                  show_K_alpha_phase,\n",
    "                                  show_activity_vs_opinion,\n",
    "                                  show_jointplot,\n",
    "                                  show_noise_panel,\n",
    "                                  show_opinion_grid,\n",
    "                                  )\n",
    "from opdynamics.metrics.opinions import calc_distribution_differences, distribution_modality\n",
    "from opdynamics.visualise import plot_surface_product, plot_surfaces\n",
    "from opdynamics.utils.distributions import negpowerlaw\n",
    "from opdynamics.utils.plot_utils import df_multi_mask, move_cbar_label_to_title\n",
    "from opdynamics.utils.cache import get_cache_dir, set_cache_dir\n",
    "from opdynamics.utils.constants import *\n",
    "from opdynamics.visualise.compat import sns_kdeplot\n",
    "\n",
    "try:\n",
    "    os.makedirs(\"output\")\n",
    "except FileExistsError:\n",
    "    pass\n",
    "try:\n",
    "    os.makedirs(\".cache\")\n",
    "except FileExistsError:\n",
    "    pass\n",
    "\n",
    "np.random.seed(1337)\n",
    "sns.set(context=\"notebook\", style=\"ticks\",\n",
    "        rc={\n",
    "            \"pdf.fonttype\": 42, # embed font in output\n",
    "            \"figure.facecolor\":\"white\",\n",
    "            \"axes.spines.left\": True,\n",
    "            \"axes.spines.bottom\": True,\n",
    "            \"axes.spines.right\": False,\n",
    "            \"axes.spines.top\": False,\n",
    "            }\n",
    "        )\n",
    "logging.basicConfig(level=logging.DEBUG)\n",
    "logging.getLogger().setLevel(logging.DEBUG)\n",
    "eclogger.setLevel(logging.DEBUG)\n",
    "logging.getLogger(\"matplotlib\").setLevel(logging.INFO)\n",
    "logging.getLogger(\"asyncio\").setLevel(logging.WARNING)"
   ]
  },
  {
   "cell_type": "markdown",
   "metadata": {},
   "source": [
    "# EchoChambers"
   ]
  },
  {
   "cell_type": "markdown",
   "metadata": {
    "pycharm": {
     "name": "#%% md\n"
    }
   },
   "source": [
    "We start by showing the rich *object orientated programming* (OOP) approach to building and running a network that produces echo chambers.\n",
    "\n",
    "Later, we show how to use `simulation`, which encapsulates a lot of the OOP concepts into a more *functional* approach."
   ]
  },
  {
   "cell_type": "markdown",
   "metadata": {
    "pycharm": {
     "name": "#%% md\n"
    }
   },
   "source": [
    "## Define parameters"
   ]
  },
  {
   "cell_type": "markdown",
   "metadata": {},
   "source": [
    " Symbol     | Variable | Keyword      | Meaning                                   | Range ($\\mathbb{R}$)\n",
    "------------|----------|--------------|-------------------------------------------|---------------------\n",
    " N          | N        | ``N``        | Number of agents                          | $>=1$\n",
    " m          | m        | ``m``        | Number of other agents to interact with   | $[1,N)$\n",
    " $\\alpha$   | α        | ``alpha``    | controversialness of issue                | $>0$\n",
    " $K$        | K        | ``K``        | social interaction strength               | $>0$\n",
    " $\\epsilon$ | ε        | ``epsilon``  | minimum activity level with another agent | $>0$\n",
    " $\\gamma$   | Υ        | ``gamma``    | power law decay of activity distribution  | $[-\\infty, \\infty]$\n",
    " $\\beta$    | β        | ``beta``     | power law decay of connection probability | $[-\\infty, \\infty]$\n",
    " $r$        | r        | ``r``        | probability of a mutual interaction       | $[0,1]$ \n",
    " "
   ]
  },
  {
   "cell_type": "code",
   "execution_count": 3,
   "metadata": {
    "pycharm": {
     "name": "#%%\n"
    }
   },
   "outputs": [],
   "source": [
    "N = 1000\n",
    "m = 10\n",
    "alpha = 3\n",
    "K = 3\n",
    "epsilon = 1e-2\n",
    "gamma = 2.1\n",
    "beta = 3\n",
    "r = 0.5\n",
    "# set default activity distribution\n",
    "activity_distribution = negpowerlaw"
   ]
  },
  {
   "cell_type": "markdown",
   "metadata": {},
   "source": [
    "## Create EchoChamber object\n",
    "\n",
    "An associated `VisEchoChamber` object is created for quick visualisations."
   ]
  },
  {
   "cell_type": "code",
   "execution_count": null,
   "metadata": {
    "pycharm": {
     "name": "#%%\n"
    }
   },
   "outputs": [],
   "source": [
    "ec = EchoChamber(N, m, K, alpha)\n",
    "vis = VisEchoChamber(ec)"
   ]
  },
  {
   "cell_type": "markdown",
   "metadata": {},
   "source": [
    "## Set activity based on powerlaw distribution\n",
    "\n",
    "$$F(a) = (\\gamma-1) \\varepsilon^{\\gamma-1} a^{-\\gamma} \\tag{2}$$"
   ]
  },
  {
   "cell_type": "code",
   "execution_count": null,
   "metadata": {
    "pycharm": {
     "name": "#%%\n"
    }
   },
   "outputs": [],
   "source": [
    "#@title Show activities for one network { display-mode: \"form\" }\n",
    "\n",
    "ec.set_activities(activity_distribution, gamma, epsilon)\n",
    "fig, ax = plt.subplots(1,2, figsize=(8,5))\n",
    "fig.subplots_adjust(wspace=0.3)\n",
    "fig.suptitle(\"t=0\")\n",
    "vis.show_activities(ax=ax[0])\n",
    "vis.show_activity_vs_opinion(ax=ax[1])"
   ]
  },
  {
   "cell_type": "markdown",
   "metadata": {
    "ExecuteTime": {
     "end_time": "2020-06-05T12:02:55.557285Z",
     "start_time": "2020-06-05T12:02:53.637133Z"
    },
    "pycharm": {
     "name": "#%% md\n"
    }
   },
   "source": [
    "## Social Interactions\n",
    "\n",
    "$A_{ij}(t)$ is the temporal adjacency matrix, which represents the temporal variability\n",
    "of interactions \\cite{barabasi2005origin}, with $A_{ij}(t)=1$ when there is an input\n",
    "from agent $j$ to $i$ and $A_{ij}(t)=0$ otherwise. The probabilistic reciprocity\n",
    "factor $r \\in [0, 1]$ determines the chance that a connection is mutually influential,\n",
    "$(A_{ij}(t)=A_{ji}(t)=1)$. If the interaction is reciprocated, both agents update\n",
    "their opinions; otherwise, only one of the agents' opinions is updated. For each\n",
    "instance of the adjacency matrix, interactions are governed by each agent's activity\n",
    "$a_i \\in [\\varepsilon, 1]$, the propensity for agent $i$ to interact with $m$ other agents,\n",
    "and the probability $p_{ij}$ that an active agent $i$ will connect with another agent $j$.\n",
    "This can lead to the polarization of opinions, where most agents hold a moderate stance on\n",
    "a binary issue and few, if any, agents have a neutral opinion (Fig. 1(a)).\n",
    "If active agents have an equal chance of interacting with $m$ other agents regardless of\n",
    "their stance, then the network can become radicalized, with all agents having the same\n",
    "stance (Fig. 1(b)).\n",
    "\n",
    "> a note on implementation\n",
    ">\n",
    "> the class `SocialInteraction` (in `opdynamics.dynamics.socialinteraction.py`) handles these dynamics.\n",
    ">\n",
    "> it handles calling `get_connection_probabilities` and `get_social_interaction` at each `dt`.\n",
    ">\n",
    "> for convenience, arguments for the class and methods are handle by `EchoChamber.set_social_interactions(beta, r, **kwargs)`.\n",
    "> This (more or less) calls `SocialInteraction(**kwargs)` and `get_connection_probabilities(beta, **kwargs)` and `get_social_interaction(r)`\n",
    "\n",
    "### connection probabilities\n",
    "\n",
    "We define the connection probabilities as a function of the magnitude between two agents' opinions:\n",
    "\n",
    "$$ p_{ij} = \\frac{|x_i - x_j|^{-\\beta}}{\\sum_j |x_i - x_j|^{-\\beta}} \\tag{3}$$\n",
    "\n",
    "Where $\\beta$ is the homophily factor, the tendency for agents with similar opinions to interact with each other:\n",
    "$\\beta = 0$ refers to no interaction preference, and $\\beta > 0$ means agents with similar opinions are more likely to interact.\n",
    "Eq. \\ref{conn.eq} is modeled as a power-law decay of connection probabilities with only a small chance for agents with opposite\n",
    "opinions to interact. Due to most interactions occurring between agents with similar opinions, this can lead to the formation of\n",
    "echo chambers (Fig. \\ref{od1.fig}(d)). We instantiate $p_{ij}$ based on the initial uniform distribution of\n",
    "opinions $x_i \\sim \\mathcal{U}(0,1)$ \\cite{baumann2020modeling}.\n",
    "\n",
    "These results held whether the temporal network $A_{ij}(t)$ was determined by an initial $p_{ij}$ or one that was\n",
    "determined at every time point $p_{ij}(t)$ (`ec.set_social_interactions(beta, r, update_conn=True)`).\n",
    "\n",
    "### mutual interactions\n",
    "\n",
    "Every interaction from $j$ to $i$ has a chance $r$ of being reciprocal/mutual. That is, $r=0$ means a directed graph of\n",
    "interactions, one-way influence, and $r=1$ means an undirected graph of connections and a symmetrical adjacency matrix.\n",
    "\n",
    "- The matrices are computed either\n",
    "    - before the network is run (`run_network`) using `store_all=True` (*warning: can use a lot of RAM!*)\n",
    "    - on demand using `store_all=False`.\n",
    "- Cumulative adjacency matrix $\\sum_{t=0}^T A_{ij}(t)$ can be plotted a number of ways using `vis.show_adjacency_matrix(...)`\n",
    "    - `clustermap`\n",
    "    - `heatmap`\n",
    "    - `mesh`\n",
    "    \n",
    "    Interactions can be sorted using `sort=True` for plotting to identify clusters"
   ]
  },
  {
   "cell_type": "code",
   "execution_count": null,
   "metadata": {
    "pycharm": {
     "name": "#%%\n"
    }
   },
   "outputs": [],
   "source": [
    "#@title Set social interactions and show connection probabilities\n",
    "\n",
    "ec.set_social_interactions(beta, r, store_all=True, t_end=5, dt=0.01)\n",
    "\n",
    "fig, ax = vis.show_connection_probabilities(\"mesh\", sort=True,\n",
    "                                  cmap=sns.cubehelix_palette(light=1, as_cmap=True),\n",
    "                                  cbar_kws=dict(pad=0.05))\n",
    "# move label to title\n",
    "move_cbar_label_to_title(fig)\n",
    "#plt.show()\n",
    "#vis.show_adjacency_matrix(\"mesh\", True)"
   ]
  },
  {
   "cell_type": "code",
   "execution_count": null,
   "metadata": {
    "pycharm": {
     "name": "#%%\n"
    }
   },
   "outputs": [],
   "source": [
    "# other examples\n",
    "vis.show_adjacency_matrix(\"clustermap\", ax=False, fig=False, sort=False)\n",
    "vis.show_adjacency_matrix(\"heatmap\", sort=True, square=True)\n"
   ]
  },
  {
   "cell_type": "markdown",
   "metadata": {
    "ExecuteTime": {
     "end_time": "2020-06-05T12:03:30.916914Z",
     "start_time": "2020-06-05T12:03:16.470534Z"
    },
    "pycharm": {
     "name": "#%% md\n"
    }
   },
   "source": [
    "## Opinion dynamics (without RDN)"
   ]
  },
  {
   "cell_type": "code",
   "execution_count": null,
   "metadata": {
    "pycharm": {
     "name": "#%%\n"
    }
   },
   "outputs": [],
   "source": [
    "ec.set_dynamics()"
   ]
  },
  {
   "cell_type": "markdown",
   "metadata": {
    "ExecuteTime": {
     "end_time": "2020-06-05T12:03:31.856425Z",
     "start_time": "2020-06-05T12:03:31.617699Z"
    },
    "pycharm": {
     "name": "#%% md\n"
    }
   },
   "source": [
    "## Run and plot results"
   ]
  },
  {
   "cell_type": "code",
   "execution_count": null,
   "metadata": {
    "pycharm": {
     "name": "#%%\n"
    }
   },
   "outputs": [],
   "source": [
    "dt = 0.01\n",
    "T = 5\n",
    "ec.run_network(dt=dt, t_end=T, method='Euler')\n",
    "\n",
    "# some options on how to plot\n",
    "fig, ax = plt.subplots(nrows=3, sharex='col', sharey='col', figsize=(6,6))\n",
    "fig.subplots_adjust(hspace=0.05)\n",
    "vis.show_opinions(color_code=True, ax=ax[0], title=True)     # markers\n",
    "vis.show_opinions(color_code='line', ax=ax[1], title=False)  # lines\n",
    "vis.show_opinions(color_code=False, ax=ax[2], title=False)   # agents uniquely coloured\n",
    "sns.despine(fig)"
   ]
  },
  {
   "cell_type": "markdown",
   "metadata": {
    "ExecuteTime": {
     "end_time": "2020-06-05T12:04:22.190150Z",
     "start_time": "2020-06-05T12:03:33.723903Z"
    },
    "pycharm": {
     "name": "#%% md\n"
    }
   },
   "source": [
    "## Save/Load\n",
    "\n",
    "Given the same parameters, a network can be restored without explicitly calling `run_network`. \n",
    "\n",
    "A simulation is saved using `ec.save(only_last=True)`. If `only_last` is `False`, the entire duration of the simulation is saved.\n",
    "\n",
    "If a simulation exists for the network parameters, `ec.load()` restores the saved states and returns `True` (returns `False` otherwise)."
   ]
  },
  {
   "cell_type": "code",
   "execution_count": null,
   "metadata": {
    "pycharm": {
     "name": "#%%\n"
    }
   },
   "outputs": [],
   "source": [
    "filename = ec.save()\n",
    "new_ec = EchoChamber(N, m, K, alpha)\n",
    "new_ec.set_activities(activity_distribution, gamma, epsilon)\n",
    "new_ec.set_social_interactions(beta, r, store_all=False) # note only the `r` is the important parameter\n",
    "new_ec.set_dynamics()\n",
    "loaded = new_ec.load(dt, T)\n",
    "if not loaded:\n",
    "    print(\"run network\")\n",
    "    new_ec.run_network(dt, T)\n",
    "else:\n",
    "    print(\"results loaded\")"
   ]
  },
  {
   "cell_type": "markdown",
   "metadata": {
    "ExecuteTime": {
     "end_time": "2020-06-05T12:04:24.947780Z",
     "start_time": "2020-06-05T12:04:22.785141Z"
    },
    "pycharm": {
     "name": "#%% md\n"
    }
   },
   "source": [
    "# Figure 1\n",
    "\n",
    "> The convenient `Simulation.run_params` static method is used."
   ]
  },
  {
   "cell_type": "code",
   "execution_count": null,
   "metadata": {
    "cell_style": "center",
    "pycharm": {
     "name": "#%%\n"
    }
   },
   "outputs": [],
   "source": [
    "# General params\n",
    "\n",
    "N=1000\n",
    "m=10\n",
    "T=10\n",
    "epsilon=1e-2\n",
    "gamma=2.1\n",
    "r=0.5 # probability of mutual interaction\n",
    "dt=0.01\n",
    "\n",
    "# Specific params for different dynamics\n",
    "param_set={\n",
    "    \"neutral\": dict(K=3,alpha=0.05,beta=2),\n",
    "    \"radical\": dict(K=3,alpha=3,beta=0),\n",
    "    \"polar\": dict(K=3,alpha=3,beta=3)\n",
    "    }"
   ]
  },
  {
   "cell_type": "markdown",
   "metadata": {
    "ExecuteTime": {
     "end_time": "2020-06-05T12:04:25.701344Z",
     "start_time": "2020-06-05T12:04:25.476261Z"
    },
    "cell_style": "center",
    "pycharm": {
     "name": "#%% md\n"
    }
   },
   "source": [
    "## Neutral opinion (not shown)\n",
    "\n",
    "Low controversialness\n",
    "\n",
    "- $K = 3$\n",
    "- $\\alpha = 0.05$\n",
    "- $\\beta = 2$"
   ]
  },
  {
   "cell_type": "code",
   "execution_count": null,
   "metadata": {
    "cell_style": "center",
    "pycharm": {
     "name": "#%%\n"
    }
   },
   "outputs": [],
   "source": [
    "ec_neutral = Simulation.run_params(EchoChamber, N=N, m=m, **param_set['neutral'],\n",
    "                                   activity=activity_distribution, epsilon=epsilon, gamma=gamma, r=r,\n",
    "                                   dt=dt, T=T, plot_opinion=True,\n",
    "                                   cache=\"all\")"
   ]
  },
  {
   "cell_type": "markdown",
   "metadata": {
    "ExecuteTime": {
     "end_time": "2020-06-05T12:16:59.700237Z",
     "start_time": "2020-06-05T12:16:28.983017Z"
    },
    "pycharm": {
     "name": "#%% md\n"
    }
   },
   "source": [
    "## Polarisation of opinions (1a)\n",
    "\n",
    "Strong social interactions ($K$), controversial issue ($\\alpha$), and greater chance of connecting with people with similar opinions ($\\beta$)\n",
    "\n",
    "- $K = 3$\n",
    "- $\\alpha = 3$\n",
    "- $\\beta = 3$\n"
   ]
  },
  {
   "cell_type": "code",
   "execution_count": null,
   "metadata": {
    "pycharm": {
     "name": "#%%\n"
    }
   },
   "outputs": [],
   "source": [
    "ec_polar = Simulation.run_params(EchoChamber, N=N, m=m, **param_set['polar'],\n",
    "                                 activity=activity_distribution, epsilon=epsilon, gamma=gamma, r=r,\n",
    "                                 dt=dt, T=T, plot_opinion=True,\n",
    "                                 cache=\"all\")\n",
    "# plt.savefig(\"output/fig1a.pdf\")"
   ]
  },
  {
   "cell_type": "markdown",
   "metadata": {},
   "source": [
    "## Radicalisation of opinions (1b)\n",
    "\n",
    "Uniform connection probabilities\n",
    "\n",
    "- $K = 3$\n",
    "- $\\alpha = 3$\n",
    "- $\\beta = 0$"
   ]
  },
  {
   "cell_type": "code",
   "execution_count": null,
   "metadata": {
    "pycharm": {
     "name": "#%%\n"
    }
   },
   "outputs": [],
   "source": [
    "ec_radical = Simulation.run_params(EchoChamber, N=N, m=m, **param_set['radical'],\n",
    "                                   activity=activity_distribution, epsilon=epsilon, gamma=gamma, r=r,\n",
    "                                   dt=dt, T=T, plot_opinion=True,\n",
    "                                   cache=\"all\")\n"
   ]
  },
  {
   "cell_type": "markdown",
   "metadata": {
    "pycharm": {
     "name": "#%% md\n"
    }
   },
   "source": [
    "*for moderate $\\beta$, a polarised network may turn radical.*"
   ]
  },
  {
   "cell_type": "code",
   "execution_count": null,
   "metadata": {
    "pycharm": {
     "name": "#%%\n"
    }
   },
   "outputs": [],
   "source": [
    "T=20\n",
    "ec_polar_radical = Simulation.run_params(EchoChamber, N=N, m=m,\n",
    "                                         K=3, alpha=3, beta=0.6,\n",
    "                                         activity=activity_distribution, epsilon=epsilon, gamma=gamma, r=r,\n",
    "                                         dt=dt, T=T, plot_opinion=False,\n",
    "                                         cache=\"all\")\n",
    "vis = VisEchoChamber(ec_polar_radical)\n",
    "fig, axs = plt.subplots(2, 2, sharex='row', sharey=False)\n",
    "gs = axs[0, 0].get_gridspec()\n",
    "# remove the underlying axes\n",
    "for ax in axs[0, :]:\n",
    "    ax.remove()\n",
    "axbig = fig.add_subplot(gs[0, :])\n",
    "fig.subplots_adjust(hspace=0.3)\n",
    "vis.show_opinions(color_code='line', subsample=2, lw=1, ax=axbig)\n",
    "vis.show_opinions_distribution(t=5.0, ax=axs[1,0], kde_kws=dict(bw_adjust=0.1), , fill=True title=f\"5\")\n",
    "vis.show_opinions_distribution(ax=axs[1,-1], fill=True, title=f\"{T}\")"
   ]
  },
  {
   "cell_type": "markdown",
   "metadata": {
    "ExecuteTime": {
     "end_time": "2020-06-03T20:26:04.699144Z",
     "start_time": "2020-06-03T20:26:03.881112Z"
    },
    "pycharm": {
     "name": "#%% md\n"
    }
   },
   "source": [
    "## Activity vs Opinion (1c)\n",
    "Polarised param set\n",
    "- $r = 0.65$"
   ]
  },
  {
   "cell_type": "markdown",
   "metadata": {
    "pycharm": {
     "name": "#%% md\n"
    }
   },
   "source": [
    "> to reproduce the density in the papers, $10^3$ \"opinion states\" need to be plotted, with each opinion state consisting of 1000 agents' opinions."
   ]
  },
  {
   "cell_type": "code",
   "execution_count": null,
   "metadata": {
    "pycharm": {
     "name": "#%%\n"
    }
   },
   "outputs": [],
   "source": [
    "# suppress logging for clean progressbar\n",
    "logging_level = logging.getLogger().getEffectiveLevel()\n",
    "logging.getLogger().setLevel(logging.WARNING)\n",
    "\n",
    "# parameters\n",
    "N=1000\n",
    "m=10\n",
    "T=5\n",
    "activity_distribution=negpowerlaw\n",
    "epsilon=1e-2\n",
    "gamma=2.1\n",
    "dt=0.01\n",
    "r=0.65\n",
    "\n",
    "# how many simulations to run\n",
    "try:\n",
    "    from google.colab import drive\n",
    "    num_states = 1000\n",
    "except ModuleNotFoundError:\n",
    "    num_states = 10\n",
    "# where to save the file\n",
    "file_name = \".cache/activity_vs_opinion.h5\"\n",
    "\n",
    "# helper array\n",
    "agent_indices = np.arange(N, dtype=int)\n",
    "\n",
    "# the efficient HDF format is used for saving and loading DataFrames.\n",
    "with pd.HDFStore(file_name) as hdf:\n",
    "    # get keys from the store to know how many simulations have already been saved\n",
    "    states = hdf.keys()\n",
    "    states_completed = len(states)\n",
    "    # we start iterating from states_completed as the `seed` parameter uses `i`\n",
    "    for i in tqdm(range(states_completed, num_states)):\n",
    "        ec = Simulation.run_params(EchoChamber,N=N, m=m, **param_set['polar'],\n",
    "                                   activity=activity_distribution, epsilon=epsilon, gamma=gamma, r=r,\n",
    "                                   dt=dt, T=T, store_all=False, \n",
    "                                   cache=False, # don't cache time portion\n",
    "                                   seed=i)\n",
    "        # create dataframe for this iteration\n",
    "        df = pd.DataFrame({\"activity\": ec.activities,\n",
    "                           \"opinion\": ec.opinions\n",
    "                          })\n",
    "        # save to disk for use later\n",
    "        hdf.append(f\"d{i}\", df)\n",
    "\n",
    "\n",
    "# return to previous logging (more or less - we change root level)\n",
    "logging.getLogger().setLevel(logging_level)\n",
    "\n",
    "# collect all data into a dataframe\n",
    "with pd.HDFStore(file_name) as hdf:\n",
    "    df_ao = pd.concat([hdf.get(key) for key in hdf.keys()])\n",
    "\n",
    "# plot everything\n",
    "# (very good idea to rasterize for saving)\n",
    "fig, ax, cbar = show_activity_vs_opinion(df_ao.opinion.values, df_ao.activity.values,\n",
    "                                         bins=N, norm=LogNorm(vmin=1/N),\n",
    "                                         cbar_kws=dict(cax=True),\n",
    "                                         s=0.1, rasterized=True)\n",
    "ax.set_ylim(0, 0.5)\n",
    "sns.despine()\n",
    "\n",
    "# clear up some ram\n",
    "del df_ao\n"
   ]
  },
  {
   "cell_type": "markdown",
   "metadata": {
    "ExecuteTime": {
     "end_time": "2020-06-03T20:34:51.732877Z",
     "start_time": "2020-06-03T20:34:28.736432Z"
    },
    "pycharm": {
     "name": "#%% md\n"
    }
   },
   "source": [
    "## Nearest Neighbour (1d)"
   ]
  },
  {
   "cell_type": "code",
   "execution_count": null,
   "metadata": {
    "ExecuteTime": {
     "end_time": "2020-06-03T20:34:55.825948Z",
     "start_time": "2020-06-03T20:34:53.385086Z"
    },
    "code_folding": [],
    "pycharm": {
     "name": "#%%\n"
    }
   },
   "outputs": [],
   "source": [
    "vis = VisEchoChamber(ec_polar)\n",
    "\n",
    "levels=10\n",
    "\n",
    "g = vis.show_nearest_neighbour(bw_adjust=0.5, color=sns.cubehelix_palette(levels, reverse=True)[levels//2],\n",
    "                               cmap=sns.cubehelix_palette(levels, reverse=True, as_cmap=True), levels=levels,\n",
    "                               thresh=0)\n",
    "# adjust limits based on xaxis\n",
    "from scipy import stats\n",
    "x_data, y_data = g.ax_marg_x.get_lines()[0].get_data()\n",
    "s = stats.describe(y_data)\n",
    "low_bound = np.max(s.mean-s.variance, 0)\n",
    "mask = (low_bound < y_data)\n",
    "lim = x_data[mask][0]*1.5, x_data[mask][-1]*1.5\n",
    "g.ax_joint.set_xlim(*lim)\n",
    "# keep it 'square' (xlim == ylim)\n",
    "g.ax_joint.set_ylim(*lim)"
   ]
  },
  {
   "cell_type": "markdown",
   "metadata": {},
   "source": [
    "## Generate figure 1"
   ]
  },
  {
   "cell_type": "code",
   "execution_count": null,
   "metadata": {
    "ExecuteTime": {
     "end_time": "2020-06-03T20:37:01.999087Z",
     "start_time": "2020-06-03T20:36:34.289296Z"
    },
    "pycharm": {
     "name": "#%%\n"
    }
   },
   "outputs": [],
   "source": [
    "from opdynamics.utils.plot_utils import move_cbar_label_to_title\n",
    "with sns.plotting_context(\"paper\"):\n",
    "    # create figure and grid\n",
    "    fig = plt.figure(figsize=(3.375, 2.618), dpi=200)\n",
    "    gs = gridspec.GridSpec(nrows=2, ncols=2, wspace=1.1, hspace=0.9,\n",
    "                           left=0.18, right=0.97, bottom=0.15,\n",
    "                           height_ratios=[1,1.618])\n",
    "    gs_trace_1 = gridspec.GridSpecFromSubplotSpec(1, 2, subplot_spec=gs[0,0],\n",
    "                                                  width_ratios=[1, 0.15],\n",
    "                                                  wspace=0.1)\n",
    "    gs_trace_2 = gridspec.GridSpecFromSubplotSpec(1, 2,  subplot_spec=gs[0,1],\n",
    "                                                  width_ratios=[1, 0.15],\n",
    "                                                  wspace=0.1)\n",
    "    gs_activity = gridspec.GridSpecFromSubplotSpec(1, 2,  subplot_spec=gs[1,0],\n",
    "                                                  width_ratios=[1, 0.1],\n",
    "                                                  wspace=0.1)\n",
    "    gs_nn = gridspec.GridSpecFromSubplotSpec(2, 2,  subplot_spec=gs[1,1],\n",
    "                                             width_ratios=[1, 0.1], height_ratios=[0.1, 1],\n",
    "                                             wspace=0.1, hspace=0.1)\n",
    "    # create axes\n",
    "    ax_trace_1 = fig.add_subplot(gs_trace_1[0])\n",
    "    ax_dist_1 = fig.add_subplot(gs_trace_1[1], sharey=ax_trace_1)\n",
    "    ax_trace_2 = fig.add_subplot(gs_trace_2[0])\n",
    "    ax_dist_2 = fig.add_subplot(gs_trace_2[1], sharey=ax_trace_2)\n",
    "    ax_activity = fig.add_subplot(gs_activity[0])\n",
    "    ax_activity_cax = fig.add_subplot(gs_activity[1])\n",
    "    ax_joint = fig.add_subplot(gs_nn[1,0])\n",
    "    ax_marg_x = fig.add_subplot(gs_nn[0,0], sharex=ax_joint)\n",
    "    ax_marg_y = fig.add_subplot(gs_nn[1,1], sharey=ax_joint)\n",
    "\n",
    "    # Make the grid look nice\n",
    "    sns.despine(fig)\n",
    "    sns.despine(ax=ax_dist_1, left=False, bottom=True)\n",
    "    sns.despine(ax=ax_dist_2, left=False, bottom=True)\n",
    "    ax_dist_1.tick_params(labelleft=False, bottom=False, labelbottom=False)\n",
    "    ax_dist_2.tick_params(labelleft=False, bottom=False, labelbottom=False)\n",
    "    sns.despine(ax=ax_marg_x, left=True)\n",
    "    sns.despine(ax=ax_marg_y, bottom=True)\n",
    "\n",
    "    # polarised opinions trace\n",
    "    vis = VisEchoChamber(ec_polar)\n",
    "    vis.show_opinions(ax=ax_trace_1, color_code='line', subsample=10, lw=0.5, title=\"Polarised\", rasterized=True)\n",
    "    vis.show_opinions_distribution(ax=ax_dist_1, kde_kws=dict(bw_adjust=0.15), vertical=True, title=False)\n",
    "\n",
    "    # radicalised opinions trace\n",
    "    vis_radical = VisEchoChamber(ec_radical)\n",
    "    vis_radical.show_opinions(ax=ax_trace_2, color_code='line', subsample=2, lw=1, title=\"Radicalised\", rasterized=True)\n",
    "    vis_radical.show_opinions_distribution(ax=ax_dist_2, kde_kws=dict(bw_adjust=0.15), vertical=True, title=False)\n",
    "\n",
    "    # activity vs opinion\n",
    "    file_name = \".cache/activity_vs_opinion.h5\"\n",
    "    with pd.HDFStore(file_name) as hdf:\n",
    "        df_ao = pd.concat([hdf.get(key) for key in hdf.keys()])\n",
    "    _,_,cbar = show_activity_vs_opinion(df_ao.opinion.values, df_ao.activity.values,\n",
    "                                        ax=ax_activity,\n",
    "                                        bins=N, norm=LogNorm(vmin=10/N),\n",
    "                                        cmap='Spectral_r',\n",
    "                                        cbar_kws=dict(cax=ax_activity_cax),\n",
    "                                        s=0.01, rasterized=True, title=False)\n",
    "    cbar.outline.set_visible(False)\n",
    "    del df_ao\n",
    "\n",
    "    # nearest neighbour\n",
    "    show_jointplot(ec_polar.opinions, ec_polar.get_nearest_neighbours(),\n",
    "                   ax=(ax_joint, ax_marg_x, ax_marg_y))\n",
    "\n",
    "    # cleaning\n",
    "    ax_trace_1.set_ylim(-5, 5)\n",
    "    ax_trace_2.set_ylim(-5, 5)\n",
    "    ax_trace_1.set_xticks([0,5,10])\n",
    "    ax_trace_2.set_xticks([0,5,10])\n",
    "    ax_dist_1.set_ylabel(\"\")\n",
    "    ax_dist_2.set_ylabel(\"\")\n",
    "    ax_dist_1.set_xlabel(\"\")\n",
    "    ax_dist_2.set_xlabel(\"\")\n",
    "    ax_dist_1.set_xlim(0, 0.7)\n",
    "    ax_dist_2.set_xlim(0, 1.4)\n",
    "    ax_activity.set_ylim(0, 0.5)\n",
    "    ax_activity.set_xlim(-10, 10)\n",
    "    move_cbar_label_to_title(ax_activity_cax)\n",
    "\n",
    "    ax_joint.set_xlim(-5, 5)\n",
    "    ax_joint.set_ylim(-5, 5)\n",
    "    ax_joint.set_xlabel(OPINION_SYMBOL)\n",
    "    ax_joint.set_ylabel(MEAN_NEAREST_NEIGHBOUR)\n",
    "\n",
    "    for letter, _ax in zip(string.ascii_lowercase, [ax_trace_1,ax_trace_2, ax_activity, ax_marg_x]):\n",
    "        _ax.annotate(f\"({letter})\", xy=(0, 1), xycoords=\"axes fraction\",\n",
    "                        xytext=(-27, 5), textcoords=\"offset points\",\n",
    "                        va=\"bottom\", ha=\"right\")\n",
    "    # reduce space between axes labels and axes\n",
    "    for _ax in flatten(fig.axes):\n",
    "        _ax.yaxis.labelpad=0\n",
    "        _ax.xaxis.labelpad=0\n",
    "    fig.savefig(\"output/fig1.pdf\")\n"
   ]
  },
  {
   "cell_type": "markdown",
   "metadata": {
    "ExecuteTime": {
     "end_time": "2020-06-03T21:49:13.631531Z",
     "start_time": "2020-06-03T21:45:08.382638Z"
    },
    "pycharm": {
     "name": "#%% md\n"
    }
   },
   "source": [
    "# NoisyEchoChamber"
   ]
  },
  {
   "cell_type": "markdown",
   "metadata": {
    "pycharm": {
     "name": "#%% md\n"
    }
   },
   "source": [
    "Add noise to the system\n",
    "\n",
    "$\\dot{x}_i= -x_i + K \\sum^{N}_{j=1} A_{ij} (t)  \\tanh(\\alpha x_j)  + D [\\rm nudge]$\n",
    "\n",
    "\n",
    " Symbol      | Keyword      | Class (inherits from)            | Meaning                                                         | Range ($\\mathbb{R}$)\n",
    "-------------|--------------|----------------------------------|----------------------------------------------------------|---------------------\n",
    " $D$         | ``D``        |``NoisyEchoChamber(EchoChamber)`` | Strength of noise/nudge                                         | $>=0$\n"
   ]
  },
  {
   "cell_type": "markdown",
   "metadata": {},
   "source": [
    "## Open system (external noise)\n",
    "\n",
    "$\\dot{x}_i = -x_i + K \\sum^{N}_{j=1} A_{ij} (t)  \\tanh(\\alpha x_j)+ D \\cdot \\xi (t)$\n",
    "\n",
    " Symbol        | Class (inherits from)             | Meaning\n",
    "---------------|-----------------------------------|---------------\n",
    " $\\xi(t)$      | ``OpenChamber(NoisyEchoChamber)`` | [Wiener process](https://en.wikipedia.org/wiki/Wiener_process)\n",
    " $\\dot{\\xi}$   | ``OpenChamber(NoisyEchoChamber)`` | Derivative $\\mathcal{N}(0,\\sqrt{dt})$\n"
   ]
  },
  {
   "cell_type": "code",
   "execution_count": null,
   "metadata": {
    "pycharm": {
     "name": "#%%\n"
    }
   },
   "outputs": [],
   "source": [
    "#@title Nudge strength ($D$)\n",
    "\n",
    "# suppress logging for clean progressbar\n",
    "logging_level = logging.getLogger().getEffectiveLevel()\n",
    "logging.getLogger().setLevel(logging.WARNING)\n",
    "kwargs = dict(N=1000,\n",
    "              m=10,\n",
    "              T=5,\n",
    "              epsilon=1e-2,\n",
    "              gamma=2.1,\n",
    "              dt=0.01,\n",
    "              K=2,\n",
    "              beta=1,\n",
    "              alpha=3,\n",
    "              r=0.65,\n",
    "              cls=OpenChamber\n",
    "             )\n",
    "D_range = [0, 0.01, 0.1, 0.5, 1, 10]\n",
    "nec_arr = Simulation.run_product({'D':{'range':D_range}}, plot_opinion=True, **kwargs)\n",
    "fig = plt.gcf()\n",
    "fig.subplots_adjust(hspace=-0.5)\n",
    "for ax in fig.axes:\n",
    "    ax.set_facecolor(\"None\")\n",
    "    sns.despine(ax=ax, bottom=True, left=True)\n",
    "    ax.tick_params(bottom=False, left=False, labelleft=False)\n",
    "# fig.savefig(\"output/noise.pdf\")\n",
    "logging.getLogger().setLevel(logging_level)"
   ]
  },
  {
   "cell_type": "code",
   "execution_count": null,
   "metadata": {
    "pycharm": {
     "name": "#%%\n"
    }
   },
   "outputs": [],
   "source": [
    "#@title Check `dt`\n",
    "\n",
    "# suppress logging for clean progressbar\n",
    "logging_level = logging.getLogger().getEffectiveLevel()\n",
    "logging.getLogger().setLevel(logging.WARNING)\n",
    "kwargs = dict(N=1000,\n",
    "              m=10,\n",
    "              T=1,\n",
    "              epsilon=1e-2,\n",
    "              gamma=2.1,\n",
    "              dt=0.001,\n",
    "              K=2,\n",
    "              beta=1,\n",
    "              alpha=3,\n",
    "              r=0.65,\n",
    "              cls=OpenChamber\n",
    "             )\n",
    "product_vars = {\n",
    "    'D': {\n",
    "        'range': D_range,\n",
    "    },\n",
    "    'dt': {\n",
    "        'range': np.arange(0.001, 0.01+0.001, 0.001)\n",
    "        }\n",
    "    }\n",
    "Simulation.run_product(product_vars,\n",
    "                       plot_opinion=True, title=\"dt\",\n",
    "                       label_precision=3, **kwargs)\n",
    "fig = plt.gcf()\n",
    "fig.savefig(\"output/dt.pdf\")\n",
    "logging.getLogger().setLevel(logging_level)"
   ]
  },
  {
   "cell_type": "code",
   "execution_count": null,
   "metadata": {
    "pycharm": {
     "name": "#%%\n"
    }
   },
   "outputs": [],
   "source": [
    "#@title α, β\n",
    "\n",
    "kwargs = dict(N=1000,\n",
    "              m=10,\n",
    "              T=10,\n",
    "              epsilon=1e-2,\n",
    "              gamma=2.1,\n",
    "              dt=0.01,\n",
    "              K=2,\n",
    "              beta=1,\n",
    "              alpha=3,\n",
    "              r=0.65,\n",
    "              cls=OpenChamber\n",
    "             )\n",
    "\n",
    "D_range = np.round(np.arange(0.0, 1.1, 0.1), 1)\n",
    "\n",
    "parameters = {\n",
    "    'D': {\n",
    "        'range': D_range,\n",
    "    },\n",
    "    'beta':  {\n",
    "        'range': [0, 1, 2, 3],\n",
    "        'title': \"$\\\\beta$\",\n",
    "    },\n",
    "    'alpha': {\n",
    "        'range': [0.001, 1, 2, 3], \n",
    "        'title': \"$\\\\alpha$\",\n",
    "    },\n",
    "}\n",
    "logging_level = logging.getLogger().getEffectiveLevel()\n",
    "logging.getLogger().setLevel(logging.WARNING)\n",
    "\n",
    "df = Simulation.run_product(parameters, **kwargs)\n",
    "\n",
    "logging.getLogger().setLevel(logging_level)\n",
    "\n",
    "with sns.plotting_context(\"talk\"):\n",
    "    max_range = max([other['range'] for other in parameters.values()], key=len)\n",
    "    fig, ax = plt.subplots(len(parameters),len(max_range), sharey=True, sharex=True, squeeze=False)\n",
    "    fig.subplots_adjust(hspace=0.8)\n",
    "    for i, (key, other) in enumerate(parameters.items()):\n",
    "        show_noise_panel(df, key,\n",
    "                         kde_kwargs=dict(bw_adjust=0.1, cut=2),\n",
    "                         ax=ax[i])\n",
    "        for _ax in ax[i]:\n",
    "            _ax.set_title(f\"{other['title']}={_ax.get_title()}\")\n",
    "            _ax.set_xlabel(\"\")\n",
    "            _ax.set(xlim=(-5,5), ylim=(0, 1))\n",
    "\n",
    "    sns.despine(fig=fig)\n",
    "    for _ax in ax[-1]:\n",
    "        _ax.set_xlabel(math_fix(f\"${OPINION_SYMBOL}$\"))\n",
    "    fig.savefig(f\"output/{list(parameters.keys())}_grid.pdf\")\n"
   ]
  },
  {
   "cell_type": "markdown",
   "metadata": {
    "pycharm": {
     "name": "#%% md\n"
    }
   },
   "source": [
    "### Delayed noise"
   ]
  },
  {
   "cell_type": "code",
   "execution_count": null,
   "metadata": {
    "pycharm": {
     "name": "#%%\n"
    }
   },
   "outputs": [],
   "source": [
    "# suppress logging for clean progressbar\n",
    "logging_level = logging.getLogger().getEffectiveLevel()\n",
    "logging.getLogger().setLevel(logging.WARNING)\n",
    "kwargs = dict(N=1000,\n",
    "              m=10,\n",
    "              activity_distribution = negpowerlaw,\n",
    "              epsilon=1e-2,\n",
    "              gamma=2.1,\n",
    "              dt=0.01,\n",
    "              K=3,\n",
    "              beta=3,\n",
    "              alpha=3,\n",
    "              r=0.65,\n",
    "              cls=OpenChamber\n",
    "             )\n",
    "D=0.5\n",
    "\n",
    "noise_start = 10.\n",
    "noise_length = 10.\n",
    "recovery = 10.\n",
    "num = 1\n",
    "interval = 0\n",
    "nec = Simulation.run_periodic_noise(noise_start, noise_length, recovery, interval=interval, num=num, \n",
    "                                    **kwargs,\n",
    "                                    D=D, plot_opinion=True)\n",
    "# fig = plt.gcf()\n",
    "# fig.savefig(\"output/delayed_noise.pdf\")\n",
    "logging.getLogger().setLevel(logging_level)\n"
   ]
  },
  {
   "cell_type": "markdown",
   "metadata": {
    "ExecuteTime": {
     "end_time": "2020-05-29T15:41:39.654156Z",
     "start_time": "2020-05-29T15:37:34.853340Z"
    },
    "pycharm": {
     "name": "#%% md\n"
    }
   },
   "source": [
    "## Internal noise"
   ]
  },
  {
   "cell_type": "markdown",
   "metadata": {},
   "source": [
    "### Dynamic connections"
   ]
  },
  {
   "cell_type": "markdown",
   "metadata": {},
   "source": [
    " Symbol      | Keyword      | Class (inherits from)            | Meaning                                                         | Range ($\\mathbb{R}$)\n",
    "-------------|--------------|----------------------------------|----------------------------------------------------------|---------------------\n",
    " $P(-\\beta)$ | ``p_opp``    |``ConnChamber(EchoChamber)``      | Probability of interacting with an agent of opposing opinion    | $[0,1]$\n"
   ]
  },
  {
   "cell_type": "code",
   "execution_count": null,
   "metadata": {
    "pycharm": {
     "name": "#%%\n"
    }
   },
   "outputs": [],
   "source": [
    "#@title Dynamic connections { run: \"auto\", vertical-output: true }\n",
    "\n",
    "# polar opinions\n",
    "N = 1000\n",
    "m = 10  # number of other agents to interact with\n",
    "alpha = 3  # controversialness of issue (sigmoidal shape)\n",
    "K = 3  # social interaction strength\n",
    "epsilon = 1e-2  # minimum activity level with another agent\n",
    "gamma = 2.1  # power law distribution param\n",
    "beta = 3  # power law decay of connection probability\n",
    "r = 0.5 # probability of a mutual interaction\n",
    "activity_distribution = negpowerlaw\n",
    "dt = 0.01\n",
    "T = 10\n",
    "\n",
    "p_opp = 0. #@param {type:\"slider\", min:0, max:1, step:0.05}\n",
    "\n",
    "cc = ConnChamber(N, m, K, alpha)\n",
    "cc.set_activities(activity_distribution, gamma, epsilon)\n",
    "cc.set_social_interactions(beta, r, store_all=False, p_opp=p_opp)\n",
    "cc.set_dynamics()\n",
    "cc.run_network(dt, T, method='Euler')\n",
    "\n",
    "vis = VisEchoChamber(cc)\n",
    "fig, ax = plt.subplots(2, 2, gridspec_kw=dict(width_ratios=[1,0.1]))\n",
    "vis.show_opinions(ax=ax[0,0])\n",
    "fig.subplots_adjust(wspace=0.1, hspace=0.5)\n",
    "vis.show_opinions_distribution(ax=ax[0,1], vertical=True, kde_kws=dict(bw_adjust=0.1))\n",
    "vis.show_adjacency_matrix(\"mesh\", sort=True,\n",
    "                                  cmap=sns.cubehelix_palette(light=1, as_cmap=True),\n",
    "                                  cbar_kws=dict(pad=0.05, cax=ax[1,1]),\n",
    "                                  ax=ax[1,0]\n",
    "                                  )\n",
    "move_cbar_label_to_title(ax[1,1])\n",
    "for _ax in ax[0,:]:\n",
    "    _ax.set_ylim(-5,5)\n",
    "sns.despine()\n",
    "sns.despine(ax=ax[0,1], left=True)\n",
    "ax[0,1].set_ylabel(\"\")\n",
    "ax[0,1].set_yticks([])\n",
    "fig.suptitle(f\"p_opp={p_opp}\")\n",
    "fig.set_facecolor('w')\n"
   ]
  },
  {
   "cell_type": "markdown",
   "metadata": {
    "pycharm": {
     "name": "#%% md\n"
    }
   },
   "source": [
    "### Contrastive noise\n",
    "\n",
    "Noise comes from exposing each agent to a random other agent, $x_k$, independent of $\\beta$.\n",
    "\n",
    "Either\n",
    "1. Contrast own opinion with another\n",
    "$\\dot{x}_i = K \\sum^{N}_{j=1} A_{ij} (t)  \\tanh(\\alpha_1 x_j)  + D (\\tanh(\\alpha_2 (x_i - x_k)))$\n",
    "1. Show another agent's opinion\n",
    "$\\dot{x}_i = K \\sum^{N}_{j=1} A_{ij} (t)  \\tanh(\\alpha_1 x_j)  + D (\\tanh(\\alpha_2 (x_k)))$\n",
    "\n",
    "\n",
    " Symbol        | Keyword      | Class (inherits from)                  | Meaning\n",
    "---------------|--------------|----------------------------------------|---------------\n",
    " $x_k$         | ``k_steps``  | ``ConstrastChamber(NoisyEchoChamber)`` | Another agent chosen every $k$ time steps.\n",
    " $\\alpha_2$    | ``alpha_2``  | ``ConstrastChamber(NoisyEchoChamber)`` | Scaling of agent's opinion (or difference of opinions)\n",
    "\n"
   ]
  },
  {
   "cell_type": "markdown",
   "metadata": {},
   "source": [
    "#### Params vs noise"
   ]
  },
  {
   "cell_type": "code",
   "execution_count": null,
   "metadata": {
    "pycharm": {
     "name": "#%%\n"
    }
   },
   "outputs": [],
   "source": [
    "logging_level = logging.getLogger().getEffectiveLevel()\n",
    "logging.getLogger().setLevel(logging.WARNING)\n",
    "kwargs = dict(N=1000,\n",
    "              m=10,\n",
    "              T=10,\n",
    "              epsilon=1e-2,\n",
    "              gamma=2.1,\n",
    "              dt=0.01,\n",
    "              K=2,\n",
    "              beta=1,\n",
    "              alpha=3,\n",
    "              r=0.65,\n",
    "              k_steps=10,\n",
    "              cls=ContrastChamber\n",
    "             )\n",
    "\n",
    "D_range = np.round(np.arange(0.0, 0.5, 0.05), 3)\n",
    "\n",
    "parameters = {\n",
    "    'D':{\n",
    "        'range': D_range,\n",
    "        'title': 'D',\n",
    "    },\n",
    "    'k_steps':{\n",
    "        'range':[1, 100],\n",
    "        'title':'k',\n",
    "    },\n",
    "    'alpha_2':{\n",
    "        'range':[0.01, 0.1, 1, 10],\n",
    "        'title':'$\\alpha_2$',\n",
    "    },\n",
    "}\n",
    "# suppress logging for clean progressbar\n",
    "logging_level = logging.getLogger().getEffectiveLevel()\n",
    "logging.getLogger().setLevel(logging.WARNING)\n",
    "noise_start = 0\n",
    "            \n",
    "df = Simulation.run_product(parameters,\n",
    "                            noise_start=noise_start,\n",
    "                            **kwargs)\n",
    "logging.getLogger().setLevel(logging_level)"
   ]
  },
  {
   "cell_type": "code",
   "execution_count": null,
   "metadata": {
    "ExecuteTime": {
     "end_time": "2020-06-09T17:07:10.145233Z",
     "start_time": "2020-06-09T16:59:09.207629Z"
    },
    "pycharm": {
     "name": "#%%\n"
    }
   },
   "outputs": [],
   "source": [
    "grid_kwargs = dict(sharex=False, sharey=False, margin_titles=True, legend_out=True)\n",
    "kde_kwargs = dict(bw_adjust=0.01)\n",
    "g = show_opinion_grid(df, ['alpha_2','D','k_steps'], grid_kwargs=grid_kwargs, kde_kwargs=kde_kwargs)\n",
    "g.add_legend(fontsize='large')"
   ]
  },
  {
   "cell_type": "code",
   "execution_count": null,
   "metadata": {
    "pycharm": {
     "name": "#%%\n"
    }
   },
   "outputs": [],
   "source": [
    "g = show_opinion_grid(df, [x for x in parameters.keys() if x != \"D\"],\n",
    "                    grid_kwargs=grid_kwargs, kde_kwargs=kde_kwargs)\n",
    "g.map(sns.scatterplot, \"opinion\", \"D\", color='k', alpha=0.5, ec='None', s=1)"
   ]
  },
  {
   "cell_type": "markdown",
   "metadata": {
    "pycharm": {
     "name": "#%% md\n"
    }
   },
   "source": [
    "## SampleChamber\n",
    "\n",
    "The Central Limit Theorem states...\n",
    "\n",
    "> Sample means are normally distributed.\n",
    "\n",
    "> The mean of sample means approximates the true mean of the population."
   ]
  },
  {
   "cell_type": "code",
   "execution_count": null,
   "metadata": {
    "pycharm": {
     "name": "#%%\n"
    }
   },
   "outputs": [],
   "source": [
    "#title Set up polarised opinions { display-mode: \"form\" }\n",
    "\n",
    "N=1000\n",
    "m=10\n",
    "T=10\n",
    "epsilon=1e-2\n",
    "gamma=2.1\n",
    "r=0.5 # probability of mutual interaction\n",
    "dt=0.01\n",
    "K=3\n",
    "alpha=3\n",
    "beta=3\n",
    "\n",
    "ec_polar = Simulation.run_params(EchoChamber, N=N, m=m,\n",
    "                                 K=K, alpha=alpha, beta=beta,\n",
    "                                 activity=activity_distribution, epsilon=epsilon, gamma=gamma, r=r,\n",
    "                                 dt=dt, T=T, plot_opinion=True, cache=\"all\")"
   ]
  },
  {
   "cell_type": "code",
   "execution_count": null,
   "metadata": {
    "pycharm": {
     "name": "#%%\n"
    }
   },
   "outputs": [],
   "source": [
    "#title Check sample size and number of samples { run: \"auto\", display-mode: \"form\" }\n",
    "\n",
    "sample_size = 30 #@param {type:\"slider\", min:1, max:1000, step:1}\n",
    "num_samples = 1000 #@param {type:\"slider\", min:1, max:1000, step:1}\n",
    "\n",
    "fig, ax = plt.subplots()\n",
    "\n",
    "sample_means = ec_polar.get_sample_means(sample_size, num_samples)\n",
    "mu = np.mean(sample_means)\n",
    "\n",
    "sns.distplot(sample_means)\n",
    "\n",
    "ax.annotate(f\"$\\mu' = {mu:.4f}$\", xy=(mu, ax.get_ylim()[1]), xytext=(0, 5), textcoords=\"offset points\",\n",
    "                  ha='left',va='bottom', fontsize='x-small',\n",
    "                  arrowprops=dict(arrowstyle='-|>'))\n",
    "true_mu = np.mean(ec_polar.opinions)\n",
    "ax.annotate(f\"$\\mu = {true_mu:.4f}$\", xy=(true_mu, ax.get_ylim()[1]), xytext=(0, 5), textcoords=\"offset points\",\n",
    "                  ha='left',va='top', fontsize='x-small',\n",
    "                  arrowprops=dict(arrowstyle='-|>'))\n",
    "ax.set_xlabel(f\"$\\overline{{X}}_n$\\n[$n$ = {sample_size}]\")\n",
    "ax.set_ylabel(f\"$P(\\overline{{X}}_n)$\\n[# samples = {num_samples}]\")\n"
   ]
  },
  {
   "cell_type": "markdown",
   "metadata": {
    "pycharm": {
     "name": "#%% md\n"
    }
   },
   "source": [
    "Add a \"population opinion\" term that captures the Lindeberg–Lévy Central Limit Theorem.\n",
    "\n",
    "\n",
    "$\\dot{x}_i = K \\sum^{N}_{j=1} A_{ij} (t)  \\tanh(\\alpha_1 x_j)  + D \\cdot \\sqrt {n}\\left({\\bar{X}}_{n}-\\mu \\right)$\n",
    "\n",
    "where $X$ is a random sample and $\\bar{X}_{n}$ is the sample mean for $n$ random samples.\n",
    "\n",
    "According to CLT, the means of random samples are normally distributed.\n",
    "\n",
    "By substracting the true (or accurate estimate of the ) mean, $\\mu$, and scaling by sample size ($\\sqrt{n}$),\n",
    "the normal distribution is centered on $0$.\n",
    "\n",
    "$\\sqrt {n}\\left({\\bar{X}}_{n}-\\mu \\right) \\rightarrow \\mathcal{N}\\left(0,\\sigma^{2}\\right)$\n",
    "\n",
    " Symbol      | Keyword          | Class (inherits from)            | Meaning                                                         | Range ($\\mathbb{R}$)\n",
    "-------------|------------------|----------------------------------|----------------------------------------------------------|---------------------\n",
    " $n$         | ``sample_size``  |``SampleChamber(NoisyEchoChamber)``      | Number of opinions to sample from all agents    | $[0,N]$\n"
   ]
  },
  {
   "cell_type": "code",
   "execution_count": null,
   "metadata": {
    "pycharm": {
     "name": "#%%\n"
    }
   },
   "outputs": [],
   "source": [
    "#@title SampleChamber playground { vertical-output: true }\n",
    "\n",
    "logging_level = logging.getLogger().getEffectiveLevel()\n",
    "logging.getLogger().setLevel(logging.WARNING)\n",
    "\n",
    "# polar opinions\n",
    "N = 1000 #@param {type:\"integer\"}\n",
    "m = 10 #@param {type:\"integer\"}\n",
    "α = 3 #@param {type:\"slider\", min:0, max:5, step:0.5}\n",
    "K = 3 #@param {type:\"slider\", min:0, max:5, step:0.5}\n",
    "ε = 0.01 #@param {type:\"slider\", min:0.005, max:0.05, step:0.005}\n",
    "Υ = 2.1 #@param {type:\"slider\", min:0, max:3, step:0.1}\n",
    "β = 3 #@param {type:\"slider\", min:0, max:5, step:0.5}\n",
    "r = 0.5 #@param {type:\"slider\", min:0, max:1, step:0.1}\n",
    "activity_distribution = negpowerlaw\n",
    "dt = 0.01\n",
    "T = 5 #@param {type:\"slider\", min:0, max:10, step:1}\n",
    "# Nudge arguments\n",
    "D = 0 #@param {type:\"slider\", min:0, max:20, step:0.5}\n",
    "sample_size = 10 #@param {type:\"slider\", min:1, max:100, step:1}\n",
    "sample_method = \"basic\" #@param [\"basic\", \"outer_sigmoid\", \"inner_sigmoid\", \"subsample\"]\n",
    "\n",
    "integration_method = \"RK45\" #@param [\"Euler\", \"RK45\"]\n",
    "iterations = 1 #@param {type:\"slider\", min:1, max:20, step:1}\n",
    "with sns.plotting_context(\"paper\"):\n",
    "    plt.rcParams['figure.dpi'] = 200\n",
    "    fig, axs = plt.subplots(2, 3, gridspec_kw=dict(width_ratios=[1, 1, 0.1],\n",
    "                                                   height_ratios=[0.1, 1]),\n",
    "                            sharey=\"row\", sharex=\"col\")\n",
    "    (ax_empty, ax_marg_x, ax_empty_2), (ax_opinions_t, ax_joint, ax_marg_y) = axs\n",
    "    ax_empty.remove()\n",
    "    ax_empty_2.remove()\n",
    "    fig.subplots_adjust(wspace=0.1, hspace=0.1)\n",
    "    palette = sns.color_palette(\"husl\", n_colors=iterations)\n",
    "\n",
    "    seeds = np.geomspace(1, 100000, num=20, dtype=int)\n",
    "\n",
    "    nn = np.empty(N*iterations)\n",
    "    x = np.empty(N*iterations)\n",
    "\n",
    "    for i in range(iterations):\n",
    "        sc = Simulation.run_params(cls=SampleChamber, N=N, m=m, K=K, alpha=α, beta=β,\n",
    "                                   activity=activity_distribution, gamma=Υ, epsilon=ε,\n",
    "                                   r=r, dt=dt, T=T, D=D,\n",
    "                                   sample_size=sample_size, sample_method=sample_method,\n",
    "                                   method=integration_method,\n",
    "                                   plot_opinion=False,\n",
    "                                   seed=seeds[i], cache=\"all\")\n",
    "\n",
    "        vis = VisEchoChamber(sc)\n",
    "        vis.show_opinions(color_code='line', ax=ax_opinions_t,\n",
    "                          title=f\"D={D}, n={sample_size} ({sample_method})\\n\"\n",
    "                                f\"K={K}, α={α}, β={β}\\n\"\n",
    "                                f\"N={N}, m={m}\\nε={ε}, Υ={Υ}\\n\"\n",
    "                                f\"dt={dt} ({integration_method})\"\n",
    "                          )\n",
    "        nn[i*N:(i+1)*N] = sc.get_nearest_neighbours()\n",
    "        x[i*N:(i+1)*N] = sc.opinions\n",
    "\n",
    "    show_jointplot(nn, x,\n",
    "                    ax=(ax_joint, ax_marg_x, ax_marg_y),\n",
    "                    marginal_kws=dict(bw=0.5))\n",
    "\n",
    "    ax_opinions_t.set_ylim(-5,5)\n",
    "    ax_joint.set_xlim(-5,5)\n",
    "    ax_joint.set_xlabel(MEAN_NEAREST_NEIGHBOUR)\n",
    "\n",
    "    logging.getLogger().setLevel(logging_level)"
   ]
  },
  {
   "cell_type": "markdown",
   "metadata": {
    "pycharm": {
     "name": "#%% md\n"
    }
   },
   "source": [
    "### Run parameter sweep"
   ]
  },
  {
   "cell_type": "code",
   "execution_count": null,
   "metadata": {
    "pycharm": {
     "name": "#%%\n"
    }
   },
   "outputs": [],
   "source": [
    "logging_level = logging.getLogger().getEffectiveLevel()\n",
    "eclogger.setLevel(logging.INFO)\n",
    "logging.getLogger().setLevel(logging.INFO)\n",
    "\n",
    "parameters = dict(\n",
    "    N=1000,\n",
    "    m=10,\n",
    "    T=5.0,\n",
    "    epsilon=1e-2,\n",
    "    gamma=2.1,\n",
    "    dt=0.01,\n",
    "    K=3,\n",
    "    beta=3,\n",
    "    alpha=3,\n",
    "    r=0.5,\n",
    "    cls=SampleChamber,\n",
    "    method=\"Euler\",\n",
    ")\n",
    "\n",
    "D_range = np.round(np.arange(0.0, 5.0001, 0.1), 3)\n",
    "\n",
    "sample_size_range = np.arange(1, 50.0001, 1, dtype=int)\n",
    "\n",
    "range_parameters = {\n",
    "    \"D\": {\"range\": D_range, \"title\": \"D\"},\n",
    "    \"sample_size\": {\"range\": sample_size_range, \"title\": \"n\"},\n",
    "    \"alpha\": {\"range\": [1, 2, 3], \"title\": \"α\"},\n",
    "    \"beta\": {\"range\": [1, 2, 3], \"title\": \"β\"},\n",
    "    \"K\": {\"range\": [1, 2, 3], \"title\": \"K\"},\n",
    "}\n",
    "\n",
    "cache_sim_name = \"noise_source.h5\"\n",
    "\n",
    "run_range_parameters = (\n",
    "    range_parameters if os.path.exists(f\"{get_cache_dir()}/{cache_sim_name}\") else None\n",
    ")\n",
    "\n",
    "df = Simulation.run_product(\n",
    "    run_range_parameters,\n",
    "    noise_start=0,\n",
    "    cache=True,\n",
    "    cache_sim=cache_sim_name,\n",
    "    parallel=True,\n",
    "    **parameters\n",
    ")\n",
    "logging.getLogger().setLevel(logging_level)"
   ]
  },
  {
   "cell_type": "markdown",
   "metadata": {
    "pycharm": {
     "name": "#%% md\n"
    }
   },
   "source": [
    "### Plot"
   ]
  },
  {
   "cell_type": "code",
   "execution_count": null,
   "metadata": {
    "pycharm": {
     "name": "#%%\n"
    }
   },
   "outputs": [],
   "source": [
    "grid_kwargs = dict(sharex=True, sharey=False,\n",
    "                   margin_titles=True, legend_out=True)\n",
    "kde_kwargs = dict(bw_adjust=0.01)\n",
    "\n",
    "sub_df = df[\n",
    "    (df[\"D\"].isin([0.0, 1.0, 2.0, 3.0, 4.0, 5.0])) & (df[\"sample_size\"].isin([1, 10]))\n",
    "]\n",
    "\n",
    "defaults = {\n",
    "    'D': 'col',\n",
    "    'sample_size': 'row',\n",
    "    'alpha': 3,\n",
    "    'K': 3,\n",
    "    'beta': 3,\n",
    "}\n",
    "import ipywidgets as widgets\n",
    "pickers = {}\n",
    "for key in range_parameters:\n",
    "  if key in sub_df.columns:\n",
    "    unique = sub_df[key].unique()\n",
    "    desc = range_parameters[key]['title'] if 'title' in range_parameters[key] else key\n",
    "    pickers[key] = widgets.Dropdown(description=desc,\n",
    "                                    options=list(unique)+['col', 'row', 'hue'], value=defaults[key])\n",
    "\n",
    "def f(**kwargs):\n",
    "    try:\n",
    "        out.clear_output()\n",
    "    except:\n",
    "        pass\n",
    "    columns = []\n",
    "    for key, value in kwargs.items():\n",
    "        if value in ['col', 'row', 'hue']:\n",
    "            if value == 'col':\n",
    "                columns.insert(0, key)\n",
    "            elif value == 'row':\n",
    "                columns.insert(1, key)\n",
    "            else:\n",
    "                columns.append(key)\n",
    "            continue\n",
    "    default_kwargs = {k: v for k, v in kwargs.items() if k not in columns}\n",
    "    default_df = df_multi_mask(sub_df, default_kwargs)\n",
    "    print(\"plotting\")\n",
    "    g = show_opinion_grid(default_df, columns,\n",
    "                          grid_kwargs=grid_kwargs, kde_kwargs=kde_kwargs)\n",
    "    g.add_legend()\n",
    "out = widgets.interactive_output(f, pickers)\n",
    "widgets.VBox([widgets.HBox(list(pickers.values())), out])"
   ]
  },
  {
   "cell_type": "code",
   "execution_count": null,
   "metadata": {
    "pycharm": {
     "name": "#%%\n"
    }
   },
   "outputs": [],
   "source": [
    "#@title Figure 2\n",
    "\n",
    "# polar opinions\n",
    "α = 3 #@param {type:\"slider\", min:0, max:5, step:0.5}\n",
    "K = 3 #@param {type:\"slider\", min:0, max:5, step:0.5}\n",
    "β = 3 #@param {type:\"slider\", min:0, max:5, step:0.5}\n",
    "\n",
    "assert α in range_parameters['alpha']['range']\n",
    "assert β in range_parameters['beta']['range']\n",
    "assert K in range_parameters['K']['range']\n",
    "\n",
    "defaults = {\n",
    "    'alpha': α,\n",
    "    'K': K,\n",
    "    'beta': β,\n",
    "}\n",
    "sub_D_range = [0, 1.0, 3.0, 5.0]\n",
    "col_wrap = len(sub_D_range)//2\n",
    "sub_sample_range = [1, 10, 40]\n",
    "print(\"masking\")\n",
    "sub_df = df_multi_mask(\n",
    "    df[\n",
    "        (df[\"D\"].isin(sub_D_range))\n",
    "        & (df[\"sample_size\"].isin(sub_sample_range))\n",
    "    ],\n",
    "    defaults,\n",
    ").to_pandas_df().rename({'sample_size':'n', 'opinion':OPINION_SYMBOL}, axis=1)\n",
    "print(\"plotting\")\n",
    "with sns.plotting_context(\"paper\"):\n",
    "    plt.rcParams['figure.dpi'] = 200\n",
    "    sns.set_palette(sns.color_palette(\"colorblind\", len(sub_sample_range)))\n",
    "    n_cols = len(sub_D_range)\n",
    "    n_rows = 1\n",
    "    width = 4/n_cols\n",
    "    aspect = 1\n",
    "    height = width/aspect\n",
    "    grid_kwargs = dict(sharex=True, sharey=True,\n",
    "                    margin_titles=False, legend_out=True,\n",
    "                    height=height, aspect=aspect,\n",
    "                    )\n",
    "    kde_kwargs = dict(lw=0.5, bw_adjust=0.1)\n",
    "    sub_df['D'] = sub_df['D'].astype(int)\n",
    "    g = sns.FacetGrid(sub_df, col=\"D\", col_wrap=col_wrap, hue=\"n\", **grid_kwargs)\n",
    "\n",
    "    kde_kwargs.setdefault(\"fill\", True)\n",
    "    kde_kwargs.setdefault(\"thresh\", 1)\n",
    "    g.map(sns_kdeplot, OPINION_SYMBOL, **kde_kwargs)\n",
    "    g.set(xlim=(-5,5), ylim=(0, g.axes[0].get_ylim()[1]*1.1))\n",
    "    for ax in g.axes[-col_wrap:]:\n",
    "        ax.set_xlabel(f'{OPINION_SYMBOL}')\n",
    "    for ax in g.axes[0:-1:col_wrap]:\n",
    "        ax.set_ylabel(f'P({OPINION_SYMBOL})')\n",
    "    g.add_legend(fontsize='small')\n",
    "    for line in g._legend.get_lines():\n",
    "        line.set_linewidth(1.0)\n",
    "    for f, f_ax in enumerate(g.axes):\n",
    "        y_data_max = max([max(l.get_paths()[0].vertices[:,1])\n",
    "                          for l in f_ax.get_children()\n",
    "                          if isinstance(l, PolyCollection)\n",
    "                          ]\n",
    "                         )*0.96\n",
    "        y_max = f_ax.get_ylim()[1]*1.05\n",
    "        color='grey'\n",
    "        f_ax.annotate(PEAK_DISTANCE,\n",
    "                    xy=(0, y_data_max),\n",
    "                    xytext=(0, y_max),\n",
    "                    arrowprops=dict(arrowstyle=f'-[,widthB={max(0.35-0.1*f**1.5,0)}',\n",
    "                                    color='k', alpha=0.7, lw=0.5),\n",
    "                      alpha=0.8,\n",
    "                    fontsize='x-small',\n",
    "                    va='center',\n",
    "                    ha='center')\n",
    "    print(\"saving\")\n",
    "    g.savefig(\"output/dist_n.pdf\")"
   ]
  },
  {
   "cell_type": "code",
   "execution_count": null,
   "metadata": {
    "pycharm": {
     "name": "#%%\n"
    }
   },
   "outputs": [],
   "source": [
    "#@title 2D KDE plot\n",
    "\n",
    "defaults = {\n",
    "    'alpha': α,\n",
    "    'K': K,\n",
    "    'beta': β,\n",
    "}\n",
    "sub_D_range = np.round(np.arange(0.0, 5.0001, 0.1), 3)\n",
    "print(\"masking\")\n",
    "sub_df = df_multi_mask(\n",
    "    df[\n",
    "        (df[\"D\"].isin(sub_D_range))\n",
    "        & (df[\"sample_size\"]==1)\n",
    "    ],\n",
    "    defaults,\n",
    ").to_pandas_df().rename({'opinion':OPINION_SYMBOL}, axis=1)\n",
    "print(\"plotting\")\n",
    "with sns.plotting_context(\"paper\"):\n",
    "    fig, axs = plt.subplots(ncols=2, figsize=(3.375, 2), dpi=200, gridspec_kw=dict(width_ratios=[1, 0.1]))\n",
    "    ax = axs[0]\n",
    "    cbar_ax = axs[1]\n",
    "    sns_kdeplot(sub_df[OPINION_SYMBOL], sub_df[\"D\"],\n",
    "                # bw_adjust=0.1,\n",
    "                fill=True, thresh=0, cmap='Spectral_r',\n",
    "                cbar=True,cbar_ax=cbar_ax,\n",
    "                ax=ax)\n",
    "    ax.set_xlim(-4, 4)\n",
    "    # ax.set_ylim(0, 5)\n",
    "    cbar_ax.set_title(f\"P(x, D)\")\n",
    "    fig.tight_layout()\n",
    "    fig.savefig(\"output/x_v_d.pdf\",tight=True)"
   ]
  },
  {
   "cell_type": "code",
   "execution_count": null,
   "metadata": {
    "pycharm": {
     "name": "#%%\n"
    }
   },
   "outputs": [],
   "source": [
    "g = show_opinion_grid(sub_df,\n",
    "                      [x for x in parameters.keys() if x != \"D\"],\n",
    "                      grid_kwargs=grid_kwargs, kde_kwargs=kde_kwargs)\n",
    "g.map(sns.scatterplot, \"opinion\", \"D\", color='k', alpha=0.5, ec='None', s=1)\n"
   ]
  },
  {
   "cell_type": "code",
   "execution_count": null,
   "metadata": {
    "pycharm": {
     "name": "#%%\n"
    }
   },
   "outputs": [],
   "source": [
    "#@title Figure 3\n",
    "\n",
    "with sns.plotting_context('paper'):\n",
    "    zs = plot_surfaces(df, \"D\", \"sample_size\", parameters, range_parameters,\n",
    "                       rasterized=True, # False for a LARGE pdf\n",
    "                       )\n",
    "    fig = plt.gcf()\n",
    "    fig.axes[0].set_xlim(0,5)\n",
    "    fig.axes[0].set_ylim(0,50)\n",
    "    sns.despine(offset=0, trim=False)\n",
    "    plt.gcf().savefig(os.path.join(\"output\",\"d_sample_surface.pdf\"))\n"
   ]
  },
  {
   "cell_type": "code",
   "execution_count": null,
   "metadata": {
    "pycharm": {
     "name": "#%%\n"
    }
   },
   "outputs": [],
   "source": [
    "#@title Figure 4\n",
    "\n",
    "range_parameters['sample_size']['range'] = list(range(1, 21))\n",
    "zs_20 = calc_distribution_differences(df, \"D\", \"sample_size\", range_parameters,\n",
    "                                   N=parameters[\"N\"])\n",
    "\n",
    "from matplotlib.cbook import flatten\n",
    "n_cols = len(range_parameters['alpha']['range'])\n",
    "n_rows = len(range_parameters['K']['range'])\n",
    "width = 3./n_cols\n",
    "aspect = 1.2\n",
    "height = width/aspect\n",
    "\n",
    "with sns.plotting_context(\"paper\"):\n",
    "    g = sns.relplot(\n",
    "        x=\"D\",\n",
    "        y=PEAK_DISTANCE_MEAN,\n",
    "        hue='β',\n",
    "        col='α',\n",
    "        row='K',\n",
    "        data=zs_20.rename({'beta':'β', 'alpha':'α'}, axis=1),\n",
    "        height=height,\n",
    "        aspect=aspect,\n",
    "        # palette=sns.color_palette('colorblind', 3),\n",
    "        facet_kws=dict(margin_titles=True, legend_out=True),\n",
    "        # ec=\"None\", alpha=0.8,\n",
    "        linewidth=0.1,\n",
    "        s=5,\n",
    "        legend='full',\n",
    "    )\n",
    "    g.set(xscale='log', xlim=(0.1, 6))\n",
    "    for ax in flatten(g.axes):\n",
    "        ax.set_ylabel(ax.get_ylabel(), rotation=0, ha='right')\n",
    "    g.savefig(\"output/D_v_peak.pdf\")\n",
    "    ;"
   ]
  },
  {
   "cell_type": "code",
   "execution_count": null,
   "metadata": {
    "pycharm": {
     "name": "#%%\n"
    }
   },
   "outputs": [],
   "source": [
    "with sns.plotting_context(\"paper\"):\n",
    "    g = sns.relplot(\n",
    "        x=\"D\",\n",
    "        y=PEAK_DISTANCE_VAR,\n",
    "        hue='β',\n",
    "        col='α',\n",
    "        row='K',\n",
    "        data=zs_20.rename({'beta':'β', 'alpha':'α'}, axis=1),\n",
    "        height=height,\n",
    "        aspect=aspect,\n",
    "        # palette=sns.color_palette('colorblind', 3),\n",
    "        facet_kws=dict(margin_titles=True, legend_out=True),\n",
    "        # ec=\"None\", alpha=0.8,\n",
    "        linewidth=0.1,\n",
    "        s=5,\n",
    "        legend='full',\n",
    "    )\n",
    "    g.set(xscale='log', xlim=(0.1, 6))\n",
    "    for ax in flatten(g.axes):\n",
    "        ax.set_ylabel(ax.get_ylabel(), rotation=0, ha='right')\n",
    "    g.savefig(\"output/D_v_peak_var.pdf\")\n",
    "    ;\n"
   ]
  },
  {
   "cell_type": "markdown",
   "metadata": {
    "pycharm": {
     "name": "#%% md\n"
    }
   },
   "source": [
    "# Delayed internal noise"
   ]
  },
  {
   "cell_type": "code",
   "execution_count": 2,
   "metadata": {},
   "outputs": [
    {
     "name": "stderr",
     "output_type": "stream",
     "text": [
      "DEBUG:MainThread:simulation:letting network interact without noise until 10.0.\n",
      "DEBUG:MainThread:simulation:noise (D=3) will be intermittently added from 10.0 for 10.0 in blocks of 10.000 with intervals of 0. A total of 1 perturbations will be done. Storing all interactions: True.\n",
      "periodic noise:   0%|                                                                                                                                                                                         | 0/30.0 [00:00<?, ?it/s]DEBUG:MainThread:social interaction:Social Interaction for sample chamber initialised Aij[r=0.5] get_connection_probabilities({\"beta\":3})(t).\n",
      "INFO:MainThread:social interaction:storing 3001 adjacency matrices...\n",
      "DEBUG:MainThread:social interaction:adjacency matrix has shape = (3001, 1000, 1000)\n",
      "DEBUG:MainThread:echo chamber:trying to hit cache for C:\\Users\\ccurrin\\dev\\opinion_dynamics\\.cache\\1720568004742860144.h5\n",
      "sample chamber=SampleChamber(N=1000,m=10,K=2,alpha=2,seed=15379820) negpowerlaw(2.1, 0.01, 1) Aij[r=0.5] get_connection_probabilities({\"beta\":3})(t) D_hist=['D=0.00000 from 0.00000', 'D=3.00000 from 10.00000', 'D=0.00000 from 20.00000'] sample_method=subsample n=50\n",
      "INFO:MainThread:numexpr.utils:Note: NumExpr detected 20 cores but \"NUMEXPR_MAX_THREADS\" not set, so enforcing safe limit of 8.\n",
      "INFO:MainThread:numexpr.utils:NumExpr defaulting to 8 threads.\n"
     ]
    },
    {
     "name": "stdout",
     "output_type": "stream",
     "text": [
      "\n"
     ]
    },
    {
     "name": "stderr",
     "output_type": "stream",
     "text": [
      "INFO:MainThread:echo chamber:done running sample chamber\n",
      "DEBUG:MainThread:echo chamber:sample chamber loaded from C:\\Users\\ccurrin\\dev\\opinion_dynamics\\.cache\\1720568004742860144.h5\n",
      "DEBUG:MainThread:vis simulation:plotting periodic noise\n"
     ]
    },
    {
     "data": {
      "image/png": "[encoded data removed]",
      "text/plain": [
       "<Figure size 675x600 with 4 Axes>"
      ]
     },
     "metadata": {
      "needs_background": "light"
     },
     "output_type": "display_data"
    }
   ],
   "source": [
    "#@title Playground\n",
    "%matplotlib inline\n",
    "# suppress logging for clean progressbar\n",
    "logging_level = logging.getLogger().getEffectiveLevel()\n",
    "logging.getLogger().setLevel(logging.DEBUG)\n",
    "\n",
    "# old_dir, new_dir = set_cache_dir(os.path.join(\"/content\",\".cache\",\"delayed_noise\"))\n",
    "\n",
    "noise_start = 10.\n",
    "noise_length = 10.\n",
    "recovery = 10.\n",
    "num = 1\n",
    "interval = 0\n",
    "\n",
    "# Nudge arguments\n",
    "\n",
    "D = 3 #@param {type:\"slider\", min:0, max:5, step:0.5}\n",
    "sample_size = 50 #@param {type:\"slider\", min:0, max:50, step:1}\n",
    "sample_method = \"subsample\" #@param [\"basic\", \"subsample\"]\n",
    "seed = \"15379820\" #@param [\"1337\", \"10725983\", \"7988657\", \"1572039\", \"15379820\"] {allow-input: true}\n",
    "update_conn = True #@param {type:\"boolean\"}\n",
    "store_connections = True #@param {type:\"boolean\"}\n",
    "\n",
    "# polar opinions\n",
    "N = 1000 #@param {type:\"integer\"}\n",
    "m = 10 #@param {type:\"integer\"}\n",
    "α = 2 #@param {type:\"slider\", min:0, max:5, step:0.5}\n",
    "K = 2 #@param {type:\"slider\", min:0, max:5, step:0.5}\n",
    "ε = 0.01 #@param {type:\"slider\", min:0.005, max:0.05, step:0.005}\n",
    "Υ = 2.1 #@param {type:\"slider\", min:0, max:3, step:0.1}\n",
    "β = 3 #@param {type:\"slider\", min:0, max:5, step:0.5}\n",
    "r = 0.5 #@param {type:\"slider\", min:0, max:1, step:0.1}\n",
    "dt = 0.01\n",
    "\n",
    "integration_method = \"RK45\" #@param [\"Euler\", \"RK45\"] {allow-input: true}\n",
    "\n",
    "cls = \"SampleChamber\" #@param [\"SampleChamber\", \"OpenChamber\"]\n",
    "\n",
    "cls_pick = {\"SampleChamber\": SampleChamber, \"OpenChamber\": OpenChamber}[cls]\n",
    "\n",
    "kwargs = dict(N=N,\n",
    "              m=m,\n",
    "              activity_distribution = negpowerlaw,\n",
    "              epsilon=ε,\n",
    "              gamma=Υ,\n",
    "              dt=dt,\n",
    "              K=K,\n",
    "              beta=β,\n",
    "              alpha=α,\n",
    "              r=r,\n",
    "              update_conn=update_conn,\n",
    "              cls=cls_pick,\n",
    "              method=integration_method,\n",
    "              D=D,\n",
    "              sample_size=sample_size,\n",
    "              sample_method=sample_method,\n",
    "              noise_start=noise_start,\n",
    "              noise_length=noise_length,\n",
    "              recovery=recovery,\n",
    "              interval=interval,\n",
    "              num=num,\n",
    "              seed=int(seed)\n",
    "             )\n",
    "\n",
    "with sns.plotting_context(\"paper\"):\n",
    "    plt.rcParams['figure.dpi'] = 200\n",
    "    plt.rcParams['figure.figsize'] = (3.375, 3)\n",
    "\n",
    "    nec = Simulation.run_periodic_noise(**kwargs, cache=\"all\", plot_opinion=True)\n",
    "    fig = plt.gcf()\n",
    "    dist_axs = fig.axes[1:]\n",
    "    for t, ax in zip([noise_start,noise_start+noise_length,noise_start+noise_length+recovery],\n",
    "                     dist_axs):\n",
    "        idx = np.argmin(np.abs(t - nec.result.t)) if isinstance(t, float) else t\n",
    "        opinions = nec.result.y[:, idx]\n",
    "        pop_dist = distribution_modality(opinions)\n",
    "        ax.set_title(\"\")\n",
    "\n",
    "        y_max = ax.get_ylim()[1]\n",
    "        color='grey'\n",
    "        ax.annotate(f\"{pop_dist:.2f}\",\n",
    "                    xy=(0, y_max),\n",
    "                    xytext=(0, y_max*1.05),\n",
    "                    arrowprops=dict(arrowstyle=f'-[,widthB={pop_dist}',\n",
    "                                    color='k', alpha=0.7, lw=0.5),\n",
    "                      alpha=0.8,\n",
    "                    fontsize='x-small',\n",
    "                    va='center',\n",
    "                    ha='center')\n",
    "\n",
    "        if t <= noise_start:\n",
    "            ax.annotate(PEAK_DISTANCE, xy=(0,1), xycoords='axes fraction',\n",
    "                        va='bottom', ha='right', fontsize='small')\n",
    "    fig.savefig(\"output/delayed_noise_sample.pdf\")\n",
    "# old_dir, new_dir = set_cache_dir(old_dir)\n",
    "logging.getLogger().setLevel(logging_level)"
   ]
  },
  {
   "cell_type": "code",
   "execution_count": 379,
   "metadata": {},
   "outputs": [
    {
     "data": {
      "image/png": "[encoded data removed]",
      "text/plain": [
       "<Figure size 1200x600 with 2 Axes>"
      ]
     },
     "metadata": {
      "needs_background": "light"
     },
     "output_type": "display_data"
    }
   ],
   "source": [
    "%matplotlib inline\n",
    "from matplotlib.lines import Line2D\n",
    "from matplotlib.cm import ScalarMappable\n",
    "from matplotlib.colors import Normalize\n",
    "\n",
    "from opdynamics.utils.plot_utils import colorbar_inset, colorline, get_time_point_idx\n",
    "vis = VisEchoChamber(nec)\n",
    "\n",
    "kwargs = {}\n",
    "\n",
    "with sns.plotting_context(\"paper\"):\n",
    "    plt.rcParams['figure.dpi'] = 200\n",
    "    plt.rcParams['figure.figsize'] = (6, 3)\n",
    "\n",
    "    fig, axes = plt.subplots(ncols=2, sharex=False, sharey=True, \n",
    "                             gridspec_kw={\"width_ratios\": [1, 0.5]})\n",
    "\n",
    "    t_point = float(noise_start)\n",
    "\n",
    "    t_idx = get_time_point_idx(nec.result.t, t_point)\n",
    "    t_idx_end = get_time_point_idx(nec.result.t, t_point+noise_length)\n",
    "\n",
    "    pre_noise_opinions_unsorted = nec.result.y[:, t_idx]\n",
    "    post_noise_opinions_unsorted = nec.result.y[:, t_idx_end]\n",
    "\n",
    "    x_idx = np.argsort(pre_noise_opinions_unsorted)\n",
    "\n",
    "    pre_noise_opinions = pre_noise_opinions_unsorted[x_idx]\n",
    "    post_noise_opinions = nec.result.y[x_idx, t_idx_end]\n",
    "    change_in_opinions = post_noise_opinions - pre_noise_opinions\n",
    "\n",
    "    cmap_pre = sns.light_palette(_colors[0], n_colors=1, as_cmap=True)\n",
    "    cmap_post = sns.diverging_palette(0, 0, l=0, center=\"dark\", n=1, as_cmap=True)\n",
    "    cmap_pre = sns.light_palette(PRE_RDN_COLOR, n_colors=1, as_cmap=True)\n",
    "    cmap_post = sns.light_palette(POST_RDN_COLOR, n_colors=1, as_cmap=True)\n",
    "    # green and purple diverging colormap (white in middle)\n",
    "    cmap_change = sns.diverging_palette(145, 300, s=-60, as_cmap=True)\n",
    "    cmap_change = sns.light_palette(DELTA_RDN_COLOR, as_cmap=True)\n",
    "    \n",
    "    vmax = np.max(np.abs(change_in_opinions))\n",
    "    vmin = -vmax\n",
    "    v = vis._get_equal_opinion_limits()\n",
    "    \n",
    "    sm_change = ScalarMappable(norm=Normalize(vmin, vmax), cmap=cmap_change)\n",
    "    \n",
    "    vis.show_agent_opinions(sort=x_idx, t=t_point, title=False, ax=axes[0],\n",
    "                            colorbar=False, show_middle=False,\n",
    "                            alpha=0.3,\n",
    "                            cmap=cmap_pre,\n",
    "                           )\n",
    "    vis.show_agent_opinions(sort=x_idx, t=t_point+noise_length, title=False, ax=axes[0], \n",
    "                            alpha=0.7, colorbar=False, show_middle=False,\n",
    "                            cmap=cmap_post\n",
    "                           )\n",
    "\n",
    "    axes[1].barh(\n",
    "        np.arange(nec.N),\n",
    "        change_in_opinions,\n",
    "        color=sm_change.to_rgba(np.abs(change_in_opinions)),\n",
    "        edgecolor=\"None\",\n",
    "        linewidth=0,  # remove bar borders\n",
    "        height=1,  # per agent\n",
    "        alpha=0.8,\n",
    "        **kwargs\n",
    "    )\n",
    "#     cbar = colorbar_inset(sm_change, \"outer bottom\", size=\"5%\", pad=0.01, ax=axes[1])\n",
    "    axes[0].set_xlim(-6,6)\n",
    "    axes[1].set_xlim(-2,2)\n",
    "    \n",
    "#     axes[1].set_ylim(0, nec.N)\n",
    "#     axes[0].set_xscale(\"symlog\")\n",
    "#     axes[1].set_xscale(\"symlog\")\n",
    "    \n",
    "    for ax in axes:\n",
    "        sns.despine(ax=ax, offset=5)\n",
    "#         ax.tick_params(axis=\"x\", bottom=False, labelbottom=False)\n",
    "    axes[1].set_xlabel(math_fix(f\"$\\Delta ${OPINION_SYMBOL}\"))\n",
    "    axes[0].legend([Line2D([],[], color=PRE_RDN_COLOR, alpha=0.3), Line2D([],[], color=POST_RDN_COLOR, alpha=0.7)],\n",
    "                   [\"Pre RDN\", \"Post RDN\"], \n",
    "                  frameon=False)\n",
    "    plt.savefig(\"output/dx.pdf\")"
   ]
  },
  {
   "cell_type": "code",
   "execution_count": 3,
   "metadata": {},
   "outputs": [
    {
     "name": "stdout",
     "output_type": "stream",
     "text": [
      "[0; noise start]\n",
      "[noise start; noise end]\n",
      "[0, noise end]\n"
     ]
    },
    {
     "data": {
      "text/html": [
       "<div>\n",
       "<style scoped>\n",
       "    .dataframe tbody tr th:only-of-type {\n",
       "        vertical-align: middle;\n",
       "    }\n",
       "\n",
       "    .dataframe tbody tr th {\n",
       "        vertical-align: top;\n",
       "    }\n",
       "\n",
       "    .dataframe thead th {\n",
       "        text-align: right;\n",
       "    }\n",
       "</style>\n",
       "<table border=\"1\" class=\"dataframe\">\n",
       "  <thead>\n",
       "    <tr style=\"text-align: right;\">\n",
       "      <th></th>\n",
       "      <th>idx</th>\n",
       "      <th>opinion</th>\n",
       "      <th>in_degree</th>\n",
       "      <th>out_degree</th>\n",
       "      <th>degree</th>\n",
       "      <th>RDN</th>\n",
       "    </tr>\n",
       "  </thead>\n",
       "  <tbody>\n",
       "    <tr>\n",
       "      <th>0</th>\n",
       "      <td>0</td>\n",
       "      <td>-2.071513</td>\n",
       "      <td>590</td>\n",
       "      <td>925</td>\n",
       "      <td>1515</td>\n",
       "      <td>Pre RDN</td>\n",
       "    </tr>\n",
       "    <tr>\n",
       "      <th>1</th>\n",
       "      <td>1</td>\n",
       "      <td>6.167987</td>\n",
       "      <td>4077</td>\n",
       "      <td>2876</td>\n",
       "      <td>6953</td>\n",
       "      <td>Pre RDN</td>\n",
       "    </tr>\n",
       "    <tr>\n",
       "      <th>2</th>\n",
       "      <td>2</td>\n",
       "      <td>1.018085</td>\n",
       "      <td>460</td>\n",
       "      <td>488</td>\n",
       "      <td>948</td>\n",
       "      <td>Pre RDN</td>\n",
       "    </tr>\n",
       "    <tr>\n",
       "      <th>3</th>\n",
       "      <td>3</td>\n",
       "      <td>-0.975742</td>\n",
       "      <td>553</td>\n",
       "      <td>454</td>\n",
       "      <td>1007</td>\n",
       "      <td>Pre RDN</td>\n",
       "    </tr>\n",
       "    <tr>\n",
       "      <th>4</th>\n",
       "      <td>4</td>\n",
       "      <td>-0.753852</td>\n",
       "      <td>268</td>\n",
       "      <td>313</td>\n",
       "      <td>581</td>\n",
       "      <td>Pre RDN</td>\n",
       "    </tr>\n",
       "    <tr>\n",
       "      <th>...</th>\n",
       "      <td>...</td>\n",
       "      <td>...</td>\n",
       "      <td>...</td>\n",
       "      <td>...</td>\n",
       "      <td>...</td>\n",
       "      <td>...</td>\n",
       "    </tr>\n",
       "    <tr>\n",
       "      <th>1995</th>\n",
       "      <td>995</td>\n",
       "      <td>-0.296447</td>\n",
       "      <td>500</td>\n",
       "      <td>373</td>\n",
       "      <td>873</td>\n",
       "      <td>Post RDN</td>\n",
       "    </tr>\n",
       "    <tr>\n",
       "      <th>1996</th>\n",
       "      <td>996</td>\n",
       "      <td>-0.231272</td>\n",
       "      <td>254</td>\n",
       "      <td>345</td>\n",
       "      <td>599</td>\n",
       "      <td>Post RDN</td>\n",
       "    </tr>\n",
       "    <tr>\n",
       "      <th>1997</th>\n",
       "      <td>997</td>\n",
       "      <td>-4.810485</td>\n",
       "      <td>2845</td>\n",
       "      <td>2501</td>\n",
       "      <td>5346</td>\n",
       "      <td>Post RDN</td>\n",
       "    </tr>\n",
       "    <tr>\n",
       "      <th>1998</th>\n",
       "      <td>998</td>\n",
       "      <td>-0.287959</td>\n",
       "      <td>220</td>\n",
       "      <td>342</td>\n",
       "      <td>562</td>\n",
       "      <td>Post RDN</td>\n",
       "    </tr>\n",
       "    <tr>\n",
       "      <th>1999</th>\n",
       "      <td>999</td>\n",
       "      <td>-0.972027</td>\n",
       "      <td>586</td>\n",
       "      <td>644</td>\n",
       "      <td>1230</td>\n",
       "      <td>Post RDN</td>\n",
       "    </tr>\n",
       "  </tbody>\n",
       "</table>\n",
       "<p>2000 rows × 6 columns</p>\n",
       "</div>"
      ],
      "text/plain": [
       "      idx   opinion  in_degree  out_degree  degree       RDN\n",
       "0       0 -2.071513        590         925    1515   Pre RDN\n",
       "1       1  6.167987       4077        2876    6953   Pre RDN\n",
       "2       2  1.018085        460         488     948   Pre RDN\n",
       "3       3 -0.975742        553         454    1007   Pre RDN\n",
       "4       4 -0.753852        268         313     581   Pre RDN\n",
       "...   ...       ...        ...         ...     ...       ...\n",
       "1995  995 -0.296447        500         373     873  Post RDN\n",
       "1996  996 -0.231272        254         345     599  Post RDN\n",
       "1997  997 -4.810485       2845        2501    5346  Post RDN\n",
       "1998  998 -0.287959        220         342     562  Post RDN\n",
       "1999  999 -0.972027        586         644    1230  Post RDN\n",
       "\n",
       "[2000 rows x 6 columns]"
      ]
     },
     "execution_count": 3,
     "metadata": {},
     "output_type": "execute_result"
    }
   ],
   "source": [
    "# get network properties\n",
    "\n",
    "print(\"[0; noise start]\")\n",
    "G_start, df_start = nec.get_network_agents((0.0, noise_start))\n",
    "_, df_start_conn = nec.get_network_connections((0.0, noise_start))\n",
    "df_start[\"RDN\"] = \"Pre RDN\"\n",
    "df_start_conn[\"RDN\"] = \"Pre RDN\"\n",
    "\n",
    "print(\"[noise start; noise end]\")\n",
    "G_noise, df_noise = nec.get_network_agents((noise_start, noise_start+noise_length))\n",
    "_, df_noise_conn = nec.get_network_connections((noise_start, noise_start+noise_length))\n",
    "df_noise[\"RDN\"] = \"Post RDN\"\n",
    "df_noise_conn[\"RDN\"] = \"Post RDN\"\n",
    "\n",
    "print(\"[0, noise end]\")\n",
    "G_full_noise, df_full_noise = nec.get_network_agents((0.0, noise_start+noise_length))\n",
    "_, df_full_noise_conn = nec.get_network_connections((0.0, noise_start+noise_length))\n",
    "\n",
    "df_degree = pd.concat([df_start, df_noise], ignore_index=True)\n",
    "df_conn = pd.concat([df_start_conn, df_noise_conn], ignore_index=True)\n",
    "\n",
    "df_degree"
   ]
  },
  {
   "cell_type": "code",
   "execution_count": 381,
   "metadata": {},
   "outputs": [
    {
     "data": {
      "image/png": "[encoded data removed]",
      "text/plain": [
       "<Figure size 600x600 with 1 Axes>"
      ]
     },
     "metadata": {
      "needs_background": "light"
     },
     "output_type": "display_data"
    }
   ],
   "source": [
    "rdn_name = \"Network state\"\n",
    "density_label = math_fix(f\"$P(x,{IN_DEGREE_SYMBOL})$\")\n",
    "\n",
    "with sns.plotting_context(\"paper\"):\n",
    "    plt.rcParams[\"legend.frameon\"] = False\n",
    "    \n",
    "    fig, ax = plt.subplots(figsize=(3,3), dpi=200)\n",
    "    \n",
    "    inset_ax = ax.inset_axes(bounds=[0.7, 0.3, 0.3, 0.3])\n",
    "    \n",
    "    sns.histplot(df_degree.rename(columns={\"RDN\":rdn_name}), x=\"in_degree\", hue=rdn_name, palette=[PRE_RDN_COLOR, POST_RDN_COLOR], \n",
    "                log_scale=True, \n",
    "                stat=\"probability\",\n",
    "                ax=ax\n",
    "               )\n",
    "    \n",
    "    ax.set(xlabel=f\"In degree for agent $i$ \\n \" + math_fix(f\"$[{IN_DEGREE_SYMBOL}]$\"),\n",
    "           ylabel=math_fix(f\"$P({IN_DEGREE_SYMBOL})$\"))\n",
    "    \n",
    "    sns.kdeplot(data=df_degree.rename(columns={\"RDN\":rdn_name}), x=\"opinion\", y=\"in_degree\", hue=rdn_name, palette=[PRE_RDN_COLOR, POST_RDN_COLOR], alpha=0.5, levels=8,  \n",
    "                log_scale=(False, True), fill=True, legend=False,\n",
    "                ax=inset_ax\n",
    "               )\n",
    "    \n",
    "    inset_ax.set(xlim=(-5,5), ylim=(50, 5000), ylabel=IN_DEGREE_SYMBOL, xlabel=OPINION_SYMBOL, title=density_label)\n",
    "    plt.savefig(\"output/in_degree.pdf\")"
   ]
  },
  {
   "cell_type": "code",
   "execution_count": null,
   "metadata": {},
   "outputs": [],
   "source": [
    "from opdynamics.visualise.dense import show_matrix\n",
    "from opdynamics.utils.plot_utils import get_time_point_idx\n",
    "vis = VisEchoChamber(nec)\n",
    "\n",
    "kwargs = {\"map\": \"heatmap\", \"sort\": True}\n",
    "# vis.show_adjacency_matrix(title=\"Pre RDN\", t=(0.0, noise_start), **kwargs)\n",
    "# vis.show_adjacency_matrix(title=\"Post RDN\", t=(noise_start, noise_start+noise_length), **kwargs)\n",
    "\n",
    "acc_adj_mat_pre_rdn = nec.adj_mat.accumulate(get_time_point_idx(nec.result.t, (0.0, noise_start)))\n",
    "acc_adj_mat_post_rdn = nec.adj_mat.accumulate(get_time_point_idx(nec.result.t,(noise_start, noise_start+noise_length)))\n",
    "\n",
    "opinions_pre_rdn = nec.result.y[:, get_time_point_idx(nec.result.t, noise_start)]\n",
    "opinions_post_rdn = nec.result.y[:, get_time_point_idx(nec.result.t, noise_start+noise_length)]\n",
    "\n",
    "x_idx = np.argsort(opinions_pre_rdn)\n",
    "x_idx_post = np.argsort(opinions_post_rdn)\n",
    "\n",
    "agent_mat_pre = pd.DataFrame(\n",
    "    acc_adj_mat_pre_rdn,\n",
    "    columns=pd.Index(nec.agent_idxs, name=\"i\"),\n",
    "    index=pd.Index(nec.agent_idxs, name=\"j\"),\n",
    ")\n",
    "agent_mat_post = pd.DataFrame(\n",
    "    acc_adj_mat_post_rdn,\n",
    "    columns=pd.Index(nec.agent_idxs, name=\"i\"),\n",
    "    index=pd.Index(nec.agent_idxs, name=\"j\"),\n",
    ")\n",
    "\n",
    "fig, ax = show_matrix(agent_mat_pre.loc[x_idx,x_idx], \"Number of interactions\", map=\"heatmap\", sort=False, cmap=\"viridis\", \n",
    "                      title=\"Pre RDN (sorted by pre-rdn opinion)\")\n",
    "sns.despine(ax=ax, bottom=True, left=True)\n",
    "\n",
    "fig, ax = show_matrix(agent_mat_post.loc[x_idx,x_idx], \"Number of interactions\", map=\"heatmap\", sort=False, cmap=\"viridis\", \n",
    "                      title=\"Post RDN (sorted by pre-rdn opinion)\")\n",
    "\n",
    "sns.despine(ax=ax, bottom=True, left=True)\n",
    "\n",
    "delta_mat = agent_mat_post.loc[x_idx,x_idx] - agent_mat_pre.loc[x_idx,x_idx]\n",
    "fig, ax = show_matrix(delta_mat, \"Change in number of interactions\", map=\"heatmap\", sort=False, cmap=\"bwr\", center=0,\n",
    "                      title=\"Difference in interactions\")\n",
    "\n",
    "f,a = plt.subplots()\n",
    "sns.heatmap(delta_mat, cmap=\"bwr\", center=0)\n",
    "\n",
    "\n",
    "# fig, ax = show_matrix(agent_mat_pre, \"Number of interactions\", map=\"heatmap\", sort=True, cmap=\"viridis\", title=\"Pre RDN\")\n",
    "# # access computed sorted dataframe (not present if sort=False)\n",
    "# df_sorted_mat = show_matrix.sorted_mat\n",
    "\n",
    "# # set to same index/columns as pre-rdn sorted matrix\n",
    "# agent_mat_post = agent_mat_post.loc[df_sorted_mat.index, df_sorted_mat.columns]\n",
    "# fig, ax = show_matrix(agent_mat_post, \"Number of interactions\", map=\"heatmap\", sort=False, cmap=\"viridis\", title=\"Post RDN\")\n",
    "\n",
    "# fig, ax = show_matrix(agent_mat_pre, \"Number of interactions\", map=\"heatmap\", sort=True, cmap=\"viridis\", title=\"Pre RDN\")\n",
    "# fig, ax = show_matrix(agent_mat_post, \"Number of interactions\", map=\"heatmap\", sort=True, cmap=\"viridis\", title=\"Post RDN\")\n",
    "\n"
   ]
  },
  {
   "cell_type": "code",
   "execution_count": 46,
   "metadata": {},
   "outputs": [
    {
     "data": {
      "text/plain": [
       "<AxesSubplot:xlabel='i', ylabel='j'>"
      ]
     },
     "execution_count": 46,
     "metadata": {},
     "output_type": "execute_result"
    },
    {
     "data": {
      "image/png": "[encoded data removed]",
      "text/plain": [
       "<Figure size 675x600 with 2 Axes>"
      ]
     },
     "metadata": {
      "needs_background": "light"
     },
     "output_type": "display_data"
    }
   ],
   "source": [
    "delta_mat = agent_mat_post.loc[x_idx,x_idx]-agent_mat_pre.loc[x_idx,x_idx]\n",
    "sns.heatmap(delta_mat, cmap=\"bwr\", center=0)\n"
   ]
  },
  {
   "cell_type": "code",
   "execution_count": 382,
   "metadata": {},
   "outputs": [
    {
     "data": {
      "text/html": [
       "<div>\n",
       "<style scoped>\n",
       "    .dataframe tbody tr th:only-of-type {\n",
       "        vertical-align: middle;\n",
       "    }\n",
       "\n",
       "    .dataframe tbody tr th {\n",
       "        vertical-align: top;\n",
       "    }\n",
       "\n",
       "    .dataframe thead th {\n",
       "        text-align: right;\n",
       "    }\n",
       "</style>\n",
       "<table border=\"1\" class=\"dataframe\">\n",
       "  <thead>\n",
       "    <tr style=\"text-align: right;\">\n",
       "      <th></th>\n",
       "      <th>$\\Delta x$</th>\n",
       "      <th>$\\Delta → i$</th>\n",
       "      <th>|$\\Delta x$|</th>\n",
       "      <th>|$\\Delta → i$|</th>\n",
       "    </tr>\n",
       "  </thead>\n",
       "  <tbody>\n",
       "    <tr>\n",
       "      <th>0</th>\n",
       "      <td>1.444521</td>\n",
       "      <td>-208</td>\n",
       "      <td>1.444521</td>\n",
       "      <td>208</td>\n",
       "    </tr>\n",
       "    <tr>\n",
       "      <th>1</th>\n",
       "      <td>-1.462630</td>\n",
       "      <td>-217</td>\n",
       "      <td>1.462630</td>\n",
       "      <td>217</td>\n",
       "    </tr>\n",
       "    <tr>\n",
       "      <th>2</th>\n",
       "      <td>-0.569321</td>\n",
       "      <td>-133</td>\n",
       "      <td>0.569321</td>\n",
       "      <td>133</td>\n",
       "    </tr>\n",
       "    <tr>\n",
       "      <th>3</th>\n",
       "      <td>0.915936</td>\n",
       "      <td>-162</td>\n",
       "      <td>0.915936</td>\n",
       "      <td>162</td>\n",
       "    </tr>\n",
       "    <tr>\n",
       "      <th>4</th>\n",
       "      <td>0.671020</td>\n",
       "      <td>-77</td>\n",
       "      <td>0.671020</td>\n",
       "      <td>77</td>\n",
       "    </tr>\n",
       "    <tr>\n",
       "      <th>...</th>\n",
       "      <td>...</td>\n",
       "      <td>...</td>\n",
       "      <td>...</td>\n",
       "      <td>...</td>\n",
       "    </tr>\n",
       "    <tr>\n",
       "      <th>995</th>\n",
       "      <td>0.733746</td>\n",
       "      <td>-135</td>\n",
       "      <td>0.733746</td>\n",
       "      <td>135</td>\n",
       "    </tr>\n",
       "    <tr>\n",
       "      <th>996</th>\n",
       "      <td>0.809088</td>\n",
       "      <td>-78</td>\n",
       "      <td>0.809088</td>\n",
       "      <td>78</td>\n",
       "    </tr>\n",
       "    <tr>\n",
       "      <th>997</th>\n",
       "      <td>-0.992378</td>\n",
       "      <td>50</td>\n",
       "      <td>0.992378</td>\n",
       "      <td>50</td>\n",
       "    </tr>\n",
       "    <tr>\n",
       "      <th>998</th>\n",
       "      <td>0.933887</td>\n",
       "      <td>-158</td>\n",
       "      <td>0.933887</td>\n",
       "      <td>158</td>\n",
       "    </tr>\n",
       "    <tr>\n",
       "      <th>999</th>\n",
       "      <td>0.683851</td>\n",
       "      <td>-161</td>\n",
       "      <td>0.683851</td>\n",
       "      <td>161</td>\n",
       "    </tr>\n",
       "  </tbody>\n",
       "</table>\n",
       "<p>1000 rows × 4 columns</p>\n",
       "</div>"
      ],
      "text/plain": [
       "     $\\Delta x$  $\\Delta → i$  |$\\Delta x$|  |$\\Delta → i$|\n",
       "0      1.444521          -208      1.444521             208\n",
       "1     -1.462630          -217      1.462630             217\n",
       "2     -0.569321          -133      0.569321             133\n",
       "3      0.915936          -162      0.915936             162\n",
       "4      0.671020           -77      0.671020              77\n",
       "..          ...           ...           ...             ...\n",
       "995    0.733746          -135      0.733746             135\n",
       "996    0.809088           -78      0.809088              78\n",
       "997   -0.992378            50      0.992378              50\n",
       "998    0.933887          -158      0.933887             158\n",
       "999    0.683851          -161      0.683851             161\n",
       "\n",
       "[1000 rows x 4 columns]"
      ]
     },
     "execution_count": 382,
     "metadata": {},
     "output_type": "execute_result"
    }
   ],
   "source": [
    "columns = [\"opinion\", \"in_degree\"]\n",
    "df_change = df_noise[columns]-df_start[columns]\n",
    "df_change.columns = [math_fix(f\"$\\Delta {OPINION_SYMBOL}$\"), math_fix(f\"$\\Delta {IN_DEGREE_SYMBOL}$\")]\n",
    "df_change[[math_fix(f\"|$\\Delta {OPINION_SYMBOL}$|\"), math_fix(f\"|$\\Delta$ {IN_DEGREE_SYMBOL}|\")]] = df_change.abs()\n",
    "df_change"
   ]
  },
  {
   "cell_type": "code",
   "execution_count": 393,
   "metadata": {},
   "outputs": [
    {
     "data": {
      "image/png": "[encoded data removed]",
      "text/plain": [
       "<Figure size 750x450 with 2 Axes>"
      ]
     },
     "metadata": {
      "needs_background": "light"
     },
     "output_type": "display_data"
    }
   ],
   "source": [
    "plot_scatter = True #@param {type:\"boolean\"}\n",
    "absolute_y  = False #@param {type:\"boolean\"}\n",
    "\n",
    "with sns.plotting_context(\"paper\"):\n",
    "    plt.rcParams[\"figure.dpi\"] = 200\n",
    "    \n",
    "    fig, axes = plt.subplots(ncols=2, figsize=(3.75, 2.25), \n",
    "                             gridspec_kw={\"width_ratios\":[1,0.5]}, sharey=True)\n",
    "\n",
    "    sns.kdeplot(data=df_change, x=df_change.columns[0], y=df_change.columns[1], \n",
    "                color=DELTA_RDN_COLOR, fill=True,\n",
    "                ax=axes[0]\n",
    "               )\n",
    "    if plot_scatter:\n",
    "        sns.scatterplot(data=df_change, x=df_change.columns[0], y=df_change.columns[1], \n",
    "                        color=\"grey\", \n",
    "                        alpha=0.5, ec=\"None\", s=1,\n",
    "                        ax=axes[0]\n",
    "                       )\n",
    "\n",
    "    # absolutes\n",
    "\n",
    "    sns.kdeplot(data=df_change, x=df_change.columns[2], y=df_change.columns[1+2*int(absolute_y)], \n",
    "                color=DELTA_RDN_COLOR, \n",
    "                ax=axes[1], fill=True,\n",
    "               )\n",
    "    if plot_scatter:\n",
    "    #     sns.scatterplot(data=df_change, x=df_change.columns[2], y=df_change.columns[1+2*int(absolute_y)],\n",
    "    #                     color=\"grey\", \n",
    "    #                     alpha=0.5, ec=\"None\", s=1,\n",
    "    #                     ax=axes[1]\n",
    "    #                    )\n",
    "        sns.regplot(data=df_change, x=df_change.columns[2], y=df_change.columns[1+2*int(absolute_y)],\n",
    "                        color=\"grey\", \n",
    "                        scatter_kws=dict(alpha=0.5, ec=\"None\", s=1,),\n",
    "                        line_kws=dict(alpha=0.8, lw=2,),\n",
    "                        ax=axes[1])\n",
    "\n",
    "    axes[0].set(xlim=(-3,3), ylim=(axes[0].get_ylim()[0]/1.5, axes[0].get_ylim()[1]/1.5))\n",
    "    axes[1].set(xlim=(0,2))\n",
    "    plt.savefig(\"output/change_v_indegree.pdf\")"
   ]
  },
  {
   "cell_type": "markdown",
   "metadata": {
    "pycharm": {
     "name": "#%% md\n"
    }
   },
   "source": [
    "## Range"
   ]
  },
  {
   "cell_type": "code",
   "execution_count": null,
   "metadata": {
    "pycharm": {
     "name": "#%%\n"
    }
   },
   "outputs": [],
   "source": [
    "# suppress logging for clean progressbar\n",
    "logging_level = logging.getLogger().getEffectiveLevel()\n",
    "logging.getLogger().setLevel(logging.WARNING)\n",
    "from opdynamics.utils.cache import get_cache_dir, set_cache_dir\n",
    "old_dir, new_dir = set_cache_dir(os.path.join(\"/content\",\".cache\",\"delayed_noise\"))\n",
    "\n",
    "noise_start = 10.\n",
    "noise_length = 10.\n",
    "recovery = 10.\n",
    "num = 1\n",
    "interval = 0\n",
    "seeds = [1337, 10725983, 7988657, 1572039, 15379820]\n",
    "kwargs = dict(N=1000,\n",
    "              m=10,\n",
    "              activity_distribution = negpowerlaw,\n",
    "              epsilon=1e-2,\n",
    "              gamma=2.1,\n",
    "              dt=0.01,\n",
    "              K=3,\n",
    "              beta=3,\n",
    "              alpha=3,\n",
    "              r=0.5,\n",
    "              update_conn=True,\n",
    "              cls=SampleChamber,\n",
    "              method='RK45',\n",
    "              D=5,\n",
    "              sample_size=30,\n",
    "              sample_method=\"basic\",\n",
    "              noise_start=noise_start,\n",
    "              noise_length=noise_length,\n",
    "              recovery=recovery,\n",
    "              interval=interval,\n",
    "              num=num,\n",
    "             )\n",
    "with sns.plotting_context(\"paper\"):\n",
    "    plt.rcParams['figure.dpi'] = 200\n",
    "    plt.rcParams['figure.figsize'] = (3.375, 3)\n",
    "    nec_list = Simulation.run_product(\n",
    "            range_parameters={\n",
    "                'D':{'range': [1, 3, 5]},\n",
    "                'sample_size': {'range': [1, 30, 50]},\n",
    "                'sample_method': {'range': ['basic', 'subsample']},\n",
    "                'update_conn': {'range': [True]},\n",
    "                'seed': {'range': seeds}\n",
    "                },\n",
    "            cache=\"all\",\n",
    "            cache_sim=False,\n",
    "            parallel=True,\n",
    "            plot_opinion=True,\n",
    "            **kwargs)\n",
    "\n",
    "old_dir, new_dir = set_cache_dir(old_dir)\n",
    "logging.getLogger().setLevel(logging_level)\n",
    "\n",
    "nec_dict = {}\n",
    "for nec in nec_list:\n",
    "    key = (tuple(nec._D_hist), nec._sample_method[0], nec._sample_size)\n",
    "    nec_dict.setdefault(key, [])\n",
    "    nec_dict[key].append(nec)"
   ]
  },
  {
   "cell_type": "code",
   "execution_count": null,
   "metadata": {
    "pycharm": {
     "name": "#%%\n"
    }
   },
   "outputs": [],
   "source": [
    "from tqdm.contrib import tenumerate\n",
    "from matplotlib.cbook import flatten\n",
    "\n",
    "num_seeds = len(seeds)\n",
    "\n",
    "with sns.plotting_context(\"paper\"):\n",
    "    plt.rcParams[\"axes.titlesize\"] = 'xx-small'\n",
    "    plot_colors =  sns.color_palette(\"Set1\", n_colors=num_seeds)\n",
    "    fig, axs = plt.subplots(len(nec_dict.keys()), num_seeds+1,\n",
    "                            figsize=(5, 15),\n",
    "                            sharex=\"col\", sharey=\"all\",\n",
    "                            )\n",
    "    fig.subplots_adjust(hspace=0.3)\n",
    "    sns.despine(fig, bottom=True)\n",
    "    for i, key in tenumerate(sorted(nec_dict.keys())):\n",
    "        print(key)\n",
    "        for j, nec in tenumerate(nec_dict[key]):\n",
    "            _visec = VisEchoChamber(nec)\n",
    "            title_key = f\"{key[0][1][1]}, {key[1]}, {key[2]}\"\n",
    "            _visec.show_opinions(\"line\", subsample=50,\n",
    "                                 title=title_key,\n",
    "                                 fig=fig, ax=axs[i,j])\n",
    "            _visec.show_opinions_distribution(t=20, vertical=True, color=plot_colors[j],\n",
    "                                   ax=axs[i, -1], title=\"\",\n",
    "                                   element=\"poly\", stat=\"density\")\n",
    "            axs[i,j].axvline(20, ymin=-10, ymax=10, lw=0.5, c=plot_colors[j])\n",
    "            axs[i,j].axvline(10, ymin=-10, ymax=10, ls='--', lw=0.5, c=plot_colors[j])\n",
    "    for ax in flatten(axs[:, 1:]):\n",
    "        ax.set_ylabel(\"\")\n",
    "    for ax in flatten(axs[:-1, :]):\n",
    "        ax.set_xlabel(\"\")\n",
    "\n",
    "    axs[0,0].set_ylim(-5,5)\n",
    "print(\"showing\")\n"
   ]
  },
  {
   "cell_type": "markdown",
   "metadata": {},
   "source": [
    "# Compare sample methods"
   ]
  },
  {
   "cell_type": "code",
   "execution_count": null,
   "metadata": {
    "pycharm": {
     "name": "#%%\n"
    }
   },
   "outputs": [],
   "source": [
    "from opdynamics.dynamics.opinions import clt_methods\n",
    "\n",
    "\n",
    "# polar opinions\n",
    "N = 1000 #@param {type:\"integer\"}\n",
    "m = 10 #@param {type:\"integer\"}\n",
    "α = 3 #@param {type:\"slider\", min:0, max:5, step:0.5}\n",
    "K = 3 #@param {type:\"slider\", min:0, max:5, step:0.5}\n",
    "ε = 0.01 #@param {type:\"slider\", min:0.005, max:0.05, step:0.005}\n",
    "Υ = 2.1 #@param {type:\"slider\", min:0, max:3, step:0.1}\n",
    "β = 3 #@param {type:\"slider\", min:0, max:5, step:0.5}\n",
    "r = 0.5 #@param {type:\"slider\", min:0, max:1, step:0.1}\n",
    "activity_distribution = negpowerlaw\n",
    "dt = 0.01\n",
    "T = 5 #@param {type:\"slider\", min:0, max:10, step:1}\n",
    "# Nudge arguments\n",
    "D = 1 #@param {type:\"slider\", min:0, max:20, step:0.5}\n",
    "sample_size = 1 #@param {type:\"slider\", min:1, max:100, step:1}\n",
    "seed_idx = 10 #@param {type:\"slider\", min:0, max:20, step:1}\n",
    "integration_method = \"RK45\" #@param [\"Euler\", \"RK45\"]\n",
    "\n",
    "clt_method_names = [k for k in clt_methods.keys() if k is not None]\n",
    "\n",
    "# custom sample methods\n",
    "from opdynamics.metrics.opinions import sample_means\n",
    "\n",
    "def custom_sample_n1v1000(ec, y: np.ndarray, n: int, num_samples: int):\n",
    "    ec._sample_means = (\n",
    "        sample_means(y, 1, num_samples=num_samples, rng=ec.rn) -\n",
    "        sample_means(y, 1000, num_samples=num_samples, rng=ec.rn)\n",
    "    )\n",
    "def custom_sample_n1v100(ec, y: np.ndarray, n: int, num_samples: int):\n",
    "    ec._sample_means = (\n",
    "        sample_means(y, 1, num_samples=num_samples, rng=ec.rn) -\n",
    "        sample_means(y, 100, num_samples=num_samples, rng=ec.rn)\n",
    "    )\n",
    "def custom_sample_n1vmean(ec, y: np.ndarray, n: int, num_samples: int):\n",
    "    ec._sample_means = (\n",
    "        sample_means(y, 1, num_samples=num_samples, rng=ec.rn) -\n",
    "        np.mean(y)\n",
    "    )\n",
    "def custom_sample_n1v1(ec, y: np.ndarray, n: int, num_samples: int):\n",
    "    ec._sample_means = (\n",
    "        sample_means(y, 1, num_samples=num_samples, rng=ec.rn) -\n",
    "        sample_means(y, 1, num_samples=num_samples, rng=ec.rn)\n",
    "    )\n",
    "def custom_sample_n1v10(ec, y: np.ndarray, n: int, num_samples: int):\n",
    "    ec._sample_means = (\n",
    "        sample_means(y, 1, num_samples=num_samples, rng=ec.rn) -\n",
    "        sample_means(y, 10, num_samples=num_samples, rng=ec.rn)\n",
    "    )\n",
    "def custom_sample_n1v0(ec, y: np.ndarray, n: int, num_samples: int):\n",
    "    ec._sample_means = sample_means(y, 1, num_samples=num_samples, rng=ec.rn)\n",
    "def custom_sample_n0v1(ec, y: np.ndarray, n: int, num_samples: int):\n",
    "    ec._sample_means = -sample_means(y, 1, num_samples=num_samples, rng=ec.rn)\n",
    "def custom_sample_n0(ec, y: np.ndarray, n: int, num_samples: int):\n",
    "    ec._sample_means = 0\n",
    "\n",
    "clt_method_names += [\n",
    "                   custom_sample_n1v1000,\n",
    "                   custom_sample_n1v100,\n",
    "                   custom_sample_n1v10,\n",
    "                   custom_sample_n1v1,\n",
    "                   custom_sample_n1vmean,\n",
    "                   custom_sample_n1v0,\n",
    "                   custom_sample_n0v1,\n",
    "                   custom_sample_n0]\n",
    "\n",
    "fig, ax = plt.subplots(len(clt_method_names), 2, gridspec_kw=dict(width_ratios=[1,0.1]),\n",
    "                       sharey='row',\n",
    "                       sharex='col',\n",
    "                       dpi=250)\n",
    "fig.subplots_adjust(wspace=0.1, hspace=0.5)\n",
    "palette = sns.color_palette(\"husl\", n_colors=len(clt_method_names))\n",
    "\n",
    "seeds = np.geomspace(1, 100000, num=20, dtype=int)\n",
    "\n",
    "for i, sample_method in enumerate(clt_method_names):\n",
    "    sc = Simulation.run_params(cls=SampleChamber, N=N, m=m, K=K, alpha=α, beta=β,\n",
    "                               activity=activity_distribution, gamma=Υ, epsilon=ε,\n",
    "                               r=r, dt=dt, T=T,\n",
    "                               D=D, sample_size=sample_size, sample_method=sample_method,\n",
    "                               method=integration_method,\n",
    "                               plot_opinion=False,\n",
    "                               seed=seeds[seed_idx],\n",
    "                               cache=\"all\")\n",
    "\n",
    "    vis = VisEchoChamber(sc)\n",
    "    vis.show_opinions(color_code='line', ax=ax[i, 0],\n",
    "                      title=sample_method if type(sample_method) is str else sample_method.__name__)\n",
    "    vis.show_opinions_distribution(ax=ax[i, 1], vertical=True,\n",
    "                            kde_kws=dict(bw_adjust=0.1), color=palette[i], title=None)\n",
    "    if i<len(clt_method_names):\n",
    "        ax[i,0].set_xlabel(\"\")\n",
    "        ax[i,1].set_xlabel(\"\")\n",
    "    ax[i,0].set_ylim(-5,5)"
   ]
  },
  {
   "cell_type": "markdown",
   "metadata": {
    "pycharm": {
     "name": "#%% md\n"
    }
   },
   "source": [
    "# Other plot types"
   ]
  },
  {
   "cell_type": "markdown",
   "metadata": {},
   "source": [
    "## $K-\\alpha$ phase space\n",
    "\n",
    "- $K \\in [0,4]$\n",
    "- $\\alpha \\in [0,4]$\n",
    "\n",
    "with\n",
    "- $beta = 0.5$\n",
    "- $r = 0.5$\n"
   ]
  },
  {
   "cell_type": "code",
   "execution_count": null,
   "metadata": {
    "pycharm": {
     "name": "#%%\n"
    }
   },
   "outputs": [],
   "source": [
    "import os\n",
    "import gc\n",
    "eclogger.setLevel(logging.DEBUG)\n",
    "\n",
    "beta = 0.5\n",
    "r = 0.5\n",
    "\n",
    "# how many simulations to run\n",
    "num_states = 8\n",
    "start = 0\n",
    "stop = 4\n",
    "K_range = np.round(np.linspace(start,stop,num_states), 2)\n",
    "alpha_range = np.round(np.linspace(start,stop,num_states), 2)\n",
    "\n",
    "\n",
    "# where to save the file\n",
    "file_name = \".cache/K-alpha-phase.h5\"\n",
    "\n",
    "# the efficient HDF format is used for saving and loading DataFrames.\n",
    "if os.path.exists(file_name):\n",
    "    df = pd.read_hdf(file_name)\n",
    "else:\n",
    "    df = pd.DataFrame(index=K_range, columns=alpha_range, dtype=float)\n",
    "    for K,alpha in tqdm(list(itertools.product(K_range,alpha_range))):\n",
    "        ec = Simulation.run_params(EchoChamber,N=N, m=m, K=K, alpha=alpha, beta=beta,\n",
    "                                   activity=activity_distribution, epsilon=epsilon, gamma=gamma, r=r,\n",
    "                                   dt=dt, T=T,\n",
    "                                   store_all=False,\n",
    "                                   cache=False, # don't cache full time of sim\n",
    "                                   plot_opinion=False)\n",
    "        t, mu = ec.get_mean_opinion(-1)\n",
    "        df.loc[K, alpha] = mu\n",
    "        # clear some memory\n",
    "        del ec\n",
    "        gc.collect()\n",
    "    df.to_hdf(file_name, key='df')\n",
    "\n",
    "show_K_alpha_phase(df)\n",
    "fig = plt.gcf()\n",
    "fig.savefig(\"output/k-alpha-phase.pdf\")"
   ]
  },
  {
   "cell_type": "markdown",
   "metadata": {},
   "source": [
    "## Agent opinions at $t$"
   ]
  },
  {
   "cell_type": "code",
   "execution_count": null,
   "metadata": {
    "pycharm": {
     "name": "#%%\n"
    }
   },
   "outputs": [],
   "source": [
    "fig, ax = plt.subplots(2, 1, figsize=(10,10), sharex=True)\n",
    "fig.subplots_adjust(hspace=0.3)\n",
    "vis.show_agent_opinions(direction=True, sort=True, ax=ax[0])\n",
    "vis.show_opinions_distribution(ax=ax[1], kde_kws=dict(fill=True))\n",
    "ax[1].set_xticklabels(ax[1].get_xticks())\n",
    "sns.despine()"
   ]
  },
  {
   "cell_type": "code",
   "execution_count": null,
   "metadata": {
    "pycharm": {
     "name": "#%%\n"
    }
   },
   "outputs": [],
   "source": [
    "fig, ax = plt.subplots(1, 2, gridspec_kw=dict(width_ratios=[10,1]))\n",
    "fig.subplots_adjust(wspace=0.1)\n",
    "vis.show_opinions(ax=ax[0], title=\"Polarised\")\n",
    "vis.show_opinions_distribution(ax=ax[1], kde_kws=dict(fill=False, bw_adjust=0.15), vertical=True)\n",
    "sns.despine()\n",
    "sns.despine(ax=ax[1], left=True)\n",
    "ax[1].set_ylabel(\"\")\n",
    "ax[1].tick_params(axis='y', left=False, labelleft=False)"
   ]
  },
  {
   "cell_type": "code",
   "execution_count": null,
   "metadata": {
    "pycharm": {
     "name": "#%%\n"
    }
   },
   "outputs": [],
   "source": [
    "fig, ax = plt.subplots(1, 2, gridspec_kw=dict(width_ratios=[10,1]))\n",
    "fig.subplots_adjust(wspace=0.1)\n",
    "vis.show_opinions(ax=ax[0], title=\"Polarised\")\n",
    "vis.show_opinions_distribution(ax=ax[1], kde_kws=dict(fill=False, bw_adjust=0.15), vertical=True)\n",
    "sns.despine()\n",
    "sns.despine(ax=ax[1], left=True)\n",
    "ax[1].set_ylabel(\"\")\n",
    "ax[1].tick_params(axis='y', left=False, labelleft=False)"
   ]
  }
 ],
 "metadata": {
  "celltoolbar": "Initialization Cell",
  "kernelspec": {
   "display_name": "Python 3",
   "language": "python",
   "name": "python3"
  },
  "language_info": {
   "codemirror_mode": {
    "name": "ipython",
    "version": 3
   },
   "file_extension": ".py",
   "mimetype": "text/x-python",
   "name": "python",
   "nbconvert_exporter": "python",
   "pygments_lexer": "ipython3",
   "version": "3.7.10"
  },
  "notify_time": "5",
  "toc": {
   "base_numbering": 1,
   "nav_menu": {},
   "number_sections": true,
   "sideBar": true,
   "skip_h1_title": false,
   "title_cell": "Table of Contents",
   "title_sidebar": "Contents",
   "toc_cell": true,
   "toc_position": {
    "height": "calc(100% - 180px)",
    "left": "10px",
    "top": "150px",
    "width": "246.641px"
   },
   "toc_section_display": true,
   "toc_window_display": true
  },
  "varInspector": {
   "cols": {
    "lenName": 16,
    "lenType": 16,
    "lenVar": 40
   },
   "kernels_config": {
    "python": {
     "delete_cmd_postfix": "",
     "delete_cmd_prefix": "del ",
     "library": "var_list.py",
     "varRefreshCmd": "print(var_dic_list())"
    },
    "r": {
     "delete_cmd_postfix": ") ",
     "delete_cmd_prefix": "rm(",
     "library": "var_list.r",
     "varRefreshCmd": "cat(var_dic_list()) "
    }
   },
   "position": {
    "height": "782.5px",
    "left": "1550px",
    "right": "20px",
    "top": "120px",
    "width": "350px"
   },
   "types_to_exclude": [
    "module",
    "function",
    "builtin_function_or_method",
    "instance",
    "_Feature"
   ],
   "window_display": false
  }
 },
 "nbformat": 4,
 "nbformat_minor": 4
}
