{
 "cells": [
  {
   "cell_type": "markdown",
   "metadata": {},
   "source": [
    "# RDN applied to social influence echo chamber model\n",
    "\n",
    "> CITATION NEEDED"
   ]
  },
  {
   "cell_type": "markdown",
   "metadata": {},
   "source": [
    "#### imports"
   ]
  },
  {
   "cell_type": "code",
   "execution_count": 1,
   "metadata": {},
   "outputs": [],
   "source": [
    "%reload_ext autoreload\n",
    "%autoreload 2"
   ]
  },
  {
   "cell_type": "code",
   "execution_count": 2,
   "metadata": {},
   "outputs": [],
   "source": [
    "import logging\n",
    "import os\n",
    "import datetime\n",
    "import itertools\n",
    "import vaex\n",
    "import pandas as pd\n",
    "import numpy as np\n",
    "import seaborn as sns\n",
    "import matplotlib.pyplot as plt\n",
    "from matplotlib.colors import TwoSlopeNorm, Normalize\n",
    "from matplotlib.cm import ScalarMappable\n",
    "from pathlib import Path\n",
    "from tqdm.notebook import tqdm\n",
    "\n",
    "\n",
    "from opdynamics.metrics.opinions import sample_means\n",
    "from opdynamics.utils.constants import *\n",
    "from opdynamics.utils.decorators import optional_fig_ax, hash_repeat\n",
    "from opdynamics.utils.plot_utils import colorbar_inset, colorline\n",
    "\n",
    "from social_influence_echo_chamber_model.echo_chamber_dynamics import (\n",
    "    EchoChamberDynamics,\n",
    ")\n",
    "from social_influence_echo_chamber_model.analysis import screen_diversity, num_opinion_peaks\n",
    "\n",
    "np.random.seed(1337)\n",
    "sns.set_theme(\n",
    "    context=\"notebook\",\n",
    "    style=\"ticks\",\n",
    "    rc={\n",
    "        \"pdf.fonttype\": 42,  # embed font in output\n",
    "        \"svg.fonttype\": \"none\",  # embed font in output\n",
    "        \"figure.facecolor\": \"white\",\n",
    "        \"figure.dpi\": 200,\n",
    "        \"axes.facecolor\": \"None\",\n",
    "        \"axes.spines.left\": True,\n",
    "        \"axes.spines.bottom\": True,\n",
    "        \"axes.spines.right\": False,\n",
    "        \"axes.spines.top\": False,\n",
    "    },\n",
    ")\n",
    "plt.rcParams[\"pdf.fonttype\"] = 42\n",
    "plt.rcParams[\"svg.fonttype\"] = \"none\"\n",
    "\n",
    "logging.basicConfig(\n",
    "    level=logging.INFO,\n",
    "    format=\"%(asctime)s - %(name)s - %(levelname)s - %(message)s\",\n",
    ")\n",
    "logger = logging.getLogger(\"nb-social\")\n"
   ]
  },
  {
   "cell_type": "code",
   "execution_count": 3,
   "metadata": {},
   "outputs": [],
   "source": [
    "@optional_fig_ax\n",
    "def plot_agents(\n",
    "    df,\n",
    "    color_code=True,\n",
    "    subsample: int = 1,\n",
    "    ax: plt.Axes = None,\n",
    "    fig: plt.Figure = None,\n",
    "    **kwargs\n",
    "):\n",
    "    cmap = kwargs.pop(\"cmap\", OPINIONS_CMAP)\n",
    "    vmin = kwargs.pop(\"vmin\", np.min(df.values))\n",
    "    vmax = kwargs.pop(\"vmax\", np.max(df.values))\n",
    "    lw = kwargs.pop(\"lw\", 0.1)\n",
    "\n",
    "    try:\n",
    "        sm = ScalarMappable(norm=TwoSlopeNorm(0, vmin, vmax), cmap=cmap)\n",
    "    except ValueError:\n",
    "        sm = ScalarMappable(norm=Normalize(vmin, vmax), cmap=cmap)\n",
    "    import pandas as pd\n",
    "\n",
    "    df_opinions: pd.DataFrame = df.iloc[::subsample]\n",
    "\n",
    "    if color_code == \"line\" or color_code == \"lines\":\n",
    "        # using the colorline method allows colors to be dependent on a value, in this case, opinion,\n",
    "        # but takes much longer to display\n",
    "        for agent_idx, agent_opinions in df_opinions.iteritems():\n",
    "            c = sm.to_rgba(agent_opinions.values)\n",
    "            colorline(\n",
    "                agent_opinions.index,\n",
    "                agent_opinions.values,\n",
    "                c,\n",
    "                lw=lw,\n",
    "                ax=ax,\n",
    "                **kwargs,\n",
    "            )\n",
    "    elif color_code:\n",
    "        for agent_idx, agent_opinions in df_opinions.iteritems():\n",
    "            c = sm.to_rgba(agent_opinions.values)\n",
    "            s = kwargs.pop(\"s\", 0.1)\n",
    "            ax.scatter(\n",
    "                agent_opinions.index,\n",
    "                agent_opinions.values,\n",
    "                c=c,\n",
    "                s=s,\n",
    "                lw=0,\n",
    "                **kwargs,\n",
    "            )\n",
    "    else:\n",
    "        ls = kwargs.pop(\"ls\", \"-\")\n",
    "        mec = kwargs.pop(\"mec\", \"None\")\n",
    "        cmap_colors = sns.color_palette(cmap, n_colors=df_opinions.shape[0])\n",
    "        for agent_idx, agent_opinions in df_opinions.iteritems():\n",
    "            ax.plot(\n",
    "                df_opinions,\n",
    "                c=cmap_colors[int(agent_idx)],\n",
    "                ls=ls,\n",
    "                mec=mec,\n",
    "                lw=lw,\n",
    "                **kwargs,\n",
    "            )\n",
    "\n",
    "    ax.set_xlim(0, df_opinions.index[-1])\n",
    "    ax.set_xlabel(TIME_SYMBOL)\n",
    "    ax.set_ylabel(OPINION_AGENT_TIME)\n",
    "    ax.set_ylim(vmin, vmax)\n",
    "\n",
    "    return fig, ax\n"
   ]
  },
  {
   "cell_type": "code",
   "execution_count": 4,
   "metadata": {},
   "outputs": [],
   "source": [
    "from social_influence_echo_chamber_model.nudge import full_nudge, sample_nudge\n",
    "\n",
    "def load_csvxz(data_root_dir, file_name) -> pd.DataFrame:\n",
    "    return pd.read_csv(f\"{data_root_dir}/data/{file_name}.csv.xz\", index_col=0)\n",
    "\n",
    "def load_opinions(data_root_dir):\n",
    "    return load_csvxz(data_root_dir,\"opinions\")\n",
    "\n",
    "def load_screen_diversity(data_root_dir):\n",
    "    return load_csvxz(data_root_dir,\"screen_diversity\")\n",
    "\n",
    "def is_unstable(opinions, subsample=100, thresh=1.0):\n",
    "    \"\"\"Check if the numerical simulation increases (on average) by more than a threshold\"\"\"\n",
    "    return np.any(opinions.iloc[::subsample].abs().mean(axis=1).diff()>thresh)\n",
    "\n",
    "def run_simulation(\n",
    "    n_agents=100,\n",
    "    n_links=400,\n",
    "    sns_seed=1,\n",
    "    l=10,  # screen size\n",
    "    t_max=10000,  # max steps\n",
    "    epsilon=0.5,  # bounded confidence parameter\n",
    "    mu=0.5,  # social influence strength\n",
    "    p=0.5,  # repost rate\n",
    "    q=0.5,  # rewiring rate\n",
    "    following_methods=[\"Random\"],  # , \"Respost\", \"Recommendation\"\n",
    "    nudge_strength=0,\n",
    "    nudge_sample_size=5,\n",
    "    nudge_method=full_nudge,\n",
    "    nudge_delay=0,\n",
    "    plot=True,\n",
    "    save_plot=True,\n",
    "):\n",
    "    assert nudge_delay < t_max, \"nudge_delay must be less than t_max\"\n",
    "    nudge = (nudge_strength, nudge_sample_size, nudge_method)\n",
    "\n",
    "    name_str = (\n",
    "        f\"{n_agents=}\\n{n_links=}\\n{l=}\\n{t_max=}\\n{mu=}\\n{p=}\\n{q=}\\n{epsilon=}\"\n",
    "        f\"\\n{following_methods=}\\n{sns_seed=}\\n\"\n",
    "    )\n",
    "    if nudge[0] > 0:\n",
    "        name_str += f\"{nudge_strength=}\\n{nudge_sample_size=}\\nnudge_method={nudge_method.__name__})\\n\"\n",
    "    if nudge_delay > 0:\n",
    "        name_str += f\"{nudge_delay=}\\n\"\n",
    "\n",
    "    hash_value = hash_repeat(name_str)\n",
    "    now_str = datetime.datetime.now().strftime(\"%Y%m%d%H%M%S\")\n",
    "    data_root_dir = Path(f\"data/data_{hash_value}\")\n",
    "\n",
    "    if not data_root_dir.exists():\n",
    "        print(f\"Creating directory {data_root_dir}\")\n",
    "        (data_root_dir / \"data\").mkdir(parents=True)\n",
    "        (data_root_dir / \"network_data\").mkdir()\n",
    "\n",
    "        with open(data_root_dir / \"name.txt\", \"w\") as f:\n",
    "            f.write(name_str)\n",
    "        s = datetime.datetime.now()\n",
    "\n",
    "        fileh = logging.FileHandler(f\"{data_root_dir}/log.txt\", \"w\")\n",
    "        formatter = logging.Formatter(\n",
    "            \"%(asctime)s - %(name)s - %(levelname)s - %(message)s\"\n",
    "        )\n",
    "        fileh.setFormatter(formatter)\n",
    "        for hdlr in logger.handlers[:]:  # remove old file handler\n",
    "            if isinstance(hdlr, logging.FileHandler):\n",
    "                logger.removeHandler(hdlr)\n",
    "        logger.addHandler(fileh)  # set the new handler\n",
    "\n",
    "        logger.info(f\"Starting simulation.\")\n",
    "        d = EchoChamberDynamics(\n",
    "            n_agents, n_links, epsilon, sns_seed, l, str(data_root_dir)\n",
    "        )\n",
    "        if nudge_delay:\n",
    "            logger.info(f\"nudge=0 for {nudge_delay} steps.\")\n",
    "            d.evolve(nudge_delay, mu, p, q, following_methods, nudge=0)\n",
    "            remainder_steps = t_max - nudge_delay\n",
    "            logger.info(f\"{nudge=} for {remainder_steps} steps.\")\n",
    "            d.evolve(remainder_steps, mu, p, q, following_methods, nudge=nudge)\n",
    "        else:\n",
    "            d.evolve(t_max, mu, p, q, following_methods, nudge=nudge)\n",
    "\n",
    "        e = datetime.datetime.now()\n",
    "        logger.info(f\"Simulation finished. Took {e - s}\")\n",
    "        logger.removeHandler(fileh)\n",
    "\n",
    "    if plot:\n",
    "        opinions = load_opinions(data_root_dir)\n",
    "        screen_diversity = load_screen_diversity(data_root_dir)\n",
    "        \n",
    "        fig, axes = plt.subplots(nrows=2, sharex=True)\n",
    "        plot_agents(opinions, color_code=\"line\", subsample=10, fig=fig, ax=axes[0])\n",
    "        plot_agents(screen_diversity, fig=fig, ax=axes[1], cmap=\"Greens_r\")\n",
    "\n",
    "        for ax in axes:\n",
    "            ax.axvline(nudge_delay, color=\"k\", alpha=0.3, ls=\"--\")\n",
    "\n",
    "        axes[0].set_clip_on(False)\n",
    "        axes[0].set_xlabel(\"\")\n",
    "        axes[0].annotate(\n",
    "            \"\",\n",
    "            xy=(nudge_delay, opinions.values.max()),\n",
    "            xytext=(0, 20),\n",
    "            textcoords=\"offset points\",\n",
    "            arrowprops=dict(arrowstyle=\"-|>\", color=\"k\"),\n",
    "            clip_on=False,\n",
    "            ha=\"center\",\n",
    "            va=\"top\",\n",
    "        )\n",
    "        fig.suptitle(f\"{nudge_strength=}, {nudge_sample_size=}\")\n",
    "        if save_plot:\n",
    "            fig.savefig(f\"{data_root_dir}/opinions.jpg\")\n",
    "\n",
    "    return data_root_dir\n"
   ]
  },
  {
   "cell_type": "code",
   "execution_count": 6,
   "metadata": {},
   "outputs": [
    {
     "data": {
      "application/vnd.jupyter.widget-view+json": {
       "model_id": "75da99f8dc5a4f8eb1a7b35229e88b9e",
       "version_major": 2,
       "version_minor": 0
      },
      "text/plain": [
       "  0%|          | 0/320 [00:00<?, ?it/s]"
      ]
     },
     "metadata": {},
     "output_type": "display_data"
    },
    {
     "name": "stderr",
     "output_type": "stream",
     "text": [
      "2022-02-02 12:42:40,685 - nb-social - INFO - Starting simulation.\n",
      "2022-02-02 12:42:40,689 - nb-social - INFO - nudge=0 for 5000 steps.\n"
     ]
    },
    {
     "name": "stdout",
     "output_type": "stream",
     "text": [
      "Creating directory data/data_81729025398472026049995600662556875980286791793407811278135893956815808997616\n"
     ]
    },
    {
     "name": "stderr",
     "output_type": "stream",
     "text": [
      "2022-02-02 12:42:52,953 - nb-social - INFO - nudge=(0.01, 15, <function full_nudge at 0x1695040d0>) for 45000 steps.\n",
      "2022-02-02 12:50:16,160 - nb-social - INFO - Simulation finished. Took 0:07:35.475630\n",
      "2022-02-02 12:50:16,197 - nb-social - INFO - Starting simulation.\n",
      "2022-02-02 12:50:16,200 - nb-social - INFO - nudge=0 for 5000 steps.\n"
     ]
    },
    {
     "name": "stdout",
     "output_type": "stream",
     "text": [
      "Creating directory data/data_44396398240242353020739314445369583534972578391581238146315555719129434727536\n"
     ]
    },
    {
     "name": "stderr",
     "output_type": "stream",
     "text": [
      "2022-02-02 12:50:28,561 - nb-social - INFO - nudge=(0.05, 15, <function full_nudge at 0x1695040d0>) for 45000 steps.\n",
      "2022-02-02 12:57:49,157 - nb-social - INFO - Simulation finished. Took 0:07:32.960471\n",
      "2022-02-02 12:57:49,192 - nb-social - INFO - Starting simulation.\n",
      "2022-02-02 12:57:49,195 - nb-social - INFO - nudge=0 for 5000 steps.\n"
     ]
    },
    {
     "name": "stdout",
     "output_type": "stream",
     "text": [
      "Creating directory data/data_7929496900274725393534303403025690675781188577872336271256309210421063578829\n"
     ]
    },
    {
     "name": "stderr",
     "output_type": "stream",
     "text": [
      "2022-02-02 12:58:02,072 - nb-social - INFO - nudge=(0.1, 15, <function full_nudge at 0x1695040d0>) for 45000 steps.\n",
      "2022-02-02 13:45:20,711 - nb-social - INFO - Simulation finished. Took 0:47:31.518163\n",
      "2022-02-02 13:45:20,761 - nb-social - INFO - Starting simulation.\n",
      "2022-02-02 13:45:20,766 - nb-social - INFO - nudge=0 for 5000 steps.\n"
     ]
    },
    {
     "name": "stdout",
     "output_type": "stream",
     "text": [
      "Creating directory data/data_5754430741797920325944051088919209269387337333396095069250780114728446841742\n"
     ]
    },
    {
     "name": "stderr",
     "output_type": "stream",
     "text": [
      "2022-02-02 13:53:46,812 - nb-social - INFO - nudge=(0.15, 15, <function full_nudge at 0x1695040d0>) for 45000 steps.\n",
      "2022-02-02 14:15:16,097 - nb-social - INFO - Simulation finished. Took 0:29:55.336269\n",
      "2022-02-02 14:15:16,134 - nb-social - INFO - Starting simulation.\n",
      "2022-02-02 14:15:16,138 - nb-social - INFO - nudge=0 for 5000 steps.\n"
     ]
    },
    {
     "name": "stdout",
     "output_type": "stream",
     "text": [
      "Creating directory data/data_110381918260638213715218925862605095842338125744796631535880930056334043384650\n"
     ]
    },
    {
     "name": "stderr",
     "output_type": "stream",
     "text": [
      "2022-02-02 14:15:27,810 - nb-social - INFO - nudge=(0.2, 15, <function full_nudge at 0x1695040d0>) for 45000 steps.\n",
      "2022-02-02 14:22:43,310 - nb-social - INFO - Simulation finished. Took 0:07:27.176586\n",
      "2022-02-02 14:22:43,347 - nb-social - INFO - Starting simulation.\n",
      "2022-02-02 14:22:43,350 - nb-social - INFO - nudge=0 for 5000 steps.\n"
     ]
    },
    {
     "name": "stdout",
     "output_type": "stream",
     "text": [
      "Creating directory data/data_45223962570958501655597338496949583611617338343853710844742404231772452125451\n"
     ]
    },
    {
     "name": "stderr",
     "output_type": "stream",
     "text": [
      "2022-02-02 14:22:53,515 - nb-social - INFO - nudge=(0.25, 1, <function full_nudge at 0x1695040d0>) for 45000 steps.\n",
      "2022-02-02 14:31:34,338 - nb-social - INFO - Simulation finished. Took 0:08:50.991239\n",
      "2022-02-02 14:31:34,367 - nb-social - INFO - Starting simulation.\n",
      "2022-02-02 14:31:34,370 - nb-social - INFO - nudge=0 for 5000 steps.\n"
     ]
    },
    {
     "name": "stdout",
     "output_type": "stream",
     "text": [
      "Creating directory data/data_94655298486055078199017218971186434515220713457098057575550189324164103089199\n"
     ]
    },
    {
     "name": "stderr",
     "output_type": "stream",
     "text": [
      "2022-02-02 14:31:46,701 - nb-social - INFO - nudge=(0.25, 5, <function full_nudge at 0x1695040d0>) for 45000 steps.\n",
      "2022-02-02 14:39:13,469 - nb-social - INFO - Simulation finished. Took 0:07:39.102045\n",
      "2022-02-02 14:39:13,505 - nb-social - INFO - Starting simulation.\n",
      "2022-02-02 14:39:13,508 - nb-social - INFO - nudge=0 for 5000 steps.\n"
     ]
    },
    {
     "name": "stdout",
     "output_type": "stream",
     "text": [
      "Creating directory data/data_7541476404640488594544818987151072773160595031921117123895529122612836852163\n"
     ]
    },
    {
     "name": "stderr",
     "output_type": "stream",
     "text": [
      "2022-02-02 14:39:26,108 - nb-social - INFO - nudge=(0.25, 10, <function full_nudge at 0x1695040d0>) for 45000 steps.\n",
      "2022-02-02 14:45:52,248 - nb-social - INFO - Simulation finished. Took 0:06:38.743651\n",
      "2022-02-02 14:45:52,281 - nb-social - INFO - Starting simulation.\n",
      "2022-02-02 14:45:52,284 - nb-social - INFO - nudge=0 for 5000 steps.\n"
     ]
    },
    {
     "name": "stdout",
     "output_type": "stream",
     "text": [
      "Creating directory data/data_26997945987701149897209770271489205323890064202389610674015577792862499752050\n"
     ]
    },
    {
     "name": "stderr",
     "output_type": "stream",
     "text": [
      "2022-02-02 14:46:04,483 - nb-social - INFO - nudge=(0.25, 15, <function full_nudge at 0x1695040d0>) for 45000 steps.\n",
      "2022-02-02 14:49:11,254 - nb-social - INFO - Simulation finished. Took 0:03:18.972815\n",
      "2022-02-02 14:49:11,277 - nb-social - INFO - Starting simulation.\n",
      "2022-02-02 14:49:11,279 - nb-social - INFO - nudge=0 for 5000 steps.\n"
     ]
    },
    {
     "name": "stdout",
     "output_type": "stream",
     "text": [
      "Creating directory data/data_63225337054243564839726515266669244152617173573348996938332678820537492357684\n"
     ]
    },
    {
     "name": "stderr",
     "output_type": "stream",
     "text": [
      "2022-02-02 14:49:23,475 - nb-social - INFO - nudge=(0.3, 15, <function full_nudge at 0x1695040d0>) for 45000 steps.\n",
      "2022-02-02 14:56:57,623 - nb-social - INFO - Simulation finished. Took 0:07:46.346734\n",
      "2022-02-02 14:56:57,663 - nb-social - INFO - Starting simulation.\n",
      "2022-02-02 14:56:57,666 - nb-social - INFO - nudge=0 for 5000 steps.\n"
     ]
    },
    {
     "name": "stdout",
     "output_type": "stream",
     "text": [
      "Creating directory data/data_80409924151243173857440415458816782980048012426659598796781743478575659505305\n"
     ]
    },
    {
     "name": "stderr",
     "output_type": "stream",
     "text": [
      "2022-02-02 14:57:10,432 - nb-social - INFO - nudge=(0.01, 15, <function full_nudge at 0x1695040d0>) for 45000 steps.\n",
      "2022-02-02 15:04:55,401 - nb-social - INFO - Simulation finished. Took 0:07:57.738901\n",
      "2022-02-02 15:04:55,435 - nb-social - INFO - Starting simulation.\n",
      "2022-02-02 15:04:55,438 - nb-social - INFO - nudge=0 for 5000 steps.\n"
     ]
    },
    {
     "name": "stdout",
     "output_type": "stream",
     "text": [
      "Creating directory data/data_79851173521042466603143461425196761042710584876292567377755426456615999881433\n"
     ]
    },
    {
     "name": "stderr",
     "output_type": "stream",
     "text": [
      "2022-02-02 15:05:07,783 - nb-social - INFO - nudge=(0.05, 15, <function full_nudge at 0x1695040d0>) for 45000 steps.\n",
      "2022-02-02 15:12:32,796 - nb-social - INFO - Simulation finished. Took 0:07:37.361070\n",
      "2022-02-02 15:12:32,832 - nb-social - INFO - Starting simulation.\n",
      "2022-02-02 15:12:32,835 - nb-social - INFO - nudge=0 for 5000 steps.\n"
     ]
    },
    {
     "name": "stdout",
     "output_type": "stream",
     "text": [
      "Creating directory data/data_1522269322980953003112303142640167727731111019650818913331849071890029640300\n"
     ]
    },
    {
     "name": "stderr",
     "output_type": "stream",
     "text": [
      "2022-02-02 15:12:45,926 - nb-social - INFO - nudge=(0.1, 15, <function full_nudge at 0x1695040d0>) for 45000 steps.\n",
      "2022-02-02 15:20:13,881 - nb-social - INFO - Simulation finished. Took 0:07:41.049230\n",
      "2022-02-02 15:20:13,919 - nb-social - INFO - Starting simulation.\n",
      "2022-02-02 15:20:13,922 - nb-social - INFO - nudge=0 for 5000 steps.\n"
     ]
    },
    {
     "name": "stdout",
     "output_type": "stream",
     "text": [
      "Creating directory data/data_65639638292815619270560827247137698397935291661140691718883999611888131292495\n"
     ]
    },
    {
     "name": "stderr",
     "output_type": "stream",
     "text": [
      "2022-02-02 15:20:26,130 - nb-social - INFO - nudge=(0.15, 15, <function full_nudge at 0x1695040d0>) for 45000 steps.\n",
      "2022-02-02 15:28:03,234 - nb-social - INFO - Simulation finished. Took 0:07:49.314597\n",
      "2022-02-02 15:28:03,271 - nb-social - INFO - Starting simulation.\n",
      "2022-02-02 15:28:03,274 - nb-social - INFO - nudge=0 for 5000 steps.\n"
     ]
    },
    {
     "name": "stdout",
     "output_type": "stream",
     "text": [
      "Creating directory data/data_115292429961598834738046916713977361995974772221559998055103623181118665010512\n"
     ]
    },
    {
     "name": "stderr",
     "output_type": "stream",
     "text": [
      "2022-02-02 15:28:16,121 - nb-social - INFO - nudge=(0.2, 15, <function full_nudge at 0x1695040d0>) for 45000 steps.\n",
      "2022-02-02 15:31:42,234 - nb-social - INFO - Simulation finished. Took 0:03:38.963302\n",
      "2022-02-02 15:31:42,263 - nb-social - INFO - Starting simulation.\n",
      "2022-02-02 15:31:42,267 - nb-social - INFO - nudge=0 for 5000 steps.\n"
     ]
    },
    {
     "name": "stdout",
     "output_type": "stream",
     "text": [
      "Creating directory data/data_32675480519232800229395689798550178182569455203737189911626140959409114328944\n"
     ]
    },
    {
     "name": "stderr",
     "output_type": "stream",
     "text": [
      "2022-02-02 15:31:56,596 - nb-social - INFO - nudge=(0.25, 1, <function full_nudge at 0x1695040d0>) for 45000 steps.\n",
      "2022-02-02 15:39:41,323 - nb-social - INFO - Simulation finished. Took 0:07:59.060205\n",
      "2022-02-02 15:39:41,373 - nb-social - INFO - Starting simulation.\n",
      "2022-02-02 15:39:41,377 - nb-social - INFO - nudge=0 for 5000 steps.\n"
     ]
    },
    {
     "name": "stdout",
     "output_type": "stream",
     "text": [
      "Creating directory data/data_61151190236150291387957858222191933503970370756740782031884910661586599599477\n"
     ]
    },
    {
     "name": "stderr",
     "output_type": "stream",
     "text": [
      "2022-02-02 15:39:54,407 - nb-social - INFO - nudge=(0.25, 5, <function full_nudge at 0x1695040d0>) for 45000 steps.\n",
      "2022-02-02 15:47:36,635 - nb-social - INFO - Simulation finished. Took 0:07:55.262243\n",
      "2022-02-02 15:47:36,676 - nb-social - INFO - Starting simulation.\n",
      "2022-02-02 15:47:36,679 - nb-social - INFO - nudge=0 for 5000 steps.\n"
     ]
    },
    {
     "name": "stdout",
     "output_type": "stream",
     "text": [
      "Creating directory data/data_80246141090953746526547244695959627155799219060716385397024266382005130682201\n"
     ]
    },
    {
     "name": "stderr",
     "output_type": "stream",
     "text": [
      "2022-02-02 15:47:50,378 - nb-social - INFO - nudge=(0.25, 10, <function full_nudge at 0x1695040d0>) for 45000 steps.\n",
      "2022-02-02 15:49:27,344 - nb-social - INFO - Simulation finished. Took 0:01:50.668215\n",
      "2022-02-02 15:49:27,361 - nb-social - INFO - Starting simulation.\n",
      "2022-02-02 15:49:27,364 - nb-social - INFO - nudge=0 for 5000 steps.\n"
     ]
    },
    {
     "name": "stdout",
     "output_type": "stream",
     "text": [
      "Creating directory data/data_13237339933557379611630119497004651895902034265746506384127591710998629225781\n"
     ]
    },
    {
     "name": "stderr",
     "output_type": "stream",
     "text": [
      "2022-02-02 15:49:39,468 - nb-social - INFO - nudge=(0.25, 15, <function full_nudge at 0x1695040d0>) for 45000 steps.\n",
      "2022-02-02 15:51:07,903 - nb-social - INFO - Simulation finished. Took 0:01:40.542195\n",
      "2022-02-02 15:51:07,920 - nb-social - INFO - Starting simulation.\n",
      "2022-02-02 15:51:07,923 - nb-social - INFO - nudge=0 for 5000 steps.\n"
     ]
    },
    {
     "name": "stdout",
     "output_type": "stream",
     "text": [
      "Creating directory data/data_8693049367234075022355265908458443226458088873599006949253352620770355961945\n"
     ]
    },
    {
     "name": "stderr",
     "output_type": "stream",
     "text": [
      "2022-02-02 15:51:20,666 - nb-social - INFO - nudge=(0.3, 15, <function full_nudge at 0x1695040d0>) for 45000 steps.\n"
     ]
    }
   ],
   "source": [
    "t_max = 50000\n",
    "nudge_delay = 5000\n",
    "nudge_strength = 0.2\n",
    "nudge_sample_size = 5\n",
    "nudge_method = full_nudge\n",
    "\n",
    "seeds = [1, 1337, 1001, 926814, 170249, 987654321, 147658, 1235689, 1325896, 9671235]\n",
    "\n",
    "all_dirs = []\n",
    "\n",
    "for seed, D, n in tqdm(\n",
    "    list(itertools.product(seeds, [0.01, 0.05, 0.1, 0.15, 0.2, 0.25, 0.3, 0], [1, 5, 10, 15]))\n",
    "):\n",
    "    data_root_dir = run_simulation(\n",
    "        t_max=t_max,\n",
    "        sns_seed=seed,\n",
    "        nudge_strength=D,\n",
    "        nudge_sample_size=n,\n",
    "        nudge_method=full_nudge,\n",
    "        nudge_delay=nudge_delay,\n",
    "        plot=True,\n",
    "        save_plot=True,\n",
    "    )\n",
    "    all_dirs.append(data_root_dir)\n"
   ]
  },
  {
   "cell_type": "code",
   "execution_count": null,
   "metadata": {},
   "outputs": [],
   "source": [
    "data_root_dir = run_simulation(\n",
    "        t_max=t_max,\n",
    "        sns_seed=137509,\n",
    "        nudge_strength=0.3,\n",
    "        nudge_sample_size=10,\n",
    "        nudge_method=full_nudge,\n",
    "        nudge_delay=nudge_delay,\n",
    "    )\n"
   ]
  },
  {
   "cell_type": "code",
   "execution_count": null,
   "metadata": {},
   "outputs": [
    {
     "data": {
      "application/vnd.jupyter.widget-view+json": {
       "model_id": "f100b4ceadb3492d98729ae4cfc8447c",
       "version_major": 2,
       "version_minor": 0
      },
      "text/plain": [
       "  0%|          | 0/105 [00:00<?, ?it/s]"
      ]
     },
     "metadata": {},
     "output_type": "display_data"
    },
    {
     "data": {
      "text/html": [
       "<table>\n",
       "<thead>\n",
       "<tr><th>#                                      </th><th>time  </th><th>agent  </th><th>opinion            </th><th>n_agents  </th><th>n_links  </th><th>l  </th><th>t_max  </th><th>mu  </th><th>p  </th><th>q  </th><th>epsilon  </th><th>following_methods  </th><th>sns_seed  </th><th>nudge_strength  </th><th>nudge_sample_size  </th><th>nudge_method  </th><th>nudge_delay  </th></tr>\n",
       "</thead>\n",
       "<tbody>\n",
       "<tr><td><i style='opacity: 0.6'>0</i>          </td><td>0     </td><td>0      </td><td>-0.4759506499688366</td><td>100       </td><td>400      </td><td>10 </td><td>50000  </td><td>0.5 </td><td>0.5</td><td>0.5</td><td>0.5      </td><td>[&#x27;Random&#x27;]         </td><td>1         </td><td>0.01            </td><td>1                  </td><td>full_nudge)   </td><td>5000         </td></tr>\n",
       "<tr><td><i style='opacity: 0.6'>1</i>          </td><td>1     </td><td>0      </td><td>-0.4759506499688366</td><td>100       </td><td>400      </td><td>10 </td><td>50000  </td><td>0.5 </td><td>0.5</td><td>0.5</td><td>0.5      </td><td>[&#x27;Random&#x27;]         </td><td>1         </td><td>0.01            </td><td>1                  </td><td>full_nudge)   </td><td>5000         </td></tr>\n",
       "<tr><td><i style='opacity: 0.6'>2</i>          </td><td>2     </td><td>0      </td><td>-0.4759506499688366</td><td>100       </td><td>400      </td><td>10 </td><td>50000  </td><td>0.5 </td><td>0.5</td><td>0.5</td><td>0.5      </td><td>[&#x27;Random&#x27;]         </td><td>1         </td><td>0.01            </td><td>1                  </td><td>full_nudge)   </td><td>5000         </td></tr>\n",
       "<tr><td><i style='opacity: 0.6'>3</i>          </td><td>3     </td><td>0      </td><td>-0.4759506499688366</td><td>100       </td><td>400      </td><td>10 </td><td>50000  </td><td>0.5 </td><td>0.5</td><td>0.5</td><td>0.5      </td><td>[&#x27;Random&#x27;]         </td><td>1         </td><td>0.01            </td><td>1                  </td><td>full_nudge)   </td><td>5000         </td></tr>\n",
       "<tr><td><i style='opacity: 0.6'>4</i>          </td><td>4     </td><td>0      </td><td>-0.4759506499688366</td><td>100       </td><td>400      </td><td>10 </td><td>50000  </td><td>0.5 </td><td>0.5</td><td>0.5</td><td>0.5      </td><td>[&#x27;Random&#x27;]         </td><td>1         </td><td>0.01            </td><td>1                  </td><td>full_nudge)   </td><td>5000         </td></tr>\n",
       "<tr><td>...                                    </td><td>...   </td><td>...    </td><td>...                </td><td>...       </td><td>...      </td><td>...</td><td>...    </td><td>... </td><td>...</td><td>...</td><td>...      </td><td>...                </td><td>...       </td><td>...             </td><td>...                </td><td>...           </td><td>...          </td></tr>\n",
       "<tr><td><i style='opacity: 0.6'>434,652,695</i></td><td>49995 </td><td>99     </td><td>-0.4651862903288181</td><td>100       </td><td>400      </td><td>10 </td><td>50000  </td><td>0.5 </td><td>0.5</td><td>0.5</td><td>0.5      </td><td>[&#x27;Random&#x27;]         </td><td>170249    </td><td>0               </td><td>0                  </td><td>--            </td><td>5000         </td></tr>\n",
       "<tr><td><i style='opacity: 0.6'>434,652,696</i></td><td>49996 </td><td>99     </td><td>-0.4651862903288181</td><td>100       </td><td>400      </td><td>10 </td><td>50000  </td><td>0.5 </td><td>0.5</td><td>0.5</td><td>0.5      </td><td>[&#x27;Random&#x27;]         </td><td>170249    </td><td>0               </td><td>0                  </td><td>--            </td><td>5000         </td></tr>\n",
       "<tr><td><i style='opacity: 0.6'>434,652,697</i></td><td>49997 </td><td>99     </td><td>-0.4651862903288181</td><td>100       </td><td>400      </td><td>10 </td><td>50000  </td><td>0.5 </td><td>0.5</td><td>0.5</td><td>0.5      </td><td>[&#x27;Random&#x27;]         </td><td>170249    </td><td>0               </td><td>0                  </td><td>--            </td><td>5000         </td></tr>\n",
       "<tr><td><i style='opacity: 0.6'>434,652,698</i></td><td>49998 </td><td>99     </td><td>-0.4651862903288181</td><td>100       </td><td>400      </td><td>10 </td><td>50000  </td><td>0.5 </td><td>0.5</td><td>0.5</td><td>0.5      </td><td>[&#x27;Random&#x27;]         </td><td>170249    </td><td>0               </td><td>0                  </td><td>--            </td><td>5000         </td></tr>\n",
       "<tr><td><i style='opacity: 0.6'>434,652,699</i></td><td>49999 </td><td>99     </td><td>-0.4651862903288181</td><td>100       </td><td>400      </td><td>10 </td><td>50000  </td><td>0.5 </td><td>0.5</td><td>0.5</td><td>0.5      </td><td>[&#x27;Random&#x27;]         </td><td>170249    </td><td>0               </td><td>0                  </td><td>--            </td><td>5000         </td></tr>\n",
       "</tbody>\n",
       "</table>"
      ],
      "text/plain": [
       "#            time    agent    opinion              n_agents    n_links    l    t_max    mu    p    q    epsilon    following_methods    sns_seed    nudge_strength    nudge_sample_size    nudge_method    nudge_delay\n",
       "0            0       0        -0.4759506499688366  100         400        10   50000    0.5   0.5  0.5  0.5        ['Random']           1           0.01              1                    full_nudge)     5000\n",
       "1            1       0        -0.4759506499688366  100         400        10   50000    0.5   0.5  0.5  0.5        ['Random']           1           0.01              1                    full_nudge)     5000\n",
       "2            2       0        -0.4759506499688366  100         400        10   50000    0.5   0.5  0.5  0.5        ['Random']           1           0.01              1                    full_nudge)     5000\n",
       "3            3       0        -0.4759506499688366  100         400        10   50000    0.5   0.5  0.5  0.5        ['Random']           1           0.01              1                    full_nudge)     5000\n",
       "4            4       0        -0.4759506499688366  100         400        10   50000    0.5   0.5  0.5  0.5        ['Random']           1           0.01              1                    full_nudge)     5000\n",
       "...          ...     ...      ...                  ...         ...        ...  ...      ...   ...  ...  ...        ...                  ...         ...               ...                  ...             ...\n",
       "434,652,695  49995   99       -0.4651862903288181  100         400        10   50000    0.5   0.5  0.5  0.5        ['Random']           170249      0                 0                    --              5000\n",
       "434,652,696  49996   99       -0.4651862903288181  100         400        10   50000    0.5   0.5  0.5  0.5        ['Random']           170249      0                 0                    --              5000\n",
       "434,652,697  49997   99       -0.4651862903288181  100         400        10   50000    0.5   0.5  0.5  0.5        ['Random']           170249      0                 0                    --              5000\n",
       "434,652,698  49998   99       -0.4651862903288181  100         400        10   50000    0.5   0.5  0.5  0.5        ['Random']           170249      0                 0                    --              5000\n",
       "434,652,699  49999   99       -0.4651862903288181  100         400        10   50000    0.5   0.5  0.5  0.5        ['Random']           170249      0                 0                    --              5000"
      ]
     },
     "execution_count": 163,
     "metadata": {},
     "output_type": "execute_result"
    }
   ],
   "source": [
    "root = Path(\"data/opinions\")\n",
    "if not root.exists():\n",
    "    root.mkdir(parents=True)\n",
    "\n",
    "all_opinions = []\n",
    "files = []\n",
    "skips = []\n",
    "\n",
    "for data_root_dir in tqdm(all_dirs):\n",
    "    hdf_file = f\"{root / data_root_dir.name}.hdf5\"\n",
    "\n",
    "    if Path(hdf_file).exists():\n",
    "        files.append(hdf_file)\n",
    "        continue\n",
    "    opinions = load_opinions(data_root_dir)\n",
    "    if is_unstable(opinions, thresh=1):\n",
    "        # skip this simulation\n",
    "        skips.append(data_root_dir)\n",
    "        continue\n",
    "    \n",
    "    if opinions.iloc[-1] < t_max-1:\n",
    "        raise ValueError(f\"{opinions.iloc[-1]} < {t_max-1} but not detected as unstable\")\n",
    "\n",
    "    df = (\n",
    "        opinions.reset_index()\n",
    "        .rename(columns={\"index\": \"time\"})\n",
    "        .melt(id_vars=\"time\", var_name=\"agent\", value_name=\"opinion\")\n",
    "    )\n",
    "\n",
    "    with open(f\"{data_root_dir}/name.txt\", \"r\") as f:\n",
    "        var_pairs = f.read().strip().split(\"\\n\")\n",
    "    vars_values = [v.split(\"=\") for v in var_pairs]\n",
    "    for k, v in vars_values:\n",
    "        df[k] = v\n",
    "    if \"nudge_delay\" not in df:\n",
    "        df[\"nudge_delay\"] = 0\n",
    "    if \"nudge_strength\" not in df:\n",
    "        df[\"nudge_strength\"] = 0\n",
    "    if \"nudge_sample_size\" not in df:\n",
    "        df[\"nudge_sample_size\"] = 0\n",
    "\n",
    "    vaex.from_pandas(df).export_hdf5(hdf_file)\n",
    "    files.append(hdf_file)\n",
    "\n",
    "df = vaex.open_many(files)\n",
    "df\n"
   ]
  },
  {
   "cell_type": "code",
   "execution_count": null,
   "metadata": {},
   "outputs": [
    {
     "data": {
      "text/plain": [
       "[PosixPath('data/data_115751970972249268482473457517397636434681440220375328410999584421572750345796'),\n",
       " PosixPath('data/data_61711321406114115957647678449123210520018158181129424529494349819287114723811'),\n",
       " PosixPath('data/data_46598121275182489969597834438520528662890630129973616356544210756545638472123'),\n",
       " PosixPath('data/data_19994383280834314721761987925032383910184672729200993611844157806163334529203'),\n",
       " PosixPath('data/data_38431642622357793637286981151885441170854870822109016786030571208294968444447'),\n",
       " PosixPath('data/data_115021053455704080824128768491985694447336896782988388379132697315699668447387'),\n",
       " PosixPath('data/data_68176004596077419890088775726630718639304612147691330570326311642753818922360'),\n",
       " PosixPath('data/data_110609667735194395293579578036899017579144736273525504243473825178133142984915'),\n",
       " PosixPath('data/data_94134827485861348386630812670475458597137109170465841919970997336998499047773'),\n",
       " PosixPath('data/data_98705972164303661952780428951522672819203481251874451612575429442037250779339'),\n",
       " PosixPath('data/data_110108195997269713727628655892864455232585289892509098446958231136624018902266'),\n",
       " PosixPath('data/data_39393482763609273181882864363961782894152491394986090976854438523726874064098'),\n",
       " PosixPath('data/data_29806073896426664371974477094753837079750333212244864716272834824624631026604'),\n",
       " PosixPath('data/data_22771405297338596775424090404794090804485761578859280315411295685988902416600'),\n",
       " PosixPath('data/data_105136164504658318635450245989302495870350750707325824581711858192877103637712'),\n",
       " PosixPath('data/data_27276423848025477494446635136408386792531533472678622987986712142872161206890'),\n",
       " PosixPath('data/data_44982867214874367080911985581756226402909982182046885212354128477701385192684'),\n",
       " PosixPath('data/data_83017692612952259930760215637374179471935327456582573111807201143016141185860')]"
      ]
     },
     "execution_count": 169,
     "metadata": {},
     "output_type": "execute_result"
    }
   ],
   "source": [
    "len(skips)"
   ]
  },
  {
   "cell_type": "code",
   "execution_count": null,
   "metadata": {},
   "outputs": [
    {
     "data": {
      "text/html": [
       "<div>\n",
       "<style scoped>\n",
       "    .dataframe tbody tr th:only-of-type {\n",
       "        vertical-align: middle;\n",
       "    }\n",
       "\n",
       "    .dataframe tbody tr th {\n",
       "        vertical-align: top;\n",
       "    }\n",
       "\n",
       "    .dataframe thead th {\n",
       "        text-align: right;\n",
       "    }\n",
       "</style>\n",
       "<table border=\"1\" class=\"dataframe\">\n",
       "  <thead>\n",
       "    <tr style=\"text-align: right;\">\n",
       "      <th></th>\n",
       "      <th>time</th>\n",
       "      <th>agent</th>\n",
       "      <th>opinion</th>\n",
       "      <th>n_agents</th>\n",
       "      <th>n_links</th>\n",
       "      <th>l</th>\n",
       "      <th>t_max</th>\n",
       "      <th>mu</th>\n",
       "      <th>p</th>\n",
       "      <th>q</th>\n",
       "      <th>epsilon</th>\n",
       "      <th>following_methods</th>\n",
       "      <th>sns_seed</th>\n",
       "      <th>nudge_strength</th>\n",
       "      <th>nudge_sample_size</th>\n",
       "      <th>nudge_method</th>\n",
       "      <th>nudge_delay</th>\n",
       "    </tr>\n",
       "  </thead>\n",
       "  <tbody>\n",
       "    <tr>\n",
       "      <th>0</th>\n",
       "      <td>5000</td>\n",
       "      <td>0</td>\n",
       "      <td>-0.377099</td>\n",
       "      <td>100</td>\n",
       "      <td>400</td>\n",
       "      <td>10</td>\n",
       "      <td>50000</td>\n",
       "      <td>0.5</td>\n",
       "      <td>0.5</td>\n",
       "      <td>0.5</td>\n",
       "      <td>0.5</td>\n",
       "      <td>['Random']</td>\n",
       "      <td>1</td>\n",
       "      <td>0.01</td>\n",
       "      <td>1</td>\n",
       "      <td>full_nudge)</td>\n",
       "      <td>5000</td>\n",
       "    </tr>\n",
       "    <tr>\n",
       "      <th>1</th>\n",
       "      <td>10000</td>\n",
       "      <td>0</td>\n",
       "      <td>-0.381975</td>\n",
       "      <td>100</td>\n",
       "      <td>400</td>\n",
       "      <td>10</td>\n",
       "      <td>50000</td>\n",
       "      <td>0.5</td>\n",
       "      <td>0.5</td>\n",
       "      <td>0.5</td>\n",
       "      <td>0.5</td>\n",
       "      <td>['Random']</td>\n",
       "      <td>1</td>\n",
       "      <td>0.01</td>\n",
       "      <td>1</td>\n",
       "      <td>full_nudge)</td>\n",
       "      <td>5000</td>\n",
       "    </tr>\n",
       "    <tr>\n",
       "      <th>2</th>\n",
       "      <td>15000</td>\n",
       "      <td>0</td>\n",
       "      <td>-0.372856</td>\n",
       "      <td>100</td>\n",
       "      <td>400</td>\n",
       "      <td>10</td>\n",
       "      <td>50000</td>\n",
       "      <td>0.5</td>\n",
       "      <td>0.5</td>\n",
       "      <td>0.5</td>\n",
       "      <td>0.5</td>\n",
       "      <td>['Random']</td>\n",
       "      <td>1</td>\n",
       "      <td>0.01</td>\n",
       "      <td>1</td>\n",
       "      <td>full_nudge)</td>\n",
       "      <td>5000</td>\n",
       "    </tr>\n",
       "    <tr>\n",
       "      <th>3</th>\n",
       "      <td>20000</td>\n",
       "      <td>0</td>\n",
       "      <td>-0.369399</td>\n",
       "      <td>100</td>\n",
       "      <td>400</td>\n",
       "      <td>10</td>\n",
       "      <td>50000</td>\n",
       "      <td>0.5</td>\n",
       "      <td>0.5</td>\n",
       "      <td>0.5</td>\n",
       "      <td>0.5</td>\n",
       "      <td>['Random']</td>\n",
       "      <td>1</td>\n",
       "      <td>0.01</td>\n",
       "      <td>1</td>\n",
       "      <td>full_nudge)</td>\n",
       "      <td>5000</td>\n",
       "    </tr>\n",
       "    <tr>\n",
       "      <th>4</th>\n",
       "      <td>25000</td>\n",
       "      <td>0</td>\n",
       "      <td>-0.387290</td>\n",
       "      <td>100</td>\n",
       "      <td>400</td>\n",
       "      <td>10</td>\n",
       "      <td>50000</td>\n",
       "      <td>0.5</td>\n",
       "      <td>0.5</td>\n",
       "      <td>0.5</td>\n",
       "      <td>0.5</td>\n",
       "      <td>['Random']</td>\n",
       "      <td>1</td>\n",
       "      <td>0.01</td>\n",
       "      <td>1</td>\n",
       "      <td>full_nudge)</td>\n",
       "      <td>5000</td>\n",
       "    </tr>\n",
       "    <tr>\n",
       "      <th>...</th>\n",
       "      <td>...</td>\n",
       "      <td>...</td>\n",
       "      <td>...</td>\n",
       "      <td>...</td>\n",
       "      <td>...</td>\n",
       "      <td>...</td>\n",
       "      <td>...</td>\n",
       "      <td>...</td>\n",
       "      <td>...</td>\n",
       "      <td>...</td>\n",
       "      <td>...</td>\n",
       "      <td>...</td>\n",
       "      <td>...</td>\n",
       "      <td>...</td>\n",
       "      <td>...</td>\n",
       "      <td>...</td>\n",
       "      <td>...</td>\n",
       "    </tr>\n",
       "    <tr>\n",
       "      <th>86595</th>\n",
       "      <td>30000</td>\n",
       "      <td>99</td>\n",
       "      <td>-0.465186</td>\n",
       "      <td>100</td>\n",
       "      <td>400</td>\n",
       "      <td>10</td>\n",
       "      <td>50000</td>\n",
       "      <td>0.5</td>\n",
       "      <td>0.5</td>\n",
       "      <td>0.5</td>\n",
       "      <td>0.5</td>\n",
       "      <td>['Random']</td>\n",
       "      <td>170249</td>\n",
       "      <td>0</td>\n",
       "      <td>0</td>\n",
       "      <td>None</td>\n",
       "      <td>5000</td>\n",
       "    </tr>\n",
       "    <tr>\n",
       "      <th>86596</th>\n",
       "      <td>35000</td>\n",
       "      <td>99</td>\n",
       "      <td>-0.465186</td>\n",
       "      <td>100</td>\n",
       "      <td>400</td>\n",
       "      <td>10</td>\n",
       "      <td>50000</td>\n",
       "      <td>0.5</td>\n",
       "      <td>0.5</td>\n",
       "      <td>0.5</td>\n",
       "      <td>0.5</td>\n",
       "      <td>['Random']</td>\n",
       "      <td>170249</td>\n",
       "      <td>0</td>\n",
       "      <td>0</td>\n",
       "      <td>None</td>\n",
       "      <td>5000</td>\n",
       "    </tr>\n",
       "    <tr>\n",
       "      <th>86597</th>\n",
       "      <td>40000</td>\n",
       "      <td>99</td>\n",
       "      <td>-0.465186</td>\n",
       "      <td>100</td>\n",
       "      <td>400</td>\n",
       "      <td>10</td>\n",
       "      <td>50000</td>\n",
       "      <td>0.5</td>\n",
       "      <td>0.5</td>\n",
       "      <td>0.5</td>\n",
       "      <td>0.5</td>\n",
       "      <td>['Random']</td>\n",
       "      <td>170249</td>\n",
       "      <td>0</td>\n",
       "      <td>0</td>\n",
       "      <td>None</td>\n",
       "      <td>5000</td>\n",
       "    </tr>\n",
       "    <tr>\n",
       "      <th>86598</th>\n",
       "      <td>45000</td>\n",
       "      <td>99</td>\n",
       "      <td>-0.465186</td>\n",
       "      <td>100</td>\n",
       "      <td>400</td>\n",
       "      <td>10</td>\n",
       "      <td>50000</td>\n",
       "      <td>0.5</td>\n",
       "      <td>0.5</td>\n",
       "      <td>0.5</td>\n",
       "      <td>0.5</td>\n",
       "      <td>['Random']</td>\n",
       "      <td>170249</td>\n",
       "      <td>0</td>\n",
       "      <td>0</td>\n",
       "      <td>None</td>\n",
       "      <td>5000</td>\n",
       "    </tr>\n",
       "    <tr>\n",
       "      <th>86599</th>\n",
       "      <td>49999</td>\n",
       "      <td>99</td>\n",
       "      <td>-0.465186</td>\n",
       "      <td>100</td>\n",
       "      <td>400</td>\n",
       "      <td>10</td>\n",
       "      <td>50000</td>\n",
       "      <td>0.5</td>\n",
       "      <td>0.5</td>\n",
       "      <td>0.5</td>\n",
       "      <td>0.5</td>\n",
       "      <td>['Random']</td>\n",
       "      <td>170249</td>\n",
       "      <td>0</td>\n",
       "      <td>0</td>\n",
       "      <td>None</td>\n",
       "      <td>5000</td>\n",
       "    </tr>\n",
       "  </tbody>\n",
       "</table>\n",
       "<p>86600 rows × 17 columns</p>\n",
       "</div>"
      ],
      "text/plain": [
       "        time agent   opinion n_agents n_links   l  t_max   mu    p    q  \\\n",
       "0       5000     0 -0.377099      100     400  10  50000  0.5  0.5  0.5   \n",
       "1      10000     0 -0.381975      100     400  10  50000  0.5  0.5  0.5   \n",
       "2      15000     0 -0.372856      100     400  10  50000  0.5  0.5  0.5   \n",
       "3      20000     0 -0.369399      100     400  10  50000  0.5  0.5  0.5   \n",
       "4      25000     0 -0.387290      100     400  10  50000  0.5  0.5  0.5   \n",
       "...      ...   ...       ...      ...     ...  ..    ...  ...  ...  ...   \n",
       "86595  30000    99 -0.465186      100     400  10  50000  0.5  0.5  0.5   \n",
       "86596  35000    99 -0.465186      100     400  10  50000  0.5  0.5  0.5   \n",
       "86597  40000    99 -0.465186      100     400  10  50000  0.5  0.5  0.5   \n",
       "86598  45000    99 -0.465186      100     400  10  50000  0.5  0.5  0.5   \n",
       "86599  49999    99 -0.465186      100     400  10  50000  0.5  0.5  0.5   \n",
       "\n",
       "      epsilon following_methods sns_seed nudge_strength nudge_sample_size  \\\n",
       "0         0.5        ['Random']        1           0.01                 1   \n",
       "1         0.5        ['Random']        1           0.01                 1   \n",
       "2         0.5        ['Random']        1           0.01                 1   \n",
       "3         0.5        ['Random']        1           0.01                 1   \n",
       "4         0.5        ['Random']        1           0.01                 1   \n",
       "...       ...               ...      ...            ...               ...   \n",
       "86595     0.5        ['Random']   170249              0                 0   \n",
       "86596     0.5        ['Random']   170249              0                 0   \n",
       "86597     0.5        ['Random']   170249              0                 0   \n",
       "86598     0.5        ['Random']   170249              0                 0   \n",
       "86599     0.5        ['Random']   170249              0                 0   \n",
       "\n",
       "      nudge_method nudge_delay  \n",
       "0      full_nudge)        5000  \n",
       "1      full_nudge)        5000  \n",
       "2      full_nudge)        5000  \n",
       "3      full_nudge)        5000  \n",
       "4      full_nudge)        5000  \n",
       "...            ...         ...  \n",
       "86595         None        5000  \n",
       "86596         None        5000  \n",
       "86597         None        5000  \n",
       "86598         None        5000  \n",
       "86599         None        5000  \n",
       "\n",
       "[86600 rows x 17 columns]"
      ]
     },
     "execution_count": 164,
     "metadata": {},
     "output_type": "execute_result"
    }
   ],
   "source": [
    "t_points = list(range(nudge_delay, t_max, nudge_delay))\n",
    "t_points.append(t_max - 1)\n",
    "df_t = df[df[\"time\"].isin(t_points)].to_pandas_df()\n",
    "df_t\n"
   ]
  },
  {
   "cell_type": "code",
   "execution_count": null,
   "metadata": {},
   "outputs": [
    {
     "data": {
      "text/html": [
       "<div>\n",
       "<style scoped>\n",
       "    .dataframe tbody tr th:only-of-type {\n",
       "        vertical-align: middle;\n",
       "    }\n",
       "\n",
       "    .dataframe tbody tr th {\n",
       "        vertical-align: top;\n",
       "    }\n",
       "\n",
       "    .dataframe thead th {\n",
       "        text-align: right;\n",
       "    }\n",
       "</style>\n",
       "<table border=\"1\" class=\"dataframe\">\n",
       "  <thead>\n",
       "    <tr style=\"text-align: right;\">\n",
       "      <th></th>\n",
       "      <th>nudge_strength</th>\n",
       "      <th>nudge_sample_size</th>\n",
       "      <th>peak_decrease</th>\n",
       "    </tr>\n",
       "  </thead>\n",
       "  <tbody>\n",
       "    <tr>\n",
       "      <th>0</th>\n",
       "      <td>0.01</td>\n",
       "      <td>1</td>\n",
       "      <td>0.000000</td>\n",
       "    </tr>\n",
       "    <tr>\n",
       "      <th>1</th>\n",
       "      <td>0.01</td>\n",
       "      <td>10</td>\n",
       "      <td>-0.200000</td>\n",
       "    </tr>\n",
       "    <tr>\n",
       "      <th>2</th>\n",
       "      <td>0.01</td>\n",
       "      <td>5</td>\n",
       "      <td>-0.150000</td>\n",
       "    </tr>\n",
       "    <tr>\n",
       "      <th>3</th>\n",
       "      <td>0.05</td>\n",
       "      <td>1</td>\n",
       "      <td>-0.400000</td>\n",
       "    </tr>\n",
       "    <tr>\n",
       "      <th>4</th>\n",
       "      <td>0.05</td>\n",
       "      <td>10</td>\n",
       "      <td>0.000000</td>\n",
       "    </tr>\n",
       "    <tr>\n",
       "      <th>5</th>\n",
       "      <td>0.05</td>\n",
       "      <td>5</td>\n",
       "      <td>-0.800000</td>\n",
       "    </tr>\n",
       "    <tr>\n",
       "      <th>6</th>\n",
       "      <td>0.1</td>\n",
       "      <td>1</td>\n",
       "      <td>-0.133333</td>\n",
       "    </tr>\n",
       "    <tr>\n",
       "      <th>7</th>\n",
       "      <td>0.1</td>\n",
       "      <td>10</td>\n",
       "      <td>-0.200000</td>\n",
       "    </tr>\n",
       "    <tr>\n",
       "      <th>8</th>\n",
       "      <td>0.1</td>\n",
       "      <td>5</td>\n",
       "      <td>-0.400000</td>\n",
       "    </tr>\n",
       "    <tr>\n",
       "      <th>9</th>\n",
       "      <td>0.15</td>\n",
       "      <td>1</td>\n",
       "      <td>-1.200000</td>\n",
       "    </tr>\n",
       "    <tr>\n",
       "      <th>10</th>\n",
       "      <td>0.15</td>\n",
       "      <td>10</td>\n",
       "      <td>-1.000000</td>\n",
       "    </tr>\n",
       "    <tr>\n",
       "      <th>11</th>\n",
       "      <td>0.15</td>\n",
       "      <td>5</td>\n",
       "      <td>-0.800000</td>\n",
       "    </tr>\n",
       "    <tr>\n",
       "      <th>12</th>\n",
       "      <td>0.2</td>\n",
       "      <td>1</td>\n",
       "      <td>-1.333333</td>\n",
       "    </tr>\n",
       "    <tr>\n",
       "      <th>13</th>\n",
       "      <td>0.2</td>\n",
       "      <td>10</td>\n",
       "      <td>-1.500000</td>\n",
       "    </tr>\n",
       "    <tr>\n",
       "      <th>14</th>\n",
       "      <td>0.2</td>\n",
       "      <td>5</td>\n",
       "      <td>-1.000000</td>\n",
       "    </tr>\n",
       "    <tr>\n",
       "      <th>15</th>\n",
       "      <td>0.3</td>\n",
       "      <td>10</td>\n",
       "      <td>-2.000000</td>\n",
       "    </tr>\n",
       "    <tr>\n",
       "      <th>16</th>\n",
       "      <td>0.3</td>\n",
       "      <td>5</td>\n",
       "      <td>-1.000000</td>\n",
       "    </tr>\n",
       "  </tbody>\n",
       "</table>\n",
       "</div>"
      ],
      "text/plain": [
       "   nudge_strength nudge_sample_size  peak_decrease\n",
       "0            0.01                 1       0.000000\n",
       "1            0.01                10      -0.200000\n",
       "2            0.01                 5      -0.150000\n",
       "3            0.05                 1      -0.400000\n",
       "4            0.05                10       0.000000\n",
       "5            0.05                 5      -0.800000\n",
       "6             0.1                 1      -0.133333\n",
       "7             0.1                10      -0.200000\n",
       "8             0.1                 5      -0.400000\n",
       "9            0.15                 1      -1.200000\n",
       "10           0.15                10      -1.000000\n",
       "11           0.15                 5      -0.800000\n",
       "12            0.2                 1      -1.333333\n",
       "13            0.2                10      -1.500000\n",
       "14            0.2                 5      -1.000000\n",
       "15            0.3                10      -2.000000\n",
       "16            0.3                 5      -1.000000"
      ]
     },
     "execution_count": 255,
     "metadata": {},
     "output_type": "execute_result"
    }
   ],
   "source": [
    "df_peaks = (\n",
    "    df_t.groupby(\n",
    "        [\"time\", \"sns_seed\", \"nudge_strength\", \"nudge_sample_size\"],\n",
    "        as_index=False,\n",
    "    )\n",
    "    .apply(lambda x: num_opinion_peaks(x[\"opinion\"]))\n",
    "    .rename(columns={None: \"num_peaks\"})\n",
    ")\n",
    "df_avg_peaks = df_peaks.groupby(\n",
    "    [\"time\", \"nudge_strength\", \"nudge_sample_size\"], as_index=False\n",
    ").mean()\n",
    "\n",
    "df_avg_peaks = df_avg_peaks[df_avg_peaks[\"nudge_strength\"] != \"0\"]\n",
    "\n",
    "df_peak_decrease = df_avg_peaks.groupby([\"nudge_strength\", \"nudge_sample_size\"], as_index=False).apply(\n",
    "    lambda x: (\n",
    "        x[x[\"time\"] == t_points[-1]][\"num_peaks\"].values[0]\n",
    "        - x[x[\"time\"] == t_points[0]][\"num_peaks\"].values[0]\n",
    "    )\n",
    ").rename(columns={None: \"peak_decrease\"})\n",
    "df_peak_decrease"
   ]
  },
  {
   "cell_type": "code",
   "execution_count": null,
   "metadata": {},
   "outputs": [],
   "source": [
    "COL_MAPPING = {\n",
    "    \"nudge_strength\": \"D\",\n",
    "    \"nudge_sample_size\": \"n\",\n",
    "    \"peak_decrease\": \"change in number of peaks\",\n",
    "    \"num_peaks\": \"number of peaks\",\n",
    "}\n"
   ]
  },
  {
   "cell_type": "code",
   "execution_count": null,
   "metadata": {},
   "outputs": [
    {
     "data": {
      "image/png": "[encoded data removed]",
      "text/plain": [
       "<Figure size 1000x400 with 6 Axes>"
      ]
     },
     "metadata": {},
     "output_type": "display_data"
    },
    {
     "data": {
      "image/png": "[encoded data removed]",
      "text/plain": [
       "<Figure size 1200x800 with 2 Axes>"
      ]
     },
     "metadata": {},
     "output_type": "display_data"
    }
   ],
   "source": [
    "vis_t_points = t_points[:2] + [t_points[len(t_points)//2]]+ t_points[-2:]\n",
    "fig, axes = plt.subplots(ncols=len(vis_t_points), sharex=True, sharey=True, figsize=(5, 2))\n",
    "vmin = max(1, df_avg_peaks[\"num_peaks\"].min())\n",
    "vmax = min(2, df_avg_peaks[\"num_peaks\"].max())\n",
    "for t, ax in zip(vis_t_points, axes):\n",
    "    df_wide = (\n",
    "        df_avg_peaks[df_avg_peaks[\"time\"] == t]\n",
    "        .rename(columns=COL_MAPPING)\n",
    "        .pivot(\"n\", \"D\", COL_MAPPING[\"num_peaks\"])\n",
    "    )\n",
    "    df_wide.columns = df_wide.columns.astype(float)\n",
    "    df_wide.index = df_wide.index.astype(int)\n",
    "    df_wide = df_wide.sort_index(axis=1).sort_index(axis=0)\n",
    "    df_wide.columns = [f\"{x:.2f}\" for x in df_wide.columns]\n",
    "\n",
    "    sns.heatmap(\n",
    "        df_wide.iloc[::-1],\n",
    "        vmin=vmin,\n",
    "        vmax=vmax,\n",
    "        mask=df_wide.iloc[::-1].isna(),\n",
    "        cmap=\"flare\",\n",
    "        ax=ax,\n",
    "        cbar=ax == axes[-1],\n",
    "        cbar_kws={\"label\": \"number of groups\"},\n",
    "        # annot=True,\n",
    "        # fmt=\".1f\",\n",
    "    )\n",
    "    ax.set_facecolor('#eeeeee') # missing values\n",
    "    if ax != axes[0]:\n",
    "        ax.set_ylabel(\"\")\n",
    "    if ax==axes[-1]:\n",
    "        ax.set_title(\"$t_{max}$\", fontsize=\"large\")\n",
    "\n",
    "    else:\n",
    "        ax.set_title(f\"{t}\", fontsize=\"large\")\n",
    "\n",
    "\n",
    "df_peak_wide = df_peak_decrease.rename(columns=COL_MAPPING).pivot(\n",
    "    \"n\", \"D\", values=COL_MAPPING[\"peak_decrease\"]\n",
    ")\n",
    "df_peak_wide.columns = df_peak_wide.columns.astype(float)\n",
    "df_peak_wide.index = df_peak_wide.index.astype(int)\n",
    "df_peak_wide = df_peak_wide.sort_index(axis=1).sort_index(axis=0)\n",
    "vals = df_peak_wide.iloc[::-1].abs()\n",
    "\n",
    "fig, ax = plt.subplots()       \n",
    "g = sns.heatmap(vals, mask=vals.isna(), cmap=\"viridis\", cbar_kws={\"label\": \"change in number of groups\"}, ax=ax)\n",
    "g.set_facecolor('#eeeeee') # missing values\n"
   ]
  },
  {
   "cell_type": "code",
   "execution_count": null,
   "metadata": {},
   "outputs": [],
   "source": []
  }
 ],
 "metadata": {
  "interpreter": {
   "hash": "226e61cfb92a8b9c45768d4612b038ed73a395d12ebf56dc7d964d2bb7591a57"
  },
  "kernelspec": {
   "display_name": "Python 3.9.7 64-bit ('opinion_dynamics': conda)",
   "language": "python",
   "name": "python3"
  },
  "language_info": {
   "codemirror_mode": {
    "name": "ipython",
    "version": 3
   },
   "file_extension": ".py",
   "mimetype": "text/x-python",
   "name": "python",
   "nbconvert_exporter": "python",
   "pygments_lexer": "ipython3",
   "version": "3.9.7"
  },
  "orig_nbformat": 4
 },
 "nbformat": 4,
 "nbformat_minor": 2
}
